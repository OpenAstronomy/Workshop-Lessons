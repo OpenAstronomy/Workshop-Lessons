{
 "cells": [
  {
   "cell_type": "markdown",
   "metadata": {},
   "source": [
    "# Introduction to SunPy - Other Stuff"
   ]
  },
  {
   "cell_type": "markdown",
   "metadata": {},
   "source": [
    "As well as useful tools for dealing with data, SunPy also comes with a lot of helpful utilities and constants. Today we'll have a brief look at some of these."
   ]
  },
  {
   "cell_type": "markdown",
   "metadata": {},
   "source": [
    "## Solar variables\n",
    "\n",
    "First we'll look at the `sunpy.sun` module, which contains functions used to calculate useful values based on the time."
   ]
  },
  {
   "cell_type": "code",
   "execution_count": null,
   "metadata": {
    "collapsed": false
   },
   "outputs": [],
   "source": [
    "import sunpy.sun\n",
    "\n",
    "# The dir() function lists the contents of a library\n",
    "dir(sunpy.sun)"
   ]
  },
  {
   "cell_type": "code",
   "execution_count": null,
   "metadata": {
    "collapsed": false
   },
   "outputs": [],
   "source": [
    "print(sunpy.sun.carrington_rotation_number())\n",
    "print(sunpy.sun.carrington_rotation_number('2014-01-11'))\n",
    "\n",
    "print(sunpy.sun.sunearth_distance())\n",
    "print(sunpy.sun.sunearth_distance('2015-10-21'))"
   ]
  },
  {
   "cell_type": "markdown",
   "metadata": {},
   "source": [
    "## Solar constants"
   ]
  },
  {
   "cell_type": "markdown",
   "metadata": {},
   "source": [
    "There is also a module of constants:"
   ]
  },
  {
   "cell_type": "code",
   "execution_count": null,
   "metadata": {
    "collapsed": false
   },
   "outputs": [],
   "source": [
    "from sunpy.sun import constants as con\n",
    "\n",
    "dir(con)\n",
    "print(con.au)\n",
    "print(con.radius)\n",
    "print(con.surface_gravity)"
   ]
  },
  {
   "cell_type": "markdown",
   "metadata": {},
   "source": [
    "You'll notice that these constants define not only the value, but the units, uncertainty, and source of the measurement as well. However, when not being printed, they behave as normal Quantities, so you can perform calculations with them as normal:"
   ]
  },
  {
   "cell_type": "code",
   "execution_count": null,
   "metadata": {
    "collapsed": false
   },
   "outputs": [],
   "source": [
    "print(con.radius * 2)"
   ]
  },
  {
   "cell_type": "markdown",
   "metadata": {},
   "source": [
    "## Dealing with Time"
   ]
  },
  {
   "cell_type": "markdown",
   "metadata": {},
   "source": [
    "Python has a built in library called `datetime` which provides a lot of tools for dealing with dates and times. In particular, the `datetime` type is an extremely useful and flexible representation of a point in time."
   ]
  },
  {
   "cell_type": "code",
   "execution_count": null,
   "metadata": {
    "collapsed": false
   },
   "outputs": [],
   "source": [
    "import datetime as dt\n",
    "\n",
    "# Get the date and time right now\n",
    "now = dt.datetime.now()\n",
    "print(now)\n",
    "\n",
    "# Define some other time\n",
    "then = dt.datetime(2015, 10, 21, 7, 28)\n",
    "print(then)"
   ]
  },
  {
   "cell_type": "markdown",
   "metadata": {},
   "source": [
    "In the time definition above we specify a particular point in time by passing integers for the year, month, day, hour and minute (in that order). Of these, only the year, month and day are actually necessary - the time defaults to midnight if not specified. We can also add greater precision by providing a second and microsecond.\n",
    "\n",
    "You can compare datetime objects to produce a `timedelta` object:"
   ]
  },
  {
   "cell_type": "code",
   "execution_count": null,
   "metadata": {
    "collapsed": false
   },
   "outputs": [],
   "source": [
    "dt = now - then\n",
    "print(dt)"
   ]
  },
  {
   "cell_type": "markdown",
   "metadata": {},
   "source": [
    "which you can also then use in other operations with `datetime`s:"
   ]
  },
  {
   "cell_type": "code",
   "execution_count": null,
   "metadata": {
    "collapsed": false
   },
   "outputs": [],
   "source": [
    "later = now + dt\n",
    "print(later)"
   ]
  },
  {
   "cell_type": "markdown",
   "metadata": {},
   "source": [
    "The `datetime` library is very useful and well worth having a more detailed look at ([here](https://docs.python.org/3/library/datetime.html)). In some cases, though, it doesn't do quite enough, which is where the `sunpy.time` module can come in handy.\n",
    "\n",
    "Among the utilities provided by `sunpy.time` are the `parse_time()` function and the `TimeRange` object. `parse_time()` takes a string and converts it to a `datetime` variable as long as that string is in a valid time format."
   ]
  },
  {
   "cell_type": "code",
   "execution_count": null,
   "metadata": {
    "collapsed": false
   },
   "outputs": [],
   "source": [
    "import sunpy.time\n",
    "\n",
    "sunpy.time.parse_time('2015-10-21 07:28')\n",
    "sunpy.time.parse_time('2015/10/21 07:28')"
   ]
  },
  {
   "cell_type": "markdown",
   "metadata": {},
   "source": [
    "This is often particularly useful, since the only information we have about the date of our data is usually in string format, rather than the intgers needed to create a `datetime` object manually.\n",
    "\n",
    "The `TimeRange` object defines a span of time and calculates some information about that span."
   ]
  },
  {
   "cell_type": "code",
   "execution_count": null,
   "metadata": {
    "collapsed": false
   },
   "outputs": [],
   "source": [
    "tr = sunpy.time.TimeRange(then, now)\n",
    "print(tr.start, tr.end)\n",
    "print(tr.center, tr.dt, tr.seconds)"
   ]
  },
  {
   "cell_type": "code",
   "execution_count": null,
   "metadata": {
    "collapsed": false
   },
   "outputs": [],
   "source": [
    "tr2 = tr.next()\n",
    "print(tr2.start, tr2.end)\n",
    "print(tr2.center, tr2.dt, tr.seconds)"
   ]
  }
 ],
 "metadata": {
  "kernelspec": {
   "display_name": "Python 3",
   "language": "python",
   "name": "python3"
  },
  "language_info": {
   "codemirror_mode": {
    "name": "ipython",
    "version": 3
   },
   "file_extension": ".py",
   "mimetype": "text/x-python",
   "name": "python",
   "nbconvert_exporter": "python",
   "pygments_lexer": "ipython3",
   "version": "3.5.2"
  }
 },
 "nbformat": 4,
 "nbformat_minor": 0
}
