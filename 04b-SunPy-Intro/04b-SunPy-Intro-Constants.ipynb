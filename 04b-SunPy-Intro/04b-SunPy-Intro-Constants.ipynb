{
 "nbformat_minor": 0,
 "metadata": {
  "language_info": {
   "file_extension": ".py",
   "name": "python",
   "version": "3.5.2",
   "nbconvert_exporter": "python",
   "pygments_lexer": "ipython3",
   "codemirror_mode": {
    "name": "ipython",
    "version": 3
   },
   "mimetype": "text/x-python"
  },
  "kernelspec": {
   "display_name": "Python 3",
   "name": "python3",
   "language": "python"
  }
 },
 "cells": [
  {
   "cell_type": "markdown",
   "metadata": {},
   "source": [
    "# Introduction to SunPy - Other Stuff"
   ]
  },
  {
   "cell_type": "markdown",
   "metadata": {},
   "source": [
    "As well as useful tools for dealing with data, SunPy also comes with a lot of helpful utilities and constants. Today we'll have a brief look at some of these."
   ]
  },
  {
   "cell_type": "markdown",
   "metadata": {},
   "source": [
    "## Solar variables\n",
    "\n",
    "First we'll look at the `sunpy.sun` module, which contains functions used to calculate useful values based on the time."
   ]
  },
  {
   "cell_type": "code",
   "metadata": {
    "collapsed": false
   },
   "execution_count": null,
   "source": [
    "# The dir() function lists the contents of a library\n"
   ],
   "outputs": []
  },
  {
   "cell_type": "code",
   "metadata": {
    "collapsed": false
   },
   "execution_count": null,
   "source": [],
   "outputs": []
  },
  {
   "cell_type": "markdown",
   "metadata": {},
   "source": [
    "## Solar constants"
   ]
  },
  {
   "cell_type": "markdown",
   "metadata": {},
   "source": [
    "There is also a module of constants:"
   ]
  },
  {
   "cell_type": "code",
   "metadata": {
    "collapsed": false
   },
   "execution_count": null,
   "source": [],
   "outputs": []
  },
  {
   "cell_type": "markdown",
   "metadata": {},
   "source": [
    "You'll notice that these constants define not only the value, but the units, uncertainty, and source of the measurement as well. However, when not being printed, they behave as normal Quantities, so you can perform calculations with them as normal:"
   ]
  },
  {
   "cell_type": "code",
   "metadata": {
    "collapsed": false
   },
   "execution_count": null,
   "source": [],
   "outputs": []
  },
  {
   "cell_type": "markdown",
   "metadata": {},
   "source": [
    "## Dealing with Time"
   ]
  },
  {
   "cell_type": "markdown",
   "metadata": {},
   "source": [
    "Python has a built in library called `datetime` which provides a lot of tools for dealing with dates and times. In particular, the `datetime` type is an extremely useful and flexible representation of a point in time."
   ]
  },
  {
   "cell_type": "code",
   "metadata": {
    "collapsed": false
   },
   "execution_count": null,
   "source": [
    "# Get the date and time right now\n",
    "# Define some other time\n"
   ],
   "outputs": []
  },
  {
   "cell_type": "markdown",
   "metadata": {},
   "source": [
    "In the time definition above we specify a particular point in time by passing integers for the year, month, day, hour and minute (in that order). Of these, only the year, month and day are actually necessary - the time defaults to midnight if not specified. We can also add greater precision by providing a second and microsecond.\n",
    "\n",
    "You can compare datetime objects to produce a `timedelta` object:"
   ]
  },
  {
   "cell_type": "code",
   "metadata": {
    "collapsed": false
   },
   "execution_count": null,
   "source": [],
   "outputs": []
  },
  {
   "cell_type": "markdown",
   "metadata": {},
   "source": [
    "which you can also then use in other operations with `datetime`s:"
   ]
  },
  {
   "cell_type": "code",
   "metadata": {
    "collapsed": false
   },
   "execution_count": null,
   "source": [],
   "outputs": []
  },
  {
   "cell_type": "markdown",
   "metadata": {},
   "source": [
    "The `datetime` library is very useful and well worth having a more detailed look at ([here](https://docs.python.org/3/library/datetime.html)). In some cases, though, it doesn't do quite enough, which is where the `sunpy.time` module can come in handy.\n",
    "\n",
    "Among the utilities provided by `sunpy.time` are the `parse_time()` function and the `TimeRange` object. `parse_time()` takes a string and converts it to a `datetime` variable as long as that string is in a valid time format."
   ]
  },
  {
   "cell_type": "code",
   "metadata": {
    "collapsed": false
   },
   "execution_count": null,
   "source": [],
   "outputs": []
  },
  {
   "cell_type": "markdown",
   "metadata": {},
   "source": [
    "This is often particularly useful, since the only information we have about the date of our data is usually in string format, rather than the intgers needed to create a `datetime` object manually.\n",
    "\n",
    "The `TimeRange` object defines a span of time and calculates some information about that span."
   ]
  },
  {
   "cell_type": "code",
   "metadata": {
    "collapsed": false
   },
   "execution_count": null,
   "source": [],
   "outputs": []
  },
  {
   "cell_type": "code",
   "metadata": {
    "collapsed": false
   },
   "execution_count": null,
   "source": [],
   "outputs": []
  }
 ],
 "nbformat": 4
}