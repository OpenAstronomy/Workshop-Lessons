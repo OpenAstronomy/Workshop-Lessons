{
 "cells": [
  {
   "cell_type": "markdown",
   "metadata": {},
   "source": [
    "# Introduction to SunPy"
   ]
  },
  {
   "cell_type": "markdown",
   "metadata": {},
   "source": [
    "## Useful Links\n",
    "\n",
    "1. [SunPy Map Documentation](http://docs.sunpy.org/en/stable/guide/data_types/maps.html)\n",
    "1. [SunPy Example Gallery](http://docs.sunpy.org/en/stable/generated/gallery/index.html)"
   ]
  },
  {
   "cell_type": "markdown",
   "metadata": {},
   "source": [
    "## Working with solar data"
   ]
  },
  {
   "cell_type": "markdown",
   "metadata": {},
   "source": [
    "The core of SunPy's functionality is that it provides three objects for dealing with solar data types: `Map` for solar image data, `Lightcurve` for time-series data and `Spectra` for spectral data. Today we'll be focusing exclusively on `Map`, which is the most used and most developed, but it is worth being aware that the others exist should you need them.\n",
    "\n",
    "SunPy also provides several sample data files, which need to be manually downloaded. For this example we'll use the sample AIA 17.1nm image."
   ]
  },
  {
   "cell_type": "code",
   "execution_count": null,
   "metadata": {
    "collapsed": false
   },
   "outputs": [],
   "source": [
    "# Import statements\n",
    "import sunpy.map\n",
    "from sunpy.data import download_sample_data\n",
    "\n",
    "# This is needed to download the sample data\n",
    "#download_sample_data()"
   ]
  },
  {
   "cell_type": "markdown",
   "metadata": {},
   "source": [
    "Once the sample data has been downloaded, you can import the `AIA_171_IMAGE` variable. Notice that this is not the image itself, but a string corresponding to the location of the image on disk. A `Map` object is created by passing `Map()` the filename of a valid fits image file, such as the one defined in `AIA_171_IMAGE`."
   ]
  },
  {
   "cell_type": "code",
   "execution_count": null,
   "metadata": {
    "collapsed": false
   },
   "outputs": [],
   "source": [
    "from sunpy.data.sample import AIA_171_IMAGE\n",
    "\n",
    "print(AIA_171_IMAGE)\n",
    "mymap = sunpy.map.Map(AIA_171_IMAGE)\n",
    "\n",
    "print(mymap)"
   ]
  },
  {
   "cell_type": "markdown",
   "metadata": {},
   "source": [
    "The two most important attributes of this new variable are `mymap.data`, which contains an array of the pixel values of the image, and `mymap.meta`, which contains the header information. Both of these are loaded from the specified file."
   ]
  },
  {
   "cell_type": "code",
   "execution_count": null,
   "metadata": {
    "collapsed": false
   },
   "outputs": [],
   "source": [
    "print(mymap.data)\n",
    "print(mymap.meta)"
   ]
  },
  {
   "cell_type": "markdown",
   "metadata": {},
   "source": [
    "The disadvantage with FITS headers is that they're made to be rad by a computer rather than a human, so it isn't always immediately clear what a particular keyword refers to. Fortunately, Map has a lot of attributes which reproduce the metadata in a more useable format, so in practice you shouldn't often have to deal with `Map.meta` directly. For instance:"
   ]
  },
  {
   "cell_type": "code",
   "execution_count": null,
   "metadata": {
    "collapsed": false
   },
   "outputs": [],
   "source": [
    "print(mymap.date) # Nicer than mymap.meta['t_obs']\n",
    "print(mymap.coordinate_system) # Nicer than mymap.meta['ctype1'], mymap.meta['ctype2']"
   ]
  },
  {
   "cell_type": "markdown",
   "metadata": {},
   "source": [
    "`Map` also has some attributes and methods which reproduce functionality of NumPy arrays, so you can work with map data in many of the same ways as we've been working with arrays in previous sessions:"
   ]
  },
  {
   "cell_type": "code",
   "execution_count": null,
   "metadata": {
    "collapsed": false
   },
   "outputs": [],
   "source": [
    "print(mymap.min(), mymap.mean(), mymap.max(), mymap.std())"
   ]
  },
  {
   "cell_type": "markdown",
   "metadata": {},
   "source": [
    "## Displaying Maps"
   ]
  },
  {
   "cell_type": "markdown",
   "metadata": {},
   "source": [
    "Now let's get back to displaying data. There are two methods for plotting and displaying a `Map`. The first is `peek()`. This method is quick and easy to use, and automatically does a few things to make the plot look nice - it adds a title, sensible axes labels, a colourbar and a coordinate grid."
   ]
  },
  {
   "cell_type": "code",
   "execution_count": null,
   "metadata": {
    "collapsed": false,
    "scrolled": true
   },
   "outputs": [],
   "source": [
    "import matplotlib.pyplot as plt\n",
    "%matplotlib notebook\n",
    "\n",
    "mymap.peek()"
   ]
  },
  {
   "cell_type": "markdown",
   "metadata": {},
   "source": [
    "This is useful for quickly inspecting data, but can't really be customised much past this stage, so it isn't very flexible.\n",
    "\n",
    "The other plotting method, `plot()`, produces a very slightly simpler plot by default:"
   ]
  },
  {
   "cell_type": "code",
   "execution_count": null,
   "metadata": {
    "collapsed": false
   },
   "outputs": [],
   "source": [
    "fig = plt.figure()\n",
    "mymap.plot()\n",
    "plt.show()"
   ]
  },
  {
   "cell_type": "markdown",
   "metadata": {},
   "source": [
    "But the advantage of using this method is that it provides a plot that can be customised in many of the same ways as a normal line or image plot. This can be done with various functions in `pyplot`, and by passing keyword arguments to the `plot()` function."
   ]
  },
  {
   "cell_type": "code",
   "execution_count": null,
   "metadata": {
    "collapsed": false
   },
   "outputs": [],
   "source": [
    "fig, ax = plt.subplots()\n",
    "mymap.plot(vmin=500, vmax=1000)\n",
    "ax.set_title('The Sun')\n",
    "ax.set_xlabel('x')\n",
    "ax.set_ylabel('y')\n",
    "plt.set_cmap('Oranges_r')\n",
    "plt.colorbar()\n",
    "plt.show()"
   ]
  },
  {
   "cell_type": "markdown",
   "metadata": {},
   "source": [
    "### Adjusting `Map`s"
   ]
  },
  {
   "cell_type": "markdown",
   "metadata": {},
   "source": [
    "#### Rotation"
   ]
  },
  {
   "cell_type": "markdown",
   "metadata": {},
   "source": [
    "Quite often you may want to adjust the rotation of a `Map`, either to account for some known effect or to align multiple images. `Map`s have a dedicated method for this task, `Map.rotate()`, which can take an angle as argument and returns a new `Map`, rotated by that amount anti-clockwise. In the new `Map`, all the relevant header information is updated accordingly, so you never need to adjust it yourself when manipulating your data. In particular, the header stores the rotation of the data, and this is accessible through the `Map.rotation_matrix` attribute."
   ]
  },
  {
   "cell_type": "code",
   "execution_count": null,
   "metadata": {
    "collapsed": false
   },
   "outputs": [],
   "source": [
    "import numpy as np\n",
    "import astropy.units as u\n",
    "\n",
    "rotated_map = mymap.rotate((np.pi/6)*u.rad)\n",
    "print(mymap.rotation_matrix)\n",
    "print(rotated_map.rotation_matrix)"
   ]
  },
  {
   "cell_type": "markdown",
   "metadata": {},
   "source": [
    "If we plot the initial and rotated `Map`s, we can also see that the coordinate information has been updated."
   ]
  },
  {
   "cell_type": "code",
   "execution_count": null,
   "metadata": {
    "collapsed": false
   },
   "outputs": [],
   "source": [
    "# Draw lon-lat grids on plots to highlight the rotation\n",
    "mymap.peek(draw_grid=True)\n",
    "rotated_map.peek(draw_grid=True)"
   ]
  },
  {
   "cell_type": "markdown",
   "metadata": {},
   "source": [
    "You may also notice here that the `Map` has expanded so that no part of the original array is lost by the rotation.\n",
    "\n",
    "If you decide you want to reverse the rotation, the default behaviour of `Map.rotate()` makes this even easier. When no argument is provided, `rotate()` performs whatever rotation is required to reverse the current rotation of the `Map`."
   ]
  },
  {
   "cell_type": "code",
   "execution_count": null,
   "metadata": {
    "collapsed": false
   },
   "outputs": [],
   "source": [
    "restored_map = rotated_map.rotate()\n",
    "restored_map.peek(draw_grid=True)"
   ]
  },
  {
   "cell_type": "markdown",
   "metadata": {},
   "source": [
    "This is also very helpful when you are provided with data which is already rotated, since the header should describe that rotation:"
   ]
  },
  {
   "cell_type": "code",
   "execution_count": null,
   "metadata": {
    "collapsed": false
   },
   "outputs": [],
   "source": [
    "# Import data from during an AIA roll maneouver\n",
    "from sunpy.data.sample import AIA_171_ROLL_IMAGE\n",
    "\n",
    "rollmap = sunpy.map.Map(AIA_171_ROLL_IMAGE)\n",
    "print(rollmap.rotation_matrix)\n",
    "rollmap.peek(draw_grid=True)\n",
    "\n",
    "norollmap = rollmap.rotate()\n",
    "print(norollmap.rotation_matrix)\n",
    "norollmap.peek(draw_grid=True)"
   ]
  },
  {
   "cell_type": "code",
   "execution_count": null,
   "metadata": {
    "collapsed": false
   },
   "outputs": [],
   "source": [
    "rollmap.yrange"
   ]
  },
  {
   "cell_type": "markdown",
   "metadata": {},
   "source": [
    "### Submaps and coordinate ranges"
   ]
  },
  {
   "cell_type": "markdown",
   "metadata": {},
   "source": [
    "`Map`s have the very useful functionality of being croppable. Using the `submap` method, you can crop a `Map` to specified coordinates, creating a new map with an updated header, just like when we used `rotate()`."
   ]
  },
  {
   "cell_type": "code",
   "execution_count": null,
   "metadata": {
    "collapsed": false
   },
   "outputs": [],
   "source": [
    "# Check some information about the Map first.\n",
    "print(mymap.mean(), mymap.date, mymap.xrange)\n",
    "\n",
    "# Crop the Map and store the new one in another variable.\n",
    "smap = mymap.submap([-200, 0]*u.arcsec, [-450, -250]*u.arcsec)\n",
    "\n",
    "# Check the same information again\n",
    "print(smap.mean(), smap.date, smap.xrange)\n",
    "\n",
    "# Have a look\n",
    "smap.plot()\n",
    "plt.show()"
   ]
  },
  {
   "cell_type": "markdown",
   "metadata": {},
   "source": [
    "First, notice that the `Map` is aware of its own size in physical units: the `xrange` attribute tells us the extent of the data in the x direction and there is a similar `yrange` attribute. You should also notice that the range of the submap is (almost) what we specified when we created it. It doesn't _quite_ match up because the array has to be cropped between pixels and the physical coordinates we specify may not exactly achieve this. But it's very close."
   ]
  },
  {
   "cell_type": "markdown",
   "metadata": {},
   "source": [
    "When we rotated a map earlier, the array was expanded to avoid parts of it being cropped unintentionally. This can be annoying, so if you're absolutely sure you don't mind losing that information, you might want to reset the extent of the image to a more sensible value by combining `submap()` and `xrange`/`yrange`."
   ]
  },
  {
   "cell_type": "code",
   "execution_count": null,
   "metadata": {
    "collapsed": false
   },
   "outputs": [],
   "source": [
    "restored_map.peek()\n",
    "newmap = restored_map.submap(mymap.xrange, mymap.yrange)\n",
    "newmap.peek()"
   ]
  },
  {
   "cell_type": "markdown",
   "metadata": {},
   "source": [
    "## Challenge: Putting it all together"
   ]
  },
  {
   "cell_type": "markdown",
   "metadata": {},
   "source": [
    "1. Plot the sample AIA 17.1nm image, next to a submap of some interesting feature from that image. Give both plots a colourbar and change the titles. \n",
    "1. Plot a black cross at the same point on both images.\n",
    "1. Plot a rectangle on the full `Map` which corresponds to the edges of the submap.\n",
    "\n",
    "**Hints:**\n",
    "- You can specify an axes to draw on by passing it into `plot()`, like this: `mymap.plot(axes=ax)`\n",
    "- `Map` has a `draw_rectangle()` method.\n",
    "- `matplotlib` can be fussy about astropy units - you'll often have to use just the value of a Quantity in order for the plotting functions to work properly."
   ]
  },
  {
   "cell_type": "code",
   "execution_count": null,
   "metadata": {
    "collapsed": false
   },
   "outputs": [],
   "source": [
    "fig, ax = plt.subplots(1, 2, figsize=(12, 4))\n",
    "\n",
    "mymap.plot(axes=ax[0]) # Plot the full Map\n",
    "plt.title('Full sun') # Change the title\n",
    "plt.colorbar() # Show a colour bar\n",
    "plt.plot(-85, -380, marker='x', color='black') # Plot a single point with a black cross\n",
    "# Plotting a line over a Map messes up the axes limits and they have to be reset\n",
    "plt.xlim(mymap.xrange.value)\n",
    "plt.ylim(mymap.yrange.value)\n",
    "# Define the bottom-left corner, width and height of a rectangle from the ranges of the submap\n",
    "corner = [smap.xrange[0].value, smap.yrange[0].value] * u.arcsec\n",
    "width = smap.xrange[1] - smap.xrange[0]\n",
    "height = smap.yrange[1] - smap.yrange[0]\n",
    "mymap.draw_rectangle(corner, width, height) # Draw the rectangle\n",
    "\n",
    "# Same again on the right\n",
    "smap.plot(axes=ax[1])\n",
    "plt.title('Active region')\n",
    "plt.colorbar()\n",
    "plt.plot(-85, -380, 'bx')\n",
    "plt.xlim(smap.xrange.value)\n",
    "plt.ylim(smap.yrange.value)\n",
    "\n",
    "plt.show()"
   ]
  }
 ],
 "metadata": {
  "kernelspec": {
   "display_name": "Python 3",
   "language": "python",
   "name": "python3"
  },
  "language_info": {
   "codemirror_mode": {
    "name": "ipython",
    "version": 3
   },
   "file_extension": ".py",
   "mimetype": "text/x-python",
   "name": "python",
   "nbconvert_exporter": "python",
   "pygments_lexer": "ipython3",
   "version": "3.5.2"
  }
 },
 "nbformat": 4,
 "nbformat_minor": 0
}
