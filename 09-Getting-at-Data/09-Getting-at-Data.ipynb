{
 "nbformat_minor": 0,
 "nbformat": 4,
 "cells": [
  {
   "execution_count": null,
   "cell_type": "code",
   "source": [],
   "outputs": [],
   "metadata": {
    "collapsed": true
   }
  },
  {
   "source": [
    "# Getting at Data\n",
    "\n",
    "Both SunPy and Astropy have utilities for downloading data for your delectation. They are simple and easy to use, however increasing levels of computing will allow a great deal of personalisation and selection. Let us begin with SunPy\n",
    "\n",
    "## Aquiring Data with SunPy\n",
    "\n",
    "### VS0\n",
    "This is the main interface which SunPy to search for and find solar data. VSO stands for the Virtual Solar Observatory, a service which presents a homogenous interface to heterogenous data set.\n",
    "\n",
    "So what do we need?"
   ],
   "cell_type": "markdown",
   "metadata": {}
  },
  {
   "execution_count": 2,
   "cell_type": "code",
   "source": [],
   "outputs": [],
   "metadata": {
    "collapsed": false
   }
  },
  {
   "source": [
    "This is your client object. This is effectively the intermediary between yourself and the treasure chest of solar data available. You query VSO, then VSO querys all data providers which fit the limiations you imposed during your search command. The VSO client also handles the particulars of dowloading the data onto your machiene. "
   ],
   "cell_type": "markdown",
   "metadata": {}
  },
  {
   "source": [
    "## Making a query\n",
    "\n",
    "Lets kick off with an example, lets ask the veteran of solar imaging, SoHO for some EIS data, between the dates of between January 1st and 2nd, 2001,"
   ],
   "cell_type": "markdown",
   "metadata": {}
  },
  {
   "execution_count": null,
   "cell_type": "code",
   "source": [],
   "outputs": [],
   "metadata": {
    "collapsed": false
   }
  },
  {
   "source": [
    "`qr` is a Python list of response onjects, each one a record that the VSO has found."
   ],
   "cell_type": "markdown",
   "metadata": {}
  },
  {
   "execution_count": null,
   "cell_type": "code",
   "source": [],
   "outputs": [],
   "metadata": {
    "collapsed": false
   }
  },
  {
   "source": [
    "### Break it down\n",
    "\n",
    "So we can pass many attributes to the VSO, in this case we started with time\n",
    "\n",
    "<pre><code> vso.attrs.Time('2001/1/1','2001/1/2')</code></pre>\n",
    "\n",
    "Start and end times for the query as strings, any date/time function can be understood by SunPy's parse_time function e.g. the datetime onjects we will look at later. Next we give it the instrument we want:\n",
    "\n",
    "<pre><code> vso.attrs.Instrument('eit') </code></pre>\n",
    "\n",
    "You don't have to pass it an instrument, the client will find all available missions in the parameter you've defined if you like. Next, wavelength:\n",
    "\n",
    "<pre><code> vso.attrs.Wave(14.2*u.nm, 12.3*u.nm)</code></pre> \n",
    "\n",
    "We pass it a min and max wavelength. This has to be an astropy units quantity (in SI for the love of coffee). If you don't you will get an error.\n",
    " \n",
    "For a full list of attributes that vso can take use `help(vso.attrs):\n",
    "\n"
   ],
   "cell_type": "markdown",
   "metadata": {}
  },
  {
   "execution_count": 4,
   "cell_type": "code",
   "source": [],
   "outputs": [],
   "metadata": {
    "collapsed": false
   }
  },
  {
   "source": [
    "So we can use multiple instument queries and define get smaller sample times but narrowing down the query:"
   ],
   "cell_type": "markdown",
   "metadata": {}
  },
  {
   "execution_count": null,
   "cell_type": "code",
   "source": [],
   "outputs": [],
   "metadata": {
    "collapsed": false
   }
  },
  {
   "source": [
    "### HEK\n",
    "\n",
    "The Heliophysics Event Knowledgebase (HEK) is a repository of feature and event information about the Sun. Entries are generated both by automated algorithms and human observers.\n",
    "\n",
    "We need to set up HEK in a similar way to VSO"
   ],
   "cell_type": "markdown",
   "metadata": {}
  },
  {
   "execution_count": null,
   "cell_type": "code",
   "source": [],
   "outputs": [],
   "metadata": {
    "collapsed": true
   }
  },
  {
   "source": [
    "Creating a very similar client as we saw with VSO above.\n",
    "\n",
    "Given that HEK is a database of solar events of interest, the query has different requirements to VSO. It needs start and end times, and an event type. Again time objects can be defined as datetime objects or correctly formatted strings.\n",
    "\n",
    "Event types are specified as uppercase two letter strings found on [the HEK website](http://www.lmsal.com/hek/VOEvent_Spec.html)"
   ],
   "cell_type": "markdown",
   "metadata": {}
  },
  {
   "execution_count": null,
   "cell_type": "code",
   "source": [],
   "outputs": [],
   "metadata": {
    "collapsed": true
   }
  },
  {
   "source": [
    "Notice that the HEK query is extremely similar to the VSO query style, with our attributes defined accordingly.\n",
    "\n",
    "Instead of returning a list, HEK returns a list of dictionary objects. Each entry in the dictionary sis a pair of key-value pairs that exactly correspond to the parameters. We can return the key words using:"
   ],
   "cell_type": "markdown",
   "metadata": {}
  },
  {
   "execution_count": null,
   "cell_type": "code",
   "source": [],
   "outputs": [],
   "metadata": {
    "collapsed": false
   }
  },
  {
   "source": [
    "Remember, the HEK query we made returns all the flares in the time-range stored in the HEK, regardless of the feature recognition method. The HEK parameter which stores the the feature recognition method is called \u201cfrm_name\u201d. Using list comprehensions (which are very cool), it is easy to get a list of the feature recognition methods used to find each of the flares in the result object, for example:"
   ],
   "cell_type": "markdown",
   "metadata": {}
  },
  {
   "execution_count": null,
   "cell_type": "code",
   "source": [],
   "outputs": [],
   "metadata": {
    "collapsed": false
   }
  },
  {
   "source": [
    "This way we can avoid troublesome doubling up of results. We can do the same `help(hek.attrs)` command as VSO to fins out further options. "
   ],
   "cell_type": "markdown",
   "metadata": {}
  },
  {
   "source": [
    "## Aquiring data with AstroQuery\n",
    "\n",
    "Astroquery supports a plethora of [services](https://astroquery.readthedocs.org/en/latest/#using-astroquery), all of which follow roughly the same API (application program interface). In its simplest for the API involves queries based on coordinates or object names e.g. using SIMBAD:"
   ],
   "cell_type": "markdown",
   "metadata": {}
  },
  {
   "execution_count": null,
   "cell_type": "code",
   "source": [],
   "outputs": [],
   "metadata": {
    "scrolled": true,
    "collapsed": false
   }
  },
  {
   "source": [
    "In this case the query is looking at a specific set of coordinates"
   ],
   "cell_type": "markdown",
   "metadata": {}
  },
  {
   "execution_count": null,
   "cell_type": "code",
   "source": [],
   "outputs": [],
   "metadata": {
    "scrolled": true,
    "collapsed": false
   }
  },
  {
   "source": [
    "These methods can be expanded to all the following modules\n",
    "\n",
    "\n",
    "*    SIMBAD Queries (astroquery.simbad)\n",
    "*    IRSA Dust Extinction Service Queries (astroquery.irsa_dust)\n",
    "*    NED Queries (astroquery.ned)\n",
    "*    Splatalogue Queries (astroquery.splatalogue)\n",
    "*    IRSA Image Server program interface (IBE) Queries (astroquery.ibe)\n",
    "*    IRSA Queries (astroquery.irsa)\n",
    "*    UKIDSS Queries (astroquery.ukidss)\n",
    "*    MAGPIS Queries (astroquery.magpis)\n",
    "*    NRAO Queries (astroquery.nrao)\n",
    "*    Besancon Queries (astroquery.besancon)\n",
    "*    NIST Queries (astroquery.nist)\n",
    "*    NVAS Queries (astroquery.nvas)\n",
    "*    GAMA Queries (astroquery.gama)\n",
    "*    ESO Queries (astroquery.eso)\n",
    "*    Atomic Line List (astroquery.atomic)\n",
    "*    ALMA Queries (astroquery.alma)\n",
    "*    Skyview Queries (astroquery.skyview)\n",
    "*    NASA ADS Queries (astroquery.nasa_ads)\n",
    "*    HEASARC Queries (astroquery.heasarc)\n",
    "\n"
   ],
   "cell_type": "markdown",
   "metadata": {}
  }
 ],
 "metadata": {
  "kernelspec": {
   "display_name": "Python 2",
   "name": "python2",
   "language": "python2"
  },
  "language_info": {
   "mimetype": "text/x-python",
   "nbconvert_exporter": "python",
   "name": "python",
   "file_extension": ".py",
   "version": "2.7.11",
   "pygments_lexer": "ipython2",
   "codemirror_mode": {
    "version": 2,
    "name": "ipython"
   }
  }
 }
}