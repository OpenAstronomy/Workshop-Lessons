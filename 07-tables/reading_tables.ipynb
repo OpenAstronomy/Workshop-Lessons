{
 "nbformat_minor": 0,
 "nbformat": 4,
 "metadata": {
  "language_info": {
   "file_extension": ".py",
   "mimetype": "text/x-python",
   "codemirror_mode": {
    "version": 3,
    "name": "ipython"
   },
   "nbconvert_exporter": "python",
   "pygments_lexer": "ipython3",
   "version": "3.5.2",
   "name": "python"
  },
  "kernelspec": {
   "language": "python",
   "name": "python3",
   "display_name": "Python 3"
  }
 },
 "cells": [
  {
   "source": [
    "# Reading data into Astropy Tables\n",
    "\n",
    "## Objectives\n",
    "\n",
    " - Read ASCII files with a defined format\n",
    " - Learn basic operations with `astropy.tables`\n",
    " - Ingest header information\n",
    " - VOTables"
   ],
   "metadata": {},
   "cell_type": "markdown"
  },
  {
   "source": [
    "## Reading data\n",
    "\n",
    "Our first task with Python was to read a `.csv` file using `np.loadtxt()`.\n",
    "That function has some arguments to define the dlimiter of the columns, skip rows, read commented lines, convert values while reading, etc.\n",
    "\n",
    "However, the result is an array, without the information of the metadata that file may have included (name, units, ...).\n",
    "\n",
    "AstroPy offers an ascii reader that improves many of these steps and provides templates to read common ascii files in astronomy.\n"
   ],
   "metadata": {},
   "cell_type": "markdown"
  },
  {
   "source": [
    "from astropy.io import ascii"
   ],
   "metadata": {
    "collapsed": true,
    "keep": true
   },
   "outputs": [],
   "cell_type": "code",
   "execution_count": null
  },
  {
   "source": [
    "# Read a sample file: sources.dat\n"
   ],
   "metadata": {
    "collapsed": false
   },
   "outputs": [],
   "cell_type": "code",
   "execution_count": null
  },
  {
   "source": [
    "Automatically, `ascii.read()` has identified the header and the format of each column. The result is a `Table` object, and that brings some additional properties."
   ],
   "metadata": {},
   "cell_type": "markdown"
  },
  {
   "source": [
    "# Show the info of the data read\n"
   ],
   "metadata": {
    "collapsed": false
   },
   "outputs": [],
   "cell_type": "code",
   "execution_count": null
  },
  {
   "source": [
    "# Get the name of the columns\n"
   ],
   "metadata": {
    "collapsed": false
   },
   "outputs": [],
   "cell_type": "code",
   "execution_count": null
  },
  {
   "source": [
    "# Get just the values of a particular column\n"
   ],
   "metadata": {
    "collapsed": false
   },
   "outputs": [],
   "cell_type": "code",
   "execution_count": null
  },
  {
   "source": [
    "# get the first element\n"
   ],
   "metadata": {
    "collapsed": false
   },
   "outputs": [],
   "cell_type": "code",
   "execution_count": null
  },
  {
   "source": [
    "Astropy [can read a variety of formats](http://astropy.readthedocs.org/en/stable/io/ascii/index.html#supported-formats) easily.\n",
    "The following example uses a quite "
   ],
   "metadata": {},
   "cell_type": "markdown"
  },
  {
   "source": [
    "# Read the data from the source\n",
    "table = ascii.read(\"ftp://cdsarc.u-strasbg.fr/pub/cats/VII/253/snrs.dat\",\n",
    "                   readme=\"ftp://cdsarc.u-strasbg.fr/pub/cats/VII/253/ReadMe\")"
   ],
   "metadata": {
    "collapsed": false,
    "keep": true
   },
   "outputs": [],
   "cell_type": "code",
   "execution_count": null
  },
  {
   "source": [
    "# See the stats of the table\n"
   ],
   "metadata": {
    "collapsed": false
   },
   "outputs": [],
   "cell_type": "code",
   "execution_count": null
  },
  {
   "source": [
    "# If we want to see the first 10 entries\n"
   ],
   "metadata": {
    "collapsed": false
   },
   "outputs": [],
   "cell_type": "code",
   "execution_count": null
  },
  {
   "source": [
    "# the units are also stored, we can extract them too\n"
   ],
   "metadata": {
    "collapsed": false
   },
   "outputs": [],
   "cell_type": "code",
   "execution_count": null
  },
  {
   "source": [
    "# Adding values of different columns\n"
   ],
   "metadata": {
    "collapsed": false
   },
   "outputs": [],
   "cell_type": "code",
   "execution_count": null
  },
  {
   "source": [
    "# adding values of different columns but being aware of column units\n"
   ],
   "metadata": {
    "collapsed": false
   },
   "outputs": [],
   "cell_type": "code",
   "execution_count": null
  },
  {
   "source": [
    "# Create a new column in the table\n"
   ],
   "metadata": {
    "collapsed": false
   },
   "outputs": [],
   "cell_type": "code",
   "execution_count": null
  },
  {
   "source": [
    "# Show table's new column \n"
   ],
   "metadata": {
    "collapsed": false
   },
   "outputs": [],
   "cell_type": "code",
   "execution_count": null
  },
  {
   "source": [
    "# add a description to the new column\n"
   ],
   "metadata": {
    "collapsed": true
   },
   "outputs": [],
   "cell_type": "code",
   "execution_count": null
  },
  {
   "source": [
    "# Now it does show the values\n"
   ],
   "metadata": {
    "collapsed": false
   },
   "outputs": [],
   "cell_type": "code",
   "execution_count": null
  },
  {
   "source": [
    "# Using numpy to calculate the sin of the RA\n"
   ],
   "metadata": {
    "collapsed": false
   },
   "outputs": [],
   "cell_type": "code",
   "execution_count": null
  },
  {
   "source": [
    "# Let's change the units...\n"
   ],
   "metadata": {
    "collapsed": true
   },
   "outputs": [],
   "cell_type": "code",
   "execution_count": null
  },
  {
   "source": [
    "# does the sin now works?\n"
   ],
   "metadata": {
    "collapsed": false
   },
   "outputs": [],
   "cell_type": "code",
   "execution_count": null
  },
  {
   "source": [
    "## Properties when reading\n",
    "\n",
    "the reading of the table has many properties, let's imagine the following easy example:"
   ],
   "metadata": {},
   "cell_type": "markdown"
  },
  {
   "source": [
    "weather_data = \"\"\"\n",
    "# Country = Finland\n",
    "# City = Helsinki\n",
    "# Longitud = 24.9375\n",
    "# Latitud = 60.170833\n",
    "# Week = 32\n",
    "# Year = 2015\n",
    "day, precip, type\n",
    "Mon,1.5,rain\n",
    "Tues,,\n",
    "Wed,1.1,snow\n",
    "Thur,2.3,rain\n",
    "Fri,0.2,\n",
    "Sat,1.1,snow\n",
    "Sun,5.4,snow\n",
    "\"\"\""
   ],
   "metadata": {
    "collapsed": true,
    "keep": true
   },
   "outputs": [],
   "cell_type": "code",
   "execution_count": null
  },
  {
   "source": [
    "# Read the table\n"
   ],
   "metadata": {
    "collapsed": true
   },
   "outputs": [],
   "cell_type": "code",
   "execution_count": null
  },
  {
   "source": [
    "# Blank values are interpreted by default as bad/missing values\n"
   ],
   "metadata": {
    "collapsed": false
   },
   "outputs": [],
   "cell_type": "code",
   "execution_count": null
  },
  {
   "source": [
    "# Let's define missing values for the columns we want:\n"
   ],
   "metadata": {
    "collapsed": false
   },
   "outputs": [],
   "cell_type": "code",
   "execution_count": null
  },
  {
   "source": [
    "# Use filled to show the value filled.\n"
   ],
   "metadata": {
    "collapsed": false
   },
   "outputs": [],
   "cell_type": "code",
   "execution_count": null
  },
  {
   "source": [
    "# We can see the meta as a dictionary, but not as key, value pairs\n"
   ],
   "metadata": {
    "collapsed": false
   },
   "outputs": [],
   "cell_type": "code",
   "execution_count": null
  },
  {
   "source": [
    "# To get it the header as a table\n"
   ],
   "metadata": {
    "collapsed": false
   },
   "outputs": [],
   "cell_type": "code",
   "execution_count": null
  },
  {
   "source": [
    "When the values are not empty, then the keyword `fill_values` on `read` has [to be used](http://astropy.readthedocs.org/en/stable/io/ascii/read.html#bad-or-missing-values).\n"
   ],
   "metadata": {},
   "cell_type": "markdown"
  },
  {
   "source": [
    "## Reading VOTables\n",
    "\n",
    "VOTables are an special type of tables which should be self-consistent and can be tied to a particular scheme.\n",
    "This means the file will contain where the data comes from (and which query produced it) and the properties for each field, making it easier to ingest by a machine."
   ],
   "metadata": {
    "collapsed": false
   },
   "cell_type": "markdown"
  },
  {
   "source": [
    "from astropy.io.votable import parse_single_table"
   ],
   "metadata": {
    "collapsed": false,
    "keep": true
   },
   "outputs": [],
   "cell_type": "code",
   "execution_count": null
  },
  {
   "source": [
    "# Read the example table from HELIO (hfc_ar.xml)\n"
   ],
   "metadata": {
    "collapsed": false
   },
   "outputs": [],
   "cell_type": "code",
   "execution_count": null
  },
  {
   "source": [
    "# See the fields of the table\n"
   ],
   "metadata": {
    "collapsed": false
   },
   "outputs": [],
   "cell_type": "code",
   "execution_count": null
  },
  {
   "source": [
    "# extract one  (NOAA_NUMBER) or all of the columns\n"
   ],
   "metadata": {
    "collapsed": false
   },
   "outputs": [],
   "cell_type": "code",
   "execution_count": null
  },
  {
   "source": [
    "# Show the data\n"
   ],
   "metadata": {
    "collapsed": false
   },
   "outputs": [],
   "cell_type": "code",
   "execution_count": null
  },
  {
   "source": [
    "# See the mask\n"
   ],
   "metadata": {
    "collapsed": false
   },
   "outputs": [],
   "cell_type": "code",
   "execution_count": null
  },
  {
   "source": [
    "# Shee the whole array.\n"
   ],
   "metadata": {
    "collapsed": false
   },
   "outputs": [],
   "cell_type": "code",
   "execution_count": null
  },
  {
   "source": [
    "# Convert the table to an astropy table\n"
   ],
   "metadata": {
    "collapsed": false
   },
   "outputs": [],
   "cell_type": "code",
   "execution_count": null
  },
  {
   "source": [
    "# See the table\n"
   ],
   "metadata": {
    "collapsed": false
   },
   "outputs": [],
   "cell_type": "code",
   "execution_count": null
  },
  {
   "source": [
    "# Different results because quantities are not \n"
   ],
   "metadata": {
    "collapsed": false
   },
   "outputs": [],
   "cell_type": "code",
   "execution_count": null
  },
  {
   "source": [
    "# And it can also be converted to other units\n"
   ],
   "metadata": {
    "collapsed": false
   },
   "outputs": [],
   "cell_type": "code",
   "execution_count": null
  }
 ]
}