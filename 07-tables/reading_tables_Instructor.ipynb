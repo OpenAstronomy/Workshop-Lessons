{
 "cells": [
  {
   "cell_type": "markdown",
   "metadata": {},
   "source": [
    "# Reading data into Astropy Tables\n",
    "\n",
    "## Objectives\n",
    "\n",
    " - Read ASCII files with a defined format\n",
    " - Learn basic operations with `astropy.tables`\n",
    " - Ingest header information\n",
    " - VOTables"
   ]
  },
  {
   "cell_type": "markdown",
   "metadata": {},
   "source": [
    "## Reading data\n",
    "\n",
    "Our first task with Python was to read a `.csv` file using `np.loadtxt()`.\n",
    "That function has some arguments to define the dlimiter of the columns, skip rows, read commented lines, convert values while reading, etc.\n",
    "\n",
    "However, the result is an array, without the information of the metadata that file may have included (name, units, ...).\n",
    "\n",
    "AstroPy offers an ascii reader that improves many of these steps and provides templates to read common ascii files in astronomy.\n"
   ]
  },
  {
   "cell_type": "code",
   "execution_count": null,
   "metadata": {
    "collapsed": true,
    "keep": true
   },
   "outputs": [],
   "source": [
    "from astropy.io import ascii"
   ]
  },
  {
   "cell_type": "code",
   "execution_count": null,
   "metadata": {
    "collapsed": false
   },
   "outputs": [],
   "source": [
    "# Read a sample file: sources.dat\n",
    "data = ascii.read(\"sources.dat\")\n",
    "data"
   ]
  },
  {
   "cell_type": "markdown",
   "metadata": {},
   "source": [
    "Automatically, `ascii.read()` has identified the header and the format of each column. The result is a `Table` object, and that brings some additional properties."
   ]
  },
  {
   "cell_type": "code",
   "execution_count": null,
   "metadata": {
    "collapsed": false
   },
   "outputs": [],
   "source": [
    "# Show the info of the data read\n",
    "data.info"
   ]
  },
  {
   "cell_type": "code",
   "execution_count": null,
   "metadata": {
    "collapsed": false
   },
   "outputs": [],
   "source": [
    "# Get the name of the columns\n",
    "data.colnames"
   ]
  },
  {
   "cell_type": "code",
   "execution_count": null,
   "metadata": {
    "collapsed": false
   },
   "outputs": [],
   "source": [
    "# Get just the values of a particular column\n",
    "data['obsid']"
   ]
  },
  {
   "cell_type": "code",
   "execution_count": null,
   "metadata": {
    "collapsed": false
   },
   "outputs": [],
   "source": [
    "# get the first element\n",
    "data['obsid', 'redshift'][0]"
   ]
  },
  {
   "cell_type": "markdown",
   "metadata": {},
   "source": [
    "Astropy [can read a variety of formats](http://astropy.readthedocs.org/en/stable/io/ascii/index.html#supported-formats) easily.\n",
    "The following example uses a quite "
   ]
  },
  {
   "cell_type": "code",
   "execution_count": null,
   "metadata": {
    "collapsed": false,
    "keep": true
   },
   "outputs": [],
   "source": [
    "# Read the data from the source\n",
    "table = ascii.read(\"ftp://cdsarc.u-strasbg.fr/pub/cats/VII/253/snrs.dat\",\n",
    "                   readme=\"ftp://cdsarc.u-strasbg.fr/pub/cats/VII/253/ReadMe\")"
   ]
  },
  {
   "cell_type": "code",
   "execution_count": null,
   "metadata": {
    "collapsed": false
   },
   "outputs": [],
   "source": [
    "# See the stats of the table\n",
    "table.info('stats')"
   ]
  },
  {
   "cell_type": "code",
   "execution_count": null,
   "metadata": {
    "collapsed": false
   },
   "outputs": [],
   "source": [
    "# If we want to see the first 10 entries\n",
    "table[0:10]"
   ]
  },
  {
   "cell_type": "code",
   "execution_count": null,
   "metadata": {
    "collapsed": false
   },
   "outputs": [],
   "source": [
    "# the units are also stored, we can extract them too\n",
    "table['MajDiam'].quantity.to('rad')[0:3]"
   ]
  },
  {
   "cell_type": "code",
   "execution_count": null,
   "metadata": {
    "collapsed": false
   },
   "outputs": [],
   "source": [
    "# Adding values of different columns\n",
    "(table['RAh'] + table['RAm'] + table['RAs'])[0:3]\n"
   ]
  },
  {
   "cell_type": "code",
   "execution_count": null,
   "metadata": {
    "collapsed": false
   },
   "outputs": [],
   "source": [
    "# adding values of different columns but being aware of column units\n",
    "(table['RAh'].quantity + table['RAm'].quantity + table['RAs'].quantity)[0:3]"
   ]
  },
  {
   "cell_type": "code",
   "execution_count": null,
   "metadata": {
    "collapsed": false
   },
   "outputs": [],
   "source": [
    "# Create a new column in the table\n",
    "table['RA'] = table['RAh'].quantity + table['RAm'].quantity + table['RAs'].quantity"
   ]
  },
  {
   "cell_type": "code",
   "execution_count": null,
   "metadata": {
    "collapsed": false
   },
   "outputs": [],
   "source": [
    "# Show table's new column \n",
    "table['RA'][0:3]"
   ]
  },
  {
   "cell_type": "code",
   "execution_count": null,
   "metadata": {
    "collapsed": true
   },
   "outputs": [],
   "source": [
    "# add a description to the new column\n",
    "table['RA'].description = table['RAh'].description"
   ]
  },
  {
   "cell_type": "code",
   "execution_count": null,
   "metadata": {
    "collapsed": false
   },
   "outputs": [],
   "source": [
    "# Now it does show the values\n",
    "table['RA'][0:3]\n"
   ]
  },
  {
   "cell_type": "code",
   "execution_count": null,
   "metadata": {
    "collapsed": false
   },
   "outputs": [],
   "source": [
    "# Using numpy to calculate the sin of the RA\n",
    "import numpy as np\n",
    "np.sin(table['RA'].quantity)"
   ]
  },
  {
   "cell_type": "code",
   "execution_count": null,
   "metadata": {
    "collapsed": true
   },
   "outputs": [],
   "source": [
    "# Let's change the units...\n",
    "import astropy.units as u\n",
    "table['RA'].unit = u.hourangle"
   ]
  },
  {
   "cell_type": "code",
   "execution_count": null,
   "metadata": {
    "collapsed": false
   },
   "outputs": [],
   "source": [
    "# does the sin now works?\n",
    "np.sin(table['RA'].quantity)"
   ]
  },
  {
   "cell_type": "markdown",
   "metadata": {},
   "source": [
    "## Properties when reading\n",
    "\n",
    "the reading of the table has many properties, let's imagine the following easy example:"
   ]
  },
  {
   "cell_type": "code",
   "execution_count": null,
   "metadata": {
    "collapsed": true,
    "keep": true
   },
   "outputs": [],
   "source": [
    "weather_data = \"\"\"\n",
    "# Country = Finland\n",
    "# City = Helsinki\n",
    "# Longitud = 24.9375\n",
    "# Latitud = 60.170833\n",
    "# Week = 32\n",
    "# Year = 2015\n",
    "day, precip, type\n",
    "Mon,1.5,rain\n",
    "Tues,,\n",
    "Wed,1.1,snow\n",
    "Thur,2.3,rain\n",
    "Fri,0.2,\n",
    "Sat,1.1,snow\n",
    "Sun,5.4,snow\n",
    "\"\"\""
   ]
  },
  {
   "cell_type": "code",
   "execution_count": null,
   "metadata": {
    "collapsed": true
   },
   "outputs": [],
   "source": [
    "# Read the table\n",
    "weather = ascii.read(weather_data)"
   ]
  },
  {
   "cell_type": "code",
   "execution_count": null,
   "metadata": {
    "collapsed": false
   },
   "outputs": [],
   "source": [
    "# Blank values are interpreted by default as bad/missing values\n",
    "weather.info('stats')"
   ]
  },
  {
   "cell_type": "code",
   "execution_count": null,
   "metadata": {
    "collapsed": false
   },
   "outputs": [],
   "source": [
    "# Let's define missing values for the columns we want:\n",
    "weather['type'].fill_value = 'N/A'\n",
    "weather['precip'].fill_value = -999"
   ]
  },
  {
   "cell_type": "code",
   "execution_count": null,
   "metadata": {
    "collapsed": false
   },
   "outputs": [],
   "source": [
    "# Use filled to show the value filled.\n",
    "weather.filled()"
   ]
  },
  {
   "cell_type": "code",
   "execution_count": null,
   "metadata": {
    "collapsed": false
   },
   "outputs": [],
   "source": [
    "# We can see the meta as a dictionary, but not as key, value pairs\n",
    "weather.meta"
   ]
  },
  {
   "cell_type": "code",
   "execution_count": null,
   "metadata": {
    "collapsed": false
   },
   "outputs": [],
   "source": [
    "# To get it the header as a table\n",
    "header = ascii.read(weather.meta['comments'], delimiter='=',\n",
    "                    format='no_header', names=['key', 'val'])\n",
    "print(header)"
   ]
  },
  {
   "cell_type": "markdown",
   "metadata": {},
   "source": [
    "When the values are not empty, then the keyword `fill_values` on `read` has [to be used](http://astropy.readthedocs.org/en/stable/io/ascii/read.html#bad-or-missing-values).\n"
   ]
  },
  {
   "cell_type": "markdown",
   "metadata": {
    "collapsed": false
   },
   "source": [
    "## Reading VOTables\n",
    "\n",
    "VOTables are an special type of tables which should be self-consistent and can be tied to a particular scheme.\n",
    "This means the file will contain where the data comes from (and which query produced it) and the properties for each field, making it easier to ingest by a machine."
   ]
  },
  {
   "cell_type": "code",
   "execution_count": null,
   "metadata": {
    "collapsed": false,
    "keep": true
   },
   "outputs": [],
   "source": [
    "from astropy.io.votable import parse_single_table"
   ]
  },
  {
   "cell_type": "code",
   "execution_count": null,
   "metadata": {
    "collapsed": false
   },
   "outputs": [],
   "source": [
    "# Read the example table from HELIO (hfc_ar.xml)\n",
    "table = parse_single_table(\"hfc_ar.xml\")"
   ]
  },
  {
   "cell_type": "code",
   "execution_count": null,
   "metadata": {
    "collapsed": false
   },
   "outputs": [],
   "source": [
    "# See the fields of the table\n",
    "table.fields"
   ]
  },
  {
   "cell_type": "code",
   "execution_count": null,
   "metadata": {
    "collapsed": false
   },
   "outputs": [],
   "source": [
    "# extract one  (NOAA_NUMBER) or all of the columns\n",
    "NOAA = table.array['NOAA_NUMBER']"
   ]
  },
  {
   "cell_type": "code",
   "execution_count": null,
   "metadata": {
    "collapsed": false
   },
   "outputs": [],
   "source": [
    "# Show the data\n",
    "NOAA.data"
   ]
  },
  {
   "cell_type": "code",
   "execution_count": null,
   "metadata": {
    "collapsed": false
   },
   "outputs": [],
   "source": [
    "# See the mask\n",
    "NOAA.mask"
   ]
  },
  {
   "cell_type": "code",
   "execution_count": null,
   "metadata": {
    "collapsed": false
   },
   "outputs": [],
   "source": [
    "# Shee the whole array.\n",
    "NOAA"
   ]
  },
  {
   "cell_type": "code",
   "execution_count": null,
   "metadata": {
    "collapsed": false
   },
   "outputs": [],
   "source": [
    "# Convert the table to an astropy table\n",
    "asttable = table.to_table()"
   ]
  },
  {
   "cell_type": "code",
   "execution_count": null,
   "metadata": {
    "collapsed": false
   },
   "outputs": [],
   "source": [
    "# See the table\n",
    "asttable"
   ]
  },
  {
   "cell_type": "code",
   "execution_count": null,
   "metadata": {
    "collapsed": false
   },
   "outputs": [],
   "source": [
    "# Different results because quantities are not \n",
    "print(np.sin(asttable['FEAT_HG_LAT_DEG'][0:5]))\n",
    "print(np.sin(asttable['FEAT_HG_LAT_DEG'][0:5].quantity))\n"
   ]
  },
  {
   "cell_type": "code",
   "execution_count": null,
   "metadata": {
    "collapsed": false
   },
   "outputs": [],
   "source": [
    "# And it can also be converted to other units\n",
    "print(asttable[0:5]['FEAT_AREA_DEG2'].quantity.to('arcmin2'))"
   ]
  }
 ],
 "metadata": {
  "kernelspec": {
   "display_name": "Python 3",
   "language": "python",
   "name": "python3"
  },
  "language_info": {
   "codemirror_mode": {
    "name": "ipython",
    "version": 3
   },
   "file_extension": ".py",
   "mimetype": "text/x-python",
   "name": "python",
   "nbconvert_exporter": "python",
   "pygments_lexer": "ipython3",
   "version": "3.5.2"
  }
 },
 "nbformat": 4,
 "nbformat_minor": 0
}
