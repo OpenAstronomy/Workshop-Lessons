{
 "cells": [
  {
   "cell_type": "markdown",
   "metadata": {
    "ein.tags": [
     "worksheet-0"
    ]
   },
   "source": [
    "# 2016-09-12 Sheffield OpenAstronomy Workshop"
   ]
  },
  {
   "cell_type": "markdown",
   "metadata": {
    "ein.tags": [
     "worksheet-0"
    ]
   },
   "source": [
    "These are the notes for the second OpenAstronomy workshop held at The University of Sheffield between the 12th and 16th September 2016. The first two days of the workshop consisted of the core syllabus of [Software Carpentry](http://software-carpentry.org/), covering git, bash and an introduction to programming with Python. The last three days provided an introduction to Python tools for Astronomy and Solar Physics."
   ]
  },
  {
   "cell_type": "markdown",
   "metadata": {
    "ein.tags": [
     "worksheet-0"
    ]
   },
   "source": [
    "1. [Unix Shell](http://swcarpentry.github.io/shell-novice/)\n",
    "1. [git](http://swcarpentry.github.io/git-novice/)\n",
    "1. [Python 1](./02-Python1/index.ipynb)\n",
    "1. [Python 2](./03-Python2/index.ipynb)\n",
    "1. [Units](./04-Units/Units_Quantities.ipynb) - [solutions](./04-Units/Units_Quantities_Instructor.ipynb)\n",
    "1. [Images and Plotting](./05-images/images-and-plotting.ipynb) - [solutions](./05-images/images-and-plotting_instructor.ipynb)\n",
    "1. [Astroimages - WCS](./06-astroimages/06-Astro-Images.ipynb) - [solutions](./06-astroimages/06-Astro-Images_Instructor.ipynb)\n",
    "1. [Tables](./07-tables/reading_tables.ipynb) - [solutions](./07-tables/reading_tables_Instructor.ipynb)\n",
    "1. [Time Series](./08-Time-Series-Data.ipynb) - [solutions](./08-Time-Series-Data_Instructor.ipynb)\n",
    "1. [Getting Data](./09-Getting-at-Data.ipynb) - [solutions](./09-Getting-at-Data_Instructor.ipynb)"
   ]
  }
 ],
 "metadata": {
  "kernelspec": {
   "display_name": "Python 3",
   "language": "python",
   "name": "python3"
  },
  "language_info": {
   "codemirror_mode": {
    "name": "ipython",
    "version": 3
   },
   "file_extension": ".py",
   "mimetype": "text/x-python",
   "name": "python",
   "nbconvert_exporter": "python",
   "pygments_lexer": "ipython3",
   "version": "3.5.2"
  },
  "name": "index.ipynb"
 },
 "nbformat": 4,
 "nbformat_minor": 0
}
