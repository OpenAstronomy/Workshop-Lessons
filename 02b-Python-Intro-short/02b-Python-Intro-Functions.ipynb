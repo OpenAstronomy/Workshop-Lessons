{
 "metadata": {
  "language_info": {
   "name": "python",
   "mimetype": "text/x-python",
   "file_extension": ".py",
   "codemirror_mode": {
    "name": "ipython",
    "version": 3
   },
   "version": "3.5.2",
   "nbconvert_exporter": "python",
   "pygments_lexer": "ipython3"
  },
  "kernelspec": {
   "name": "python3",
   "language": "python",
   "display_name": "Python 3"
  }
 },
 "cells": [
  {
   "cell_type": "markdown",
   "metadata": {},
   "source": [
    "# Making Choices\n",
    "\n",
    "<br/>\n",
    "\n",
    "<section class=\"objectives panel panel-warning\">\n",
    "<div class=\"panel-heading\">\n",
    "<h2><span class=\"fa fa-certificate\"></span> Learning Objectives </h2>\n",
    "</div>\n",
    "<ul>\n",
    "<li> Explain the similarities and differences between tuples and lists </li>\n",
    "<li> Write conditional statements including <code>if</code>, `elif`, and `else` branches. </li>\n",
    "<li> Correctly evaluate expressions containing `and` and `or`. </li>\n",
    "<li> Define a function that takes parameters. </li>\n",
    "<li> Return a value from a function. </li>\n",
    "<li> Test and debug a function. </li>\n",
    "<li> Set default values for function parameters. </li>\n",
    "<li> Explain why we should divide programs into small, single-purpose functions. </li>\n",
    "</ul>\n",
    "</section>\n",
    "\n",
    "<br/>\n",
    "In our last lesson, we discovered something suspicious was going on in our inflammation data by drawing some plots. How can we use Python to automatically recognize the different features we saw, and take a different action for each? In this lesson, we\u2019ll learn how to write code that runs only when certain conditions are true.\n",
    "\n",
    "## Conditionals\n",
    "\n",
    "We can ask Python to take different actions, depending on a condition, with an if statement. These work in pretty much the same way as in other languages, and the syntax is similar to loops:"
   ]
  },
  {
   "cell_type": "code",
   "metadata": {
    "collapsed": false
   },
   "execution_count": null,
   "source": [],
   "outputs": []
  },
  {
   "cell_type": "markdown",
   "metadata": {},
   "source": [
    "Conditional statements don\u2019t have to include an else. If there isn\u2019t one, Python simply does nothing if the test is false:"
   ]
  },
  {
   "cell_type": "code",
   "metadata": {
    "collapsed": false
   },
   "execution_count": null,
   "source": [],
   "outputs": []
  },
  {
   "cell_type": "markdown",
   "metadata": {},
   "source": [
    "We can also chain several tests together using elif, which is short for \u201celse if\u201d. The following Python code uses elif to print the sign of a number."
   ]
  },
  {
   "cell_type": "code",
   "metadata": {
    "collapsed": false
   },
   "execution_count": null,
   "source": [],
   "outputs": []
  },
  {
   "cell_type": "markdown",
   "metadata": {},
   "source": [
    "One important thing to notice in the code above is that we use a double equals sign == to test for equality rather than a single equals sign because the latter is used to mean assignment.\n",
    "\n",
    "We can also combine tests using `and` and `or`. `and` is only true if both parts are true:"
   ]
  },
  {
   "cell_type": "code",
   "metadata": {
    "collapsed": false
   },
   "execution_count": null,
   "source": [],
   "outputs": []
  },
  {
   "cell_type": "markdown",
   "metadata": {},
   "source": [
    "while `or` is true if at least one part is true:"
   ]
  },
  {
   "cell_type": "code",
   "metadata": {
    "collapsed": false
   },
   "execution_count": null,
   "source": [],
   "outputs": []
  },
  {
   "cell_type": "markdown",
   "metadata": {},
   "source": [
    "## Checking out Data\n",
    "\n",
    "\n",
    "Now that we\u2019ve seen how conditionals work, we can use them to check for the suspicious features we saw in our inflammation data. In the first couple of plots, the maximum inflammation per day seemed to rise like a straight line, one unit per day. \n",
    "\n",
    "We can check for this inside the `for` loop we wrote with the following conditional:\n",
    "\n",
    "```python\n",
    "if data.max(axis=0)[0] == 0 and data.max(axis=0)[20] == 20:\n",
    "    print('Suspicious looking maxima!')\n",
    "```\n",
    "\n",
    "We also saw a different problem in the third dataset; the minima per day were all zero (looks like a healthy person snuck into our study). We can also check for this with an `elif` condition:\n",
    "\n",
    "```python\n",
    "elif data.min(axis=0).sum() == 0:\n",
    "    print('Minima add up to zero!')\n",
    "```\n",
    "\n",
    "And if neither of these conditions are true, we can use else to give the all-clear:\n",
    "\n",
    "```python\n",
    "else:\n",
    "    print('Seems OK!')\n",
    "```\n",
    "\n",
    "lets test that out then!"
   ]
  },
  {
   "cell_type": "code",
   "metadata": {
    "collapsed": false
   },
   "execution_count": null,
   "source": [],
   "outputs": []
  },
  {
   "cell_type": "code",
   "metadata": {
    "collapsed": false
   },
   "execution_count": null,
   "source": [],
   "outputs": []
  },
  {
   "cell_type": "markdown",
   "metadata": {},
   "source": [
    "In this way, we have asked Python to do something different depending on the condition of our data. Here we printed messages in all cases, but we could also imagine not using the `else` catch-all so that messages are only printed when something is wrong, freeing us from having to manually examine every plot for features we\u2019ve seen before."
   ]
  },
  {
   "cell_type": "markdown",
   "metadata": {},
   "source": [
    "<section class=\"objectives panel panel-success\">\n",
    "<div class=\"panel-heading\">\n",
    "<h2><span class=\"fa fa-pencil\"></span> What is truth? </h2>\n",
    "</div>\n",
    "\n",
    "<br/>\n",
    "\n",
    "<code>True</code> and <code>False</code> are special words in Python called <code>booleans</code> which represent true and false statements. However, they aren\u2019t the only values in Python that are true and false. In fact, any value can be used in an <code>if</code> or <code>elif</code>. After reading and running the code below, explain what the rule is for which values are considered true and which are considered false.\n",
    "</section>"
   ]
  },
  {
   "cell_type": "code",
   "metadata": {
    "collapsed": true,
    "keep": true
   },
   "execution_count": null,
   "source": [
    "if '':\n",
    "    print('empty string is true')\n",
    "if 'word':\n",
    "    print('word is true')\n",
    "if []:\n",
    "    print('empty list is true')\n",
    "if [1, 2, 3]:\n",
    "    print('non-empty list is true')\n",
    "if 0:\n",
    "    print('zero is true')\n",
    "if 1:\n",
    "    print('one is true')"
   ],
   "outputs": []
  },
  {
   "cell_type": "markdown",
   "metadata": {},
   "source": [
    "<section class=\"objectives panel panel-success\">\n",
    "<div class=\"panel-heading\">\n",
    "<h2><span class=\"fa fa-pencil\"></span> In place operators </h2>\n",
    "</div>\n",
    "<br/>\n",
    "Python (and most other languages in the C family) provides in-place operators that work like this:\n",
    "\n",
    "<code>\n",
    "x = 1  # original value\n",
    "x += 1 # add one to x, assigning result back to x\n",
    "x *= 3 # multiply x by 3\n",
    "print(x)\n",
    "</code>\n",
    "\n",
    "Write some code that sums the positive and negative numbers in a list separately, using in-place operators. Do you think the result is more or less readable than writing the same without in-place operators?\n",
    "\n",
    "</section>"
   ]
  },
  {
   "cell_type": "markdown",
   "metadata": {},
   "source": [
    "## Creating Functions"
   ]
  },
  {
   "cell_type": "markdown",
   "metadata": {},
   "source": [
    "At this point, we\u2019ve written code to draw some interesting features in our inflammation data, loop over all our data files to quickly draw these plots for each of them, and have Python make decisions based on what it sees in our data. But, our code is getting pretty long and complicated; what if we had thousands of datasets, and didn\u2019t want to generate a figure for every single one? Commenting out the figure-drawing code is a nuisance. Also, what if we want to use that code again, on a different dataset or at a different point in our program? Cutting and pasting it is going to make our code get very long and very repetitive, very quickly. We\u2019d like a way to package our code so that it is easier to reuse.\n",
    "\n",
    "Let\u2019s start by defining a function `kelvin_to_celsius` that converts temperatures from Kelvin to Celsius:"
   ]
  },
  {
   "cell_type": "code",
   "metadata": {
    "collapsed": false
   },
   "execution_count": null,
   "source": [],
   "outputs": []
  },
  {
   "cell_type": "markdown",
   "metadata": {},
   "source": [
    "The function definition opens with the word `def`, which is followed by the name of the function and a parenthesized list of parameter names. The body of the function \u2014 the statements that are executed when it runs \u2014 is indented below the definition line, typically by four spaces.\n",
    "\n",
    "When we call the function, the values we pass to it are assigned to those variables so that we can use them inside the function. Inside the function, we use a [return statement](http://swcarpentry.github.io/python-novice-inflammation/reference.html#return-statement) to send a result back to whoever asked for it.\n",
    "\n",
    "Let\u2019s try running our function. Calling our own function is no different from calling any other function:"
   ]
  },
  {
   "cell_type": "code",
   "metadata": {
    "collapsed": false
   },
   "execution_count": null,
   "source": [],
   "outputs": []
  },
  {
   "cell_type": "markdown",
   "metadata": {},
   "source": [
    "We\u2019ve successfully called the function that we defined, and we have access to the value that we returned."
   ]
  },
  {
   "cell_type": "markdown",
   "metadata": {},
   "source": [
    "### Integer division"
   ]
  },
  {
   "cell_type": "markdown",
   "metadata": {},
   "source": [
    "We are using Python 3 division, which always returns a floating point number:"
   ]
  },
  {
   "cell_type": "code",
   "metadata": {
    "collapsed": false
   },
   "execution_count": null,
   "source": [],
   "outputs": []
  },
  {
   "cell_type": "markdown",
   "metadata": {},
   "source": [
    "Unfortunately, this wasn\u2019t the case in Python 2:"
   ]
  },
  {
   "cell_type": "code",
   "metadata": {
    "collapsed": false
   },
   "execution_count": null,
   "source": [],
   "outputs": []
  },
  {
   "cell_type": "markdown",
   "metadata": {},
   "source": [
    "If you are using Python 2 and want to keep the fractional part of division you need to convert one or the other number to floating point:"
   ]
  },
  {
   "cell_type": "code",
   "metadata": {
    "collapsed": false
   },
   "execution_count": null,
   "source": [],
   "outputs": []
  },
  {
   "cell_type": "code",
   "metadata": {
    "collapsed": false
   },
   "execution_count": null,
   "source": [],
   "outputs": []
  },
  {
   "cell_type": "code",
   "metadata": {
    "collapsed": false
   },
   "execution_count": null,
   "source": [],
   "outputs": []
  },
  {
   "cell_type": "code",
   "metadata": {
    "collapsed": false
   },
   "execution_count": null,
   "source": [],
   "outputs": []
  },
  {
   "cell_type": "markdown",
   "metadata": {},
   "source": [
    "And if you want an integer result from division in Python 3, use a double-slash:"
   ]
  },
  {
   "cell_type": "code",
   "metadata": {
    "collapsed": false
   },
   "execution_count": null,
   "source": [],
   "outputs": []
  },
  {
   "cell_type": "markdown",
   "metadata": {},
   "source": [
    "### Composing Functions"
   ]
  },
  {
   "cell_type": "markdown",
   "metadata": {},
   "source": [
    "Now that we\u2019ve seen how to turn Kelvin into Celsius, let's try converting Celsius to Fahrenheit:"
   ]
  },
  {
   "cell_type": "code",
   "metadata": {
    "collapsed": false
   },
   "execution_count": null,
   "source": [],
   "outputs": []
  },
  {
   "cell_type": "markdown",
   "metadata": {},
   "source": [
    "What about converting Kelvin to Fahrenheit? We could write out the formula, but we don\u2019t need to. Instead, we can compose the two functions we have already created:"
   ]
  },
  {
   "cell_type": "code",
   "metadata": {
    "collapsed": false
   },
   "execution_count": null,
   "source": [],
   "outputs": []
  },
  {
   "cell_type": "markdown",
   "metadata": {},
   "source": [
    "This is our first taste of how larger programs are built: we define basic operations, then combine them in ever-larger chunks to get the effect we want. Real-life functions will usually be larger than the ones shown here \u2014 typically half a dozen to a few dozen lines \u2014 but they shouldn\u2019t ever be much longer than that, or the next person who reads it won\u2019t be able to understand what\u2019s going on."
   ]
  },
  {
   "cell_type": "markdown",
   "metadata": {},
   "source": [
    "### Tidying up"
   ]
  },
  {
   "cell_type": "markdown",
   "metadata": {},
   "source": [
    "Now that we know how to wrap bits of code up in functions, we can make our inflammation analyasis easier to read and easier to reuse. First, let\u2019s make an `analyse` function that generates our plots:"
   ]
  },
  {
   "cell_type": "code",
   "metadata": {
    "collapsed": true
   },
   "execution_count": null,
   "source": [],
   "outputs": []
  },
  {
   "cell_type": "markdown",
   "metadata": {},
   "source": [
    "and another function called `detect_problems` that checks for those systematics we noticed:"
   ]
  },
  {
   "cell_type": "code",
   "metadata": {
    "collapsed": true
   },
   "execution_count": null,
   "source": [],
   "outputs": []
  },
  {
   "cell_type": "markdown",
   "metadata": {},
   "source": [
    "Notice that rather than jumbling this code together in one giant `for` loop, we can now read and reuse both ideas separately. We can reproduce the previous analysis with a much simpler `for` loop:"
   ]
  },
  {
   "cell_type": "code",
   "metadata": {
    "collapsed": false
   },
   "execution_count": null,
   "source": [
    "# First redefine our list of filenames from the last lesson\n"
   ],
   "outputs": []
  },
  {
   "cell_type": "markdown",
   "metadata": {},
   "source": [
    "By giving our functions human-readable names, we can more easily read and understand what is happening in the `for` loop. Even better, if at some later date we want to use either of those pieces of code again, we can do so in a single line."
   ]
  },
  {
   "cell_type": "markdown",
   "metadata": {},
   "source": [
    "### Testing and Documenting"
   ]
  },
  {
   "cell_type": "markdown",
   "metadata": {},
   "source": [
    "Once we start putting things in functions so that we can re-use them, we need to start testing that those functions are working correctly. To see how to do this, let\u2019s write a function to center a dataset around a particular value:"
   ]
  },
  {
   "cell_type": "code",
   "metadata": {
    "collapsed": true
   },
   "execution_count": null,
   "source": [],
   "outputs": []
  },
  {
   "cell_type": "markdown",
   "metadata": {},
   "source": [
    "We could test this on our actual data, but since we don\u2019t know what the values ought to be, it will be hard to tell if the result was correct. Instead, let\u2019s use NumPy to create a matrix of 0\u2019s and then center that around 3:"
   ]
  },
  {
   "cell_type": "code",
   "metadata": {
    "collapsed": false
   },
   "execution_count": null,
   "source": [],
   "outputs": []
  },
  {
   "cell_type": "markdown",
   "metadata": {},
   "source": [
    "That looks right, so let\u2019s try `center` on our real data:"
   ]
  },
  {
   "cell_type": "code",
   "metadata": {
    "collapsed": false
   },
   "execution_count": null,
   "source": [],
   "outputs": []
  },
  {
   "cell_type": "markdown",
   "metadata": {},
   "source": [
    "It\u2019s hard to tell from the default output whether the result is correct, but there are a few simple tests that will reassure us:"
   ]
  },
  {
   "cell_type": "code",
   "metadata": {
    "collapsed": false
   },
   "execution_count": null,
   "source": [],
   "outputs": []
  },
  {
   "cell_type": "markdown",
   "metadata": {},
   "source": [
    "That seems almost right: the original mean was about 6.1, so the lower bound from zero is now about -6.1. The mean of the centered data isn\u2019t quite zero \u2014 we\u2019ll explore why not in the challenges \u2014 but it\u2019s pretty close. We can even go further and check that the standard deviation hasn\u2019t changed:"
   ]
  },
  {
   "cell_type": "code",
   "metadata": {
    "collapsed": false
   },
   "execution_count": null,
   "source": [],
   "outputs": []
  },
  {
   "cell_type": "markdown",
   "metadata": {},
   "source": [
    "Those values look the same, but we probably wouldn\u2019t notice if they were different in the sixth decimal place. Let\u2019s do this instead:"
   ]
  },
  {
   "cell_type": "code",
   "metadata": {
    "collapsed": false
   },
   "execution_count": null,
   "source": [],
   "outputs": []
  },
  {
   "cell_type": "markdown",
   "metadata": {},
   "source": [
    "Again, the difference is very small. It\u2019s still possible that our function is wrong, but it seems unlikely enough that we should probably get back to doing our analysis. We have one more task first, though: we should write some [documentation](http://swcarpentry.github.io/python-novice-inflammation/reference.html#documentation) for our function to remind ourselves later what it\u2019s for and how to use it.\n",
    "\n",
    "The usual way to put documentation in software is to add [comments](http://swcarpentry.github.io/python-novice-inflammation/reference.html#comment) like this:"
   ]
  },
  {
   "cell_type": "code",
   "metadata": {
    "collapsed": true
   },
   "execution_count": null,
   "source": [
    "# centre(data, desired): return a new array containing the original data centered around the desired value.\n"
   ],
   "outputs": []
  },
  {
   "cell_type": "markdown",
   "metadata": {},
   "source": [
    "There\u2019s a better way, though. If the first thing in a function is a string that isn\u2019t assigned to a variable, that string is attached to the function as its documentation:"
   ]
  },
  {
   "cell_type": "code",
   "metadata": {
    "collapsed": true
   },
   "execution_count": null,
   "source": [],
   "outputs": []
  },
  {
   "cell_type": "markdown",
   "metadata": {},
   "source": [
    "This is better because we can now ask Python\u2019s built-in help system to show us the documentation for the function:"
   ]
  },
  {
   "cell_type": "code",
   "metadata": {
    "collapsed": false
   },
   "execution_count": null,
   "source": [],
   "outputs": []
  },
  {
   "cell_type": "markdown",
   "metadata": {},
   "source": [
    "A string like this is called a [docstring](http://swcarpentry.github.io/python-novice-inflammation/reference.html#docstring). We don\u2019t need to use triple quotes when we write one, but if we do, we can break the string across multiple lines:"
   ]
  },
  {
   "cell_type": "code",
   "metadata": {
    "collapsed": false
   },
   "execution_count": null,
   "source": [],
   "outputs": []
  },
  {
   "cell_type": "markdown",
   "metadata": {},
   "source": [
    "### Defining Defaults"
   ]
  },
  {
   "cell_type": "markdown",
   "metadata": {},
   "source": [
    "We have passed parameters to functions in two ways: directly, as in `type(data)`, and by name, as in `numpy.loadtxt(fname='something.csv', delimiter=',')`. In fact, we can pass the filename to `loadtxt` without the `fname=`:"
   ]
  },
  {
   "cell_type": "code",
   "metadata": {
    "collapsed": false
   },
   "execution_count": null,
   "source": [],
   "outputs": []
  },
  {
   "cell_type": "markdown",
   "metadata": {},
   "source": [
    "but we still need to say `delimiter=`:"
   ]
  },
  {
   "cell_type": "code",
   "metadata": {
    "collapsed": false
   },
   "execution_count": null,
   "source": [],
   "outputs": []
  },
  {
   "cell_type": "markdown",
   "metadata": {},
   "source": [
    "To understand what\u2019s going on, and make our own functions easier to use, let\u2019s re-define our center function like this:"
   ]
  },
  {
   "cell_type": "code",
   "metadata": {
    "collapsed": true
   },
   "execution_count": null,
   "source": [],
   "outputs": []
  },
  {
   "cell_type": "markdown",
   "metadata": {},
   "source": [
    "The key change is that the second parameter is now written `desired=0.0` instead of just `desired`. If we call the function with two arguments, it works as it did before:"
   ]
  },
  {
   "cell_type": "code",
   "metadata": {
    "collapsed": false
   },
   "execution_count": null,
   "source": [],
   "outputs": []
  },
  {
   "cell_type": "markdown",
   "metadata": {},
   "source": [
    "But we can also now call it with just one parameter, in which case `desired` is automatically assigned the [default value](http://swcarpentry.github.io/python-novice-inflammation/reference.html#default-value) of 0.0:"
   ]
  },
  {
   "cell_type": "code",
   "metadata": {
    "collapsed": false
   },
   "execution_count": null,
   "source": [],
   "outputs": []
  },
  {
   "cell_type": "markdown",
   "metadata": {},
   "source": [
    "This is handy: if we usually want a function to work one way, but occasionally need it to do something else, we can allow people to pass a parameter when they need to but provide a default to make the normal case easier. The example below shows how Python matches values to parameters:"
   ]
  },
  {
   "cell_type": "code",
   "metadata": {
    "collapsed": false
   },
   "execution_count": null,
   "source": [],
   "outputs": []
  },
  {
   "cell_type": "markdown",
   "metadata": {},
   "source": [
    "As this example shows, parameters are matched up from left to right, and any that haven\u2019t been given a value explicitly get their default value. We can override this behavior by naming the value as we pass it in:"
   ]
  },
  {
   "cell_type": "code",
   "metadata": {
    "collapsed": false
   },
   "execution_count": null,
   "source": [],
   "outputs": []
  },
  {
   "cell_type": "markdown",
   "metadata": {},
   "source": [
    "With that in hand, let\u2019s look at the help for numpy.loadtxt:"
   ]
  },
  {
   "cell_type": "code",
   "metadata": {
    "scrolled": true,
    "collapsed": false
   },
   "execution_count": null,
   "source": [],
   "outputs": []
  },
  {
   "cell_type": "markdown",
   "metadata": {},
   "source": [
    "There\u2019s a lot of information here, but the most important part is the first couple of lines:"
   ]
  },
  {
   "cell_type": "markdown",
   "metadata": {
    "collapsed": false
   },
   "source": [
    "`loadtxt(fname, dtype=<type 'float'>, comments='#', delimiter=None, converters=None, skiprows=0, usecols=None,\n",
    "        unpack=False, ndmin=0)`"
   ]
  },
  {
   "cell_type": "markdown",
   "metadata": {},
   "source": [
    "This tells us that loadtxt has one parameter called fname that doesn\u2019t have a default value, and eight others that do. If we call the function like this:"
   ]
  },
  {
   "cell_type": "code",
   "metadata": {
    "collapsed": false
   },
   "execution_count": null,
   "source": [],
   "outputs": []
  },
  {
   "cell_type": "markdown",
   "metadata": {},
   "source": [
    "then the filename is assigned to `fname` (which is what we want), but the delimiter string `','` is assigned to `dtype` rather than `delimiter`, because `dtype` is the second parameter in the list. However ',' isn\u2019t a known `dtype` so our code produced an error message when we tried to run it. When we call `loadtxt` we don\u2019t have to provide `fname=` for the filename because it\u2019s the first item in the list, but if we want the ',' to be assigned to the variable `delimiter`, we _do_ have to provide `delimiter=` for the second parameter since `delimiter` is not the second parameter in the list."
   ]
  },
  {
   "cell_type": "markdown",
   "metadata": {},
   "source": [
    "<section class=\"challenge panel panel-success\">\n",
    "<div class=\"panel-heading\">\n",
    "<h2 id=\"combining-strings\"><span class=\"fa fa-pencil\"></span>Combining strings</h2>\n",
    "</div>\n",
    "\n",
    "<div class=\"panel-body\">\n",
    "<p>\u201cAdding\u201d two strings produces their concatenation: <code>'a' + 'b'</code> is <code>'ab'</code>. Write a function called <code>fence</code> that takes two parameters called <code>original</code> and <code>wrapper</code> and returns a new string that has the wrapper character at the beginning and end of the original. A call to your function should look like this:</p>\n",
    "<div class=\"sourceCode\"><pre class=\"sourceCode python\"><code class=\"sourceCode python\"><span class=\"bu\">print</span>(fence(<span class=\"st\">'name'</span>, <span class=\"st\">'*'</span>))</code></pre></div>\n",
    "<pre class=\"output\"><code>&#42;name&#42;</code></pre>\n",
    "</div>\n",
    "</section>"
   ]
  },
  {
   "cell_type": "code",
   "metadata": {
    "collapsed": false
   },
   "execution_count": null,
   "source": [],
   "outputs": []
  },
  {
   "cell_type": "markdown",
   "metadata": {},
   "source": [
    "<section class=\"challenge panel panel-success\">\n",
    "<div class=\"panel-heading\">\n",
    "<h2 id=\"selecting-characters-from-strings\"><span class=\"fa fa-pencil\"></span>Selecting characters from strings</h2>\n",
    "</div>\n",
    "<div class=\"panel-body\">\n",
    "<p>If the variable <code>s</code> refers to a string, then <code>s[0]</code> is the string\u2019s first character and <code>s[-1]</code> is its last. Write a function called <code>outer</code> that returns a string made up of just the first and last characters of its input. A call to your function should look like this:</p>\n",
    "<div class=\"sourceCode\"><pre class=\"sourceCode python\"><code class=\"sourceCode python\"><span class=\"bu\">print</span>(outer(<span class=\"st\">'helium'</span>))</code></pre></div>\n",
    "<pre class=\"output\"><code>hm</code></pre>\n",
    "</div>\n",
    "</section>"
   ]
  },
  {
   "cell_type": "code",
   "metadata": {
    "collapsed": false
   },
   "execution_count": null,
   "source": [],
   "outputs": []
  },
  {
   "cell_type": "markdown",
   "metadata": {},
   "source": [
    "<section class=\"challenges panel panel-success\">\n",
    "<div class=\"panel-heading\">\n",
    "<h3><span class=\"fa fa-pencil\"></span> Rescaling an array </h3>\n",
    "</div>\n",
    "\n",
    "Write a function `rescale` that takes an array as input and returns a corresponding array of values scaled to lie in the range 0.0 to 1.0. (Hint: If L and H are the lowest and highest values in the original array, then the replacement for a value v should be (v\u2005\u2212\u2005L)/(H\u2005\u2212\u2005L).)\n",
    "</section>"
   ]
  },
  {
   "cell_type": "code",
   "metadata": {
    "collapsed": false
   },
   "execution_count": null,
   "source": [],
   "outputs": []
  },
  {
   "cell_type": "markdown",
   "metadata": {},
   "source": [
    "<section class=\"challenges panel panel-success\">\n",
    "<div class=\"panel-heading\">\n",
    "<h3><span class=\"fa fa-pencil\"></span> Testing and documenting your function </h3>\n",
    "</div>\n",
    "\n",
    "Run the commands `help(numpy.arange)` and `help(numpy.linspace)` to see how to use these functions to generate regularly-spaced values, then use those values to test your `rescale` function. Once you\u2019ve successfully tested your function, add a docstring that explains what it does.\n",
    "\n",
    "</section>"
   ]
  },
  {
   "cell_type": "markdown",
   "metadata": {},
   "source": [
    "<section class=\"challenges panel panel-success\">\n",
    "<div class=\"panel-heading\">\n",
    "<h3><span class=\"fa fa-pencil\"></span> Defining defaults </h3>\n",
    "</div>\n",
    "\n",
    "Rewrite the `rescale` function so that it scales data to lie between 0.0 and 1.0 by default, but will allow the caller to specify lower and upper bounds if they want. Compare your implementation to your neighbor\u2019s: do the two functions always behave the same way?\n",
    "\n",
    "</section>"
   ]
  },
  {
   "cell_type": "markdown",
   "metadata": {},
   "source": [
    "<section class=\"challenge panel panel-success\">\n",
    "<div class=\"panel-heading\">\n",
    "<h2 id=\"variables-inside-and-outside-functions\"><span class=\"fa fa-pencil\"></span>Variables inside and outside functions</h2>\n",
    "</div>\n",
    "<div class=\"panel-body\">\n",
    "<p>What does the following piece of code display when run - and why?</p>\n",
    "<div class=\"sourceCode\"><pre class=\"sourceCode python\"><code class=\"sourceCode python\">f <span class=\"op\">=</span> <span class=\"dv\">0</span>\n",
    "k <span class=\"op\">=</span> <span class=\"dv\">0</span>\n",
    "\n",
    "<span class=\"kw\">def</span> f2k(f):\n",
    "  k <span class=\"op\">=</span> ((f<span class=\"dv\">-32</span>)<span class=\"op\">*</span>(<span class=\"fl\">5.0</span><span class=\"op\">/</span><span class=\"fl\">9.0</span>)) <span class=\"op\">+</span> <span class=\"fl\">273.15</span>\n",
    "  <span class=\"cf\">return</span> k\n",
    "\n",
    "f2k(<span class=\"dv\">8</span>)\n",
    "f2k(<span class=\"dv\">41</span>)\n",
    "f2k(<span class=\"dv\">32</span>)\n",
    "\n",
    "<span class=\"bu\">print</span>(k)</code></pre></div>\n",
    "</div>\n",
    "</section>"
   ]
  }
 ],
 "nbformat": 4,
 "nbformat_minor": 0
}