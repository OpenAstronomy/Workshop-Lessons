{
 "metadata": {
  "language_info": {
   "name": "python",
   "mimetype": "text/x-python",
   "file_extension": ".py",
   "codemirror_mode": {
    "name": "ipython",
    "version": 3
   },
   "version": "3.5.2",
   "nbconvert_exporter": "python",
   "pygments_lexer": "ipython3"
  },
  "kernelspec": {
   "name": "python3",
   "language": "python",
   "display_name": "Python 3"
  }
 },
 "cells": [
  {
   "cell_type": "markdown",
   "metadata": {},
   "source": [
    "# Introduction to Python\n",
    "\n",
    "<br/>\n",
    "\n",
    "<section class=\"objectives panel panel-warning\">\n",
    "<div class=\"panel-heading\">\n",
    "<h2><span class=\"fa fa-certificate\"></span> Learning Objectives </h2>\n",
    "</div>\n",
    "<ul>\n",
    "<li> Get used to the Jupyter Notebook. </li>\n",
    "<li> Get used to common operations in Python </li>\n",
    "<li> Understand what a library is and how to use it.</li>\n",
    "<li> Analyse some data and plots some graphs of those data </li>\n",
    "</ul>\n",
    "\n",
    "</section>\n",
    "\n",
    "\n",
    "\n",
    "## Jupyter Notebook\n",
    "\n",
    "Jupyter notebook is a web based interactive computational environment with code, text, mathematics, plot and exectution all in the same place. It's how we'll be doing the whole course, though we wouldn't use it for more script based programming.\n",
    "\n",
    "A few shortcuts to make your life easier:\n",
    "\n",
    "- crtl + enter - Run the contents of this cell\n",
    "- B - moves out from inside this cell and selects the entire cell\n",
    "- esc - moves from this window to select the whole box\n",
    "- enter - will move you back in\n",
    "- M - changes the whole box to markdown\n",
    "- Y - changes the whole box to code\n",
    "\n",
    "## Python scripts\n",
    "\n",
    "The Jupyter notebook is great for teaching but may not be completely suitable when you come to do more extensive work with Python; for that we suggest you use Spyder or your pet text editor.\n",
    "\n",
    "Spyder is an Interactive Development Environment (IDE) that allows you to edit a Python script and then run it locally in an interpreter console, all in one window. If you prefer working in the command line, you can edit your script in whatever editor you prefer, then run it with the command\n",
    "\n",
    "```\n",
    "python name_of_your_python_script.py\n",
    "```\n",
    "\n",
    "\n",
    "## Libraries\n",
    "\n",
    "Words are useful, but what\u2019s more useful are the sentences and stories we build with them. Similarly, while a lot of powerful tools are built into languages like Python, even more live in the libraries they are used to build.\n",
    "\n",
    "Numpy is one of the essential libraries we use in python. We can import it like so:"
   ]
  },
  {
   "cell_type": "code",
   "metadata": {
    "collapsed": false
   },
   "execution_count": null,
   "source": [],
   "outputs": []
  },
  {
   "cell_type": "markdown",
   "metadata": {},
   "source": [
    "We're going to demonstrate how to use the NumPy library with some statistics on arthuritis patient inflammmation. We can import csv files, where the data currently is, like so:"
   ]
  },
  {
   "cell_type": "code",
   "metadata": {
    "collapsed": false
   },
   "execution_count": null,
   "source": [],
   "outputs": []
  },
  {
   "cell_type": "markdown",
   "metadata": {},
   "source": [
    "So lets examine this. By typing `numpy.loadtxt()` we're saying, from the numpy library use the loadtxt function. It is the equivalent of selecting a file from a directory, or saying thing.component, for example, car.tyres might say, from the car I would like to inspect the tyres.\n",
    "\n",
    "`loadtxt()` is a function, which in this case we call with two _keyword arguments_. The filename and the delimiter both need to be input as character strings."
   ]
  },
  {
   "cell_type": "code",
   "metadata": {
    "collapsed": false
   },
   "execution_count": null,
   "source": [],
   "outputs": []
  },
  {
   "cell_type": "markdown",
   "metadata": {},
   "source": [
    "<br/>\n",
    "\n",
    "<section class=\"objectives panel panel-warning\">\n",
    "<div class=\"panel-heading\">\n",
    "<h2><span class=\"fa fa-certificate\"></span> Strings and Print Formatting </h2>\n",
    "</div>\n",
    "<br/>\n",
    "<p>Note that above we defined strings with single quote marks, `'`, but we could have used double quote marks, `\"`, instead.</p>\n",
    "\n",
    "<p>Python strings have some built-in functionality which can be useful for printing information. We use `.format` at the end of a string to insert variables which are not strings into a string. If we have multiple items to insert then we use `{0}, {1}, {2}... etc` and order them accordinglt in the format `()`.</p>\n",
    "</section>\n"
   ]
  },
  {
   "cell_type": "code",
   "metadata": {
    "collapsed": false
   },
   "execution_count": null,
   "source": [],
   "outputs": []
  },
  {
   "cell_type": "markdown",
   "metadata": {},
   "source": [
    "<section class=\"objectives panel panel-warning\">\n",
    "<div class=\"panel-heading\">\n",
    "<h2><span class=\"fa fa-certificate\"></span> Tip </h2>\n",
    "</div>\n",
    "<br/>\n",
    "You can use the `%whos` command at any time to see what variables you have created and what modules you have loaded into the computers memory. As this is an IPython command, it will only work if you are in an IPython terminal or the Jupyter Notebook.\n",
    "</section>"
   ]
  },
  {
   "cell_type": "code",
   "metadata": {
    "collapsed": false
   },
   "execution_count": null,
   "source": [],
   "outputs": []
  },
  {
   "cell_type": "markdown",
   "metadata": {},
   "source": [
    "## Arrays\n",
    "\n",
    "Now back to the patients. We have the patient infomation stored in memory as the variable `p_data`, and we can check it's still there with `type`, lets find out more about the array."
   ]
  },
  {
   "cell_type": "code",
   "metadata": {
    "collapsed": false
   },
   "execution_count": null,
   "source": [],
   "outputs": []
  },
  {
   "cell_type": "markdown",
   "metadata": {},
   "source": [
    "These two commands tell us that the variable is a NumPy array and then the extent of the array. In this case the rows are individual patients and the columns are their daily inflammation measurements. In this case we have 60 rows and 40 columns, known as the dimensions of the array. Using these attributes we can index the data to extract single data values:"
   ]
  },
  {
   "cell_type": "code",
   "metadata": {
    "collapsed": false
   },
   "execution_count": null,
   "source": [],
   "outputs": []
  },
  {
   "cell_type": "markdown",
   "metadata": {},
   "source": [
    "We can also index a specific row or column. This can my done by using a colon in our indexing. For example, `p_data[:,15]` will give us column 15:"
   ]
  },
  {
   "cell_type": "code",
   "metadata": {
    "collapsed": false
   },
   "execution_count": null,
   "source": [],
   "outputs": []
  },
  {
   "cell_type": "markdown",
   "metadata": {},
   "source": [
    "and `p_data[15,:]` gives us the 15 row. The `:` says give me all the elements in this domain."
   ]
  },
  {
   "cell_type": "code",
   "metadata": {
    "collapsed": false
   },
   "execution_count": null,
   "source": [],
   "outputs": []
  },
  {
   "cell_type": "markdown",
   "metadata": {},
   "source": [
    "Thus we can make the domain smaller and essentially crop the array. By using the colon between the two limits:"
   ]
  },
  {
   "cell_type": "code",
   "metadata": {
    "collapsed": false
   },
   "execution_count": null,
   "source": [],
   "outputs": []
  },
  {
   "cell_type": "markdown",
   "metadata": {},
   "source": [
    "Arrays also know how to perform common mathematical operations on their values. The simplest operations with data are arithmetic: add, subtract, multiply, and divide. When you do such operations on arrays, the operation is done on each individual element of the array. Thus:"
   ]
  },
  {
   "cell_type": "code",
   "metadata": {
    "collapsed": true
   },
   "execution_count": null,
   "source": [],
   "outputs": []
  },
  {
   "cell_type": "markdown",
   "metadata": {},
   "source": [
    "This will create a new array whose elements have the value of two times the value of the corresponding elements in `crop_arr`. However what if instead of taking an array and doing arithmetic with a single value (as above) you did the arithmetic operation with another array of the same shape, the operation will be done on corresponding elements of the two arrays. Thus:"
   ]
  },
  {
   "cell_type": "code",
   "metadata": {
    "collapsed": false
   },
   "execution_count": null,
   "source": [],
   "outputs": []
  },
  {
   "cell_type": "markdown",
   "metadata": {},
   "source": [
    "### Arrays and Statistics\n",
    "\n",
    "Often, we want to do more than add, subtract, multiply, and divide values of data. Arrays also know how to do more complex operations on their values. If we want to find the average inflammation for all patients on all days, for example, we can just ask the array for its mean value"
   ]
  },
  {
   "cell_type": "code",
   "metadata": {
    "collapsed": false
   },
   "execution_count": null,
   "source": [],
   "outputs": []
  },
  {
   "cell_type": "markdown",
   "metadata": {},
   "source": [
    "`mean` is a method of the array, i.e., a function that belongs to it in the same way that the member `shape` does. If variables are nouns, methods are verbs: they are what the thing in question knows how to do. We need empty parentheses for `data.mean()`, even when we\u2019re not passing in any parameters, to tell Python to go and do something for us. `data.shape` doesn\u2019t need `()` because it is just a description but `data.mean()` requires the `()` because it is an action."
   ]
  },
  {
   "cell_type": "code",
   "metadata": {
    "collapsed": false
   },
   "execution_count": null,
   "source": [],
   "outputs": []
  },
  {
   "cell_type": "markdown",
   "metadata": {},
   "source": [
    "When analyzing data, though, we often want to look at partial statistics, such as the maximum value per patient or the average value per day. One way to do this is to create a new temporary array of the data we want, then ask it to do the calculation:"
   ]
  },
  {
   "cell_type": "code",
   "metadata": {
    "collapsed": false
   },
   "execution_count": null,
   "source": [],
   "outputs": []
  },
  {
   "cell_type": "markdown",
   "metadata": {},
   "source": [
    "We don\u2019t actually need to store the row in a variable of its own. Instead, we can combine the selection and the method call:"
   ]
  },
  {
   "cell_type": "code",
   "metadata": {
    "collapsed": false
   },
   "execution_count": null,
   "source": [],
   "outputs": []
  },
  {
   "cell_type": "markdown",
   "metadata": {},
   "source": [
    "What if we need the maximum inflammation for all patients, or the average for each day? In this case we need to average across an 'axis' of the array i.e. in x or y if we consider the data as a 2D array.\n",
    "\n",
    "To support this, most array methods allow us to specify the axis we want to work on. If we ask for the average across axis 0 (rows in our 2D example), we get:"
   ]
  },
  {
   "cell_type": "code",
   "metadata": {
    "collapsed": false
   },
   "execution_count": null,
   "source": [],
   "outputs": []
  },
  {
   "cell_type": "markdown",
   "metadata": {},
   "source": [
    "As a quick check, we can ask this array what its shape is:"
   ]
  },
  {
   "cell_type": "code",
   "metadata": {
    "collapsed": false
   },
   "execution_count": null,
   "source": [],
   "outputs": []
  },
  {
   "cell_type": "markdown",
   "metadata": {},
   "source": [
    "The expression `(40,)` tells us we have an N\u00d71 vector, so this is the average inflammation per day for all patients. If we average across axis 1 (columns in our 2D example), we get:"
   ]
  },
  {
   "cell_type": "code",
   "metadata": {
    "collapsed": false
   },
   "execution_count": null,
   "source": [],
   "outputs": []
  },
  {
   "cell_type": "markdown",
   "metadata": {},
   "source": [
    "which is the average inflammation per patient across all days.\n",
    "\n",
    "## Matplotlib\n",
    "\n",
    "The mathematician Richard Hamming once said, \u201cThe purpose of computing is insight, not numbers,\u201d and the best way to develop insight is often to visualize data. Visualization deserves an entire lecture (or course) of its own, but we can explore a few features of Python\u2019s `matplotlib` library here. While there is no \u201cofficial\u201d plotting library, this package is the de facto standard. First, we will import the `pyplot` module from `matplotlib` and use two of its functions to create and display a heat map of our data:"
   ]
  },
  {
   "cell_type": "markdown",
   "metadata": {},
   "source": [
    "<section class=\"objectives panel panel-warning\">\n",
    "<div class=\"panel-heading\">\n",
    "<h2><span class=\"fa fa-certificate\"></span> Inline with Jupyter Notebooks </h2>\n",
    "</div>\n",
    "<br/>\n",
    "If you\u2019re using an Jupyter notebook, you\u2019ll need to execute the following command in order for your matplotlib images to appear in the notebook when `show()` is called:\n",
    "\n",
    "<pre>\n",
    "% matplotlib inline\n",
    "</pre>\n",
    "\n",
    "The `%` indicates an IPython magic function - a function that is only valid within the notebook environment. Note that you only have to execute this function once per notebook.\n",
    "</section>"
   ]
  },
  {
   "cell_type": "code",
   "metadata": {
    "collapsed": false
   },
   "execution_count": null,
   "source": [],
   "outputs": []
  },
  {
   "cell_type": "markdown",
   "metadata": {},
   "source": [
    "Let\u2019s take a look at the average inflammation over time:"
   ]
  },
  {
   "cell_type": "code",
   "metadata": {
    "collapsed": false
   },
   "execution_count": null,
   "source": [],
   "outputs": []
  },
  {
   "cell_type": "markdown",
   "metadata": {},
   "source": [
    "Here, we have put the average per day across all patients in the variable `ave_inflammation`, then asked `matplotlib.pyplot` to create and display a line graph of those values. The result is roughly a linear rise and fall, which is suspicious: based on other studies, we expect a sharper rise and slower fall. Let\u2019s have a look at two other statistics:"
   ]
  },
  {
   "cell_type": "code",
   "metadata": {
    "collapsed": false
   },
   "execution_count": null,
   "source": [],
   "outputs": []
  },
  {
   "cell_type": "code",
   "metadata": {
    "collapsed": false
   },
   "execution_count": null,
   "source": [],
   "outputs": []
  },
  {
   "cell_type": "markdown",
   "metadata": {},
   "source": [
    "The maximum value rises and falls perfectly smoothly, while the minimum seems to be a step function. Neither result seems particularly likely, so either there\u2019s a mistake in our calculations or something is wrong with our data."
   ]
  },
  {
   "cell_type": "markdown",
   "metadata": {},
   "source": [
    "<section class=\"objectives panel panel-warning\">\n",
    "<div class=\"panel-heading\">\n",
    "<h2><span class=\"fa fa-certificate\"></span> Scientists dislike typing </h2>\n",
    "</div>\n",
    "<br/>\n",
    "We will always use the syntax `import numpy` to import NumPy. However, in order to save typing, it is often suggested to make a shortcut like so: `import numpy as np`. If you ever see Python code online using a NumPy function with `np` (for example, `np.loadtxt(...)`), it\u2019s because they\u2019ve used this shortcut. Similarly, for the rest of the workshop, we will abbreviate `matplotlib.pyplot` to `plt`.\n",
    "\n",
    "</section>"
   ]
  },
  {
   "cell_type": "markdown",
   "metadata": {},
   "source": [
    "### Subplots\n",
    "\n",
    "You can group similar plots in a single figure using subplots. This script below uses a number of new commands. \n",
    "\n",
    "The function `matplotlib.pyplot.figure()` creates a space into which we will place all of our plots. \n",
    "The parameter `figsize` tells Python how big to make this space. Each subplot is placed into the figure using the `subplot` command. The `subplot` command takes 3 parameters. The first denotes how many total rows of subplots there are, the second parameter refers to the total number of subplot columns, and the final parameters denotes which subplot your variable is referencing. \n",
    "\n",
    "Each `subplot` is stored in a different variable (axes1, axes2, axes3). Once a subplot is created, the axes are can be titled using the `set_xlabel()` command (or `set_ylabel()`). Here are our three plots side by side:"
   ]
  },
  {
   "cell_type": "code",
   "metadata": {
    "collapsed": false
   },
   "execution_count": null,
   "source": [],
   "outputs": []
  },
  {
   "cell_type": "markdown",
   "metadata": {},
   "source": [
    "The call to `loadtxt` reads our data, and the rest of the program tells the plotting library how large we want the figure to be, that we\u2019re creating three sub-plots, what to draw for each one, and that we want a tight layout. (Perversely, if we leave out that call to `fig.tight_layout()`, the graphs will actually be squeezed together more closely.)"
   ]
  },
  {
   "cell_type": "markdown",
   "metadata": {},
   "source": [
    "### `subplots()`\n",
    "\n",
    "Adding multiple axes to a figure with `plt.subplot()` is great, but can become tedious if you want to add several. Fortunately, there is also a function that allows you to define several axes and their arrangement at the same time as the figure, `plt.subplots()`.\n",
    "\n",
    "This function returns two variables - the figure and an array of axes objects with the specified shape. Referencing the axes array allows things to be plotted on the individual subplots. So the code from above can be rewritten:"
   ]
  },
  {
   "cell_type": "code",
   "metadata": {
    "collapsed": false
   },
   "execution_count": null,
   "source": [
    "# Create figure and all axes at once\n"
   ],
   "outputs": []
  },
  {
   "cell_type": "markdown",
   "metadata": {},
   "source": [
    "<section class=\"objectives panel panel-success\">\n",
    "<div class=\"panel-heading\">\n",
    "<h2><span class=\"fa fa-pencil\"></span> Sorting Out References </h2>\n",
    "</div>\n",
    "<br/>\n",
    "What does the following program print out?\n",
    "\n",
    "<pre>\n",
    "\n",
    "first, second = 'Grace', 'Hopper'\n",
    "third, fourth = second, first\n",
    "print(third, fourth)\n",
    "\n",
    "</pre>\n",
    "\n",
    "</section>"
   ]
  },
  {
   "cell_type": "code",
   "metadata": {
    "collapsed": false
   },
   "execution_count": null,
   "source": [],
   "outputs": []
  },
  {
   "cell_type": "markdown",
   "metadata": {},
   "source": [
    "<section class=\"objectives panel panel-success\">\n",
    "<div class=\"panel-heading\">\n",
    "<h2><span class=\"fa fa-pencil\"></span> Slicing strings </h2>\n",
    "</div>\n",
    "<br/>\n",
    "A section of an array is called a slice. We can take slices of character strings as well:\n",
    "\n",
    "<pre>\n",
    "element = 'oxygen'\n",
    "print('first three characters:', element[0:3])\n",
    "print('last three characters:', element[3:6])\n",
    "</pre>\n",
    "What is the value of element[:4]? What about element[4:]? Or element[:]?\n",
    "\n",
    "What is element[-1]? What is element[-2]? Given those answers, explain what element[1:-1] does.\n",
    "\n",
    "\n",
    "</section>"
   ]
  },
  {
   "cell_type": "code",
   "metadata": {
    "collapsed": false
   },
   "execution_count": null,
   "source": [],
   "outputs": []
  },
  {
   "cell_type": "markdown",
   "metadata": {},
   "source": [
    "<section class=\"objectives panel panel-success\">\n",
    "<div class=\"panel-heading\">\n",
    "<h2><span class=\"fa fa-pencil\"></span> Thin Slices </h2>\n",
    "</div>\n",
    "<br/>\n",
    "The expression element[3:3] produces an empty string, i.e., a string that contains no characters. If data holds our array of patient data, what does data[3:3, 4:4] produce? What about data[3:3, :]?\n",
    "\n",
    "</section>"
   ]
  },
  {
   "cell_type": "code",
   "metadata": {
    "collapsed": false
   },
   "execution_count": null,
   "source": [],
   "outputs": []
  },
  {
   "cell_type": "markdown",
   "metadata": {},
   "source": [
    "<section class=\"objectives panel panel-success\">\n",
    "<div class=\"panel-heading\">\n",
    "<h2><span class=\"fa fa-pencil\"></span> Make your own plot </h2>\n",
    "</div>\n",
    "<br/>\n",
    "Create a plot showing the standard deviation (`numpy.std`) of the inflammation data for each day across all patients.\n",
    "\n",
    "</section>"
   ]
  },
  {
   "cell_type": "code",
   "metadata": {
    "collapsed": false
   },
   "execution_count": null,
   "source": [
    "# Calling subplots() with no arguments defaults to returning the figure and a single axes\n"
   ],
   "outputs": []
  },
  {
   "cell_type": "markdown",
   "metadata": {},
   "source": [
    "<section class=\"objectives panel panel-success\">\n",
    "<div class=\"panel-heading\">\n",
    "<h2><span class=\"fa fa-pencil\"></span> Moving plots around </h2>\n",
    "</div>\n",
    "<br/>\n",
    "Modify the program to display the three plots on top of one another instead of side by side.\n",
    "\n",
    "</section>"
   ]
  },
  {
   "cell_type": "code",
   "metadata": {
    "collapsed": false
   },
   "execution_count": null,
   "source": [],
   "outputs": []
  },
  {
   "cell_type": "code",
   "metadata": {
    "collapsed": false
   },
   "execution_count": null,
   "source": [
    "# Create figure and all axes at once\n"
   ],
   "outputs": []
  }
 ],
 "nbformat": 4,
 "nbformat_minor": 0
}