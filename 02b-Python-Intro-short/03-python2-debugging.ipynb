{
 "nbformat_minor": 0,
 "cells": [
  {
   "source": [
    "# Introduction to Python 2"
   ],
   "cell_type": "markdown",
   "metadata": {}
  },
  {
   "source": [
    "## Debugging"
   ],
   "cell_type": "markdown",
   "metadata": {}
  },
  {
   "source": [
    "<section class=\"objectives panel panel-warning\">\n",
    "<div class=\"panel-heading\">\n",
    "<h2><span class=\"fa fa-certificate\"></span>Learning Objectives</h2>\n",
    "</div>\n",
    "<div class=\"panel-body\">\n",
    "<ul>\n",
    "<li>Debug code containing an error systematically.</li>\n",
    "</ul>\n",
    "</div>\n",
    "</section>"
   ],
   "cell_type": "markdown",
   "metadata": {}
  },
  {
   "source": [
    "Once testing has uncovered problems, the next step is to fix them. Many novices do this by making more-or-less random changes to their code until it seems to produce the right answer, but that\u2019s very inefficient (and the result is usually only correct for the one case they\u2019re testing). The more experienced a programmer is, the more systematically they debug, and most follow some variation on the rules explained below."
   ],
   "cell_type": "markdown",
   "metadata": {}
  },
  {
   "source": [
    "### Know What It\u2019s Supposed to Do"
   ],
   "cell_type": "markdown",
   "metadata": {}
  },
  {
   "source": [
    "The first step in debugging something is to _know what it\u2019s supposed to do_. \u201cMy program doesn\u2019t work\u201d isn\u2019t good enough: in order to diagnose and fix problems, we need to be able to tell correct output from incorrect. If we can write a test case for the failing case \u2014 i.e., if we can assert that with _these_ inputs, the function should produce _that_ result \u2014 then we\u2019re ready to start debugging. If we can\u2019t, then we need to figure out how we\u2019re going to know when we\u2019ve fixed things.\n",
    "\n",
    "But writing test cases for scientific software is frequently harder than writing test cases for commercial applications, because if we knew what the output of the scientific code was supposed to be, we wouldn\u2019t be running the software: we\u2019d be writing up our results and moving on to the next program. In practice, scientists tend to do the following:\n",
    "\n",
    "1. _Test with simplified data_. Before doing statistics on a real data set, we should try calculating statistics for a single record, for two identical records, for two records whose values are one step apart, or for some other case where we can calculate the right answer by hand.\n",
    "2. _Test a simplified case_. If our program is supposed to simulate magnetic eddies in rapidly-rotating blobs of supercooled helium, our first test should be a blob of helium that isn\u2019t rotating, and isn\u2019t being subjected to any external electromagnetic fields. Similarly, if we\u2019re looking at the effects of climate change on speciation, our first test should hold temperature, precipitation, and other factors constant.\n",
    "3. _Compare to an oracle_. A [test oracle](http://swcarpentry.github.io/python-novice-inflammation/reference.html#test-oracle) is something whose results are trusted, such as experimental data, an older program, or a human expert. We use test oracles to determine if our new program produces the correct results. If we have a test oracle, we should store its output for particular cases so that we can compare it with our new results as often as we like without re-running that program.\n",
    "4. _Check conservation laws_. Mass, energy, and other quantitites are conserved in physical systems, so they should be in programs as well. Similarly, if we are analyzing patient data, the number of records should either stay the same or decrease as we move from one analysis to the next (since we might throw away outliers or records with missing values). If \u201cnew\u201d patients start appearing out of nowhere as we move through our pipeline, it\u2019s probably a sign that something is wrong.\n",
    "5. _Visualize_. Data analysts frequently use simple visualizations to check both the science they\u2019re doing and the correctness of their code (just as we did in the opening lesson of this tutorial). This should only be used for debugging as a last resort, though, since it\u2019s very hard to compare two visualizations automatically."
   ],
   "cell_type": "markdown",
   "metadata": {}
  },
  {
   "source": [
    "### Make It Fail Every Time"
   ],
   "cell_type": "markdown",
   "metadata": {}
  },
  {
   "source": [
    "We can only debug something when it fails, so the second step is always to find a test case that _makes it fail every time_. The \u201cevery time\u201d part is important because few things are more frustrating than debugging an intermittent problem: if we have to call a function a dozen times to get a single failure, the odds are good that we\u2019ll scroll past the failure when it actually occurs.\n",
    "\n",
    "As part of this, it\u2019s always important to check that our code is \u201cplugged in\u201d, i.e., that we\u2019re actually exercising the problem that we think we are. Every programmer has spent hours chasing a bug, only to realize that they were actually calling their code on the wrong data set or with the wrong configuration parameters, or are using the wrong version of the software entirely. Mistakes like these are particularly likely to happen when we\u2019re tired, frustrated, and up against a deadline, which is one of the reasons late-night (or overnight) coding sessions are almost never worthwhile."
   ],
   "cell_type": "markdown",
   "metadata": {}
  },
  {
   "source": [
    "### Make It Fail Fast"
   ],
   "cell_type": "markdown",
   "metadata": {}
  },
  {
   "source": [
    "If it takes 20 minutes for the bug to surface, we can only do three experiments an hour. That doesn\u2019t must mean we\u2019ll get less data in more time: we\u2019re also more likely to be distracted by other things as we wait for our program to fail, which means the time we are spending on the problem is less focused. It\u2019s therefore critical to _make it fail fast_.\n",
    "\n",
    "As well as making the program fail fast in time, we want to make it fail fast in space, i.e., we want to localize the failure to the smallest possible region of code:\n",
    "\n",
    "1. The smaller the gap between cause and effect, the easier the connection is to find. Many programmers therefore use a divide and conquer strategy to find bugs, i.e., if the output of a function is wrong, they check whether things are OK in the middle, then concentrate on either the first or second half, and so on.\n",
    "2. N things can interact in $N^2$ different ways, so every line of code that isn\u2019t run as part of a test means more than one thing we don\u2019t need to worry about."
   ],
   "cell_type": "markdown",
   "metadata": {}
  },
  {
   "source": [
    "### Change One Thing at a Time, For a Reason"
   ],
   "cell_type": "markdown",
   "metadata": {}
  },
  {
   "source": [
    "Replacing random chunks of code is unlikely to do much good. (After all, if you got it wrong the first time, you\u2019ll probably get it wrong the second and third as well.) Good programmers therefore _change one thing at a time, for a reason_ They are either trying to gather more information (\u201cis the bug still there if we change the order of the loops?\u201d) or test a fix (\u201ccan we make the bug go away by sorting our data before processing it?\u201d).\n",
    "\n",
    "Every time we make a change, however small, we should re-run our tests immediately, because the more things we change at once, the harder it is to know what\u2019s responsible for what (those $N^2$ interactions again). And we should re-run _all_ of our tests: more than half of fixes made to code introduce (or re-introduce) bugs, so re-running all of our tests tells us whether we have regressed."
   ],
   "cell_type": "markdown",
   "metadata": {}
  },
  {
   "source": [
    "### Keep Track of What You\u2019ve Done"
   ],
   "cell_type": "markdown",
   "metadata": {}
  },
  {
   "source": [
    "Good scientists keep track of what they\u2019ve done so that they can reproduce their work, and so that they don\u2019t waste time repeating the same experiments or running ones whose results won\u2019t be interesting. Similarly, debugging works best when we _keep track of what we\u2019ve done_ and how well it worked. If we find ourselves asking, \u201cDid left followed by right with an odd number of lines cause the crash? Or was it right followed by left? Or was I using an even number of lines?\u201d then it\u2019s time to step away from the computer, take a deep breath, and start working more systematically.\n",
    "\n",
    "Records are particularly useful when the time comes to ask for help. People are more likely to listen to us when we can explain clearly what we did, and we\u2019re better able to give them the information they need to be useful."
   ],
   "cell_type": "markdown",
   "metadata": {}
  },
  {
   "source": [
    "<aside class=\"callout panel panel-info\">\n",
    "<div class=\"panel-heading\">\n",
    "<h2><span class=\"fa fa-thumb-tac\"></span>Version Control Revisited</h2>\n",
    "</div>\n",
    "<div class=\"panel-body\">\n",
    "<p>Version control is often used to reset software to a known state during debugging, and to explore recent changes to code that might be responsible for bugs. In particular, most version control systems have a <code>blame</code> command that will show who last changed particular lines of code\u2026</p>\n",
    "</div>\n",
    "</aside>"
   ],
   "cell_type": "markdown",
   "metadata": {}
  },
  {
   "source": [
    "### Be Humble"
   ],
   "cell_type": "markdown",
   "metadata": {}
  },
  {
   "source": [
    "And speaking of help: if we can\u2019t find a bug in 10 minutes, we should `be humble` and ask for help. Just explaining the problem aloud is often useful, since hearing what we\u2019re thinking helps us spot inconsistencies and hidden assumptions.\n",
    "\n",
    "Asking for help also helps alleviate confirmation bias. If we have just spent an hour writing a complicated program, we want it to work, so we\u2019re likely to keep telling ourselves why it should, rather than searching for the reason it doesn\u2019t. People who aren\u2019t emotionally invested in the code can be more objective, which is why they\u2019re often able to spot the simple mistakes we have overlooked.\n",
    "\n",
    "Part of being humble is learning from our mistakes. Programmers tend to get the same things wrong over and over: either they don\u2019t understand the language and libraries they\u2019re working with, or their model of how things work is wrong. In either case, taking note of why the error occurred and checking for it next time quickly turns into not making the mistake at all.\n",
    "\n",
    "And that is what makes us most productive in the long run. As the saying goes, _A week of hard work can sometimes save you an hour of thought_. If we train ourselves to avoid making some kinds of mistakes, to break our code into modular, testable chunks, and to turn every assumption (or mistake) into an assertion, it will actually take us less time to produce working programs, not more."
   ],
   "cell_type": "markdown",
   "metadata": {}
  },
  {
   "source": [
    "<section class=\"challenge panel panel-success\">\n",
    "<div class=\"panel-heading\">\n",
    "<h2><span class=\"fa fa-pencil\"></span>Debug with a neighbour</h2>\n",
    "</div>\n",
    "<div class=\"panel-body\">\n",
    "<p>Take a function that you have written today, and introduce a tricky bug. Your function should still run, but will give the wrong output. Switch seats with your neighbor and attempt to debug the bug that they introduced into their function. Which of the principles discussed above did you find helpful?</p>\n",
    "</div>\n",
    "</section>"
   ],
   "cell_type": "markdown",
   "metadata": {}
  }
 ],
 "metadata": {
  "kernelspec": {
   "display_name": "Python 2",
   "name": "python2",
   "language": "python"
  },
  "language_info": {
   "mimetype": "text/x-python",
   "nbconvert_exporter": "python",
   "name": "python",
   "file_extension": ".py",
   "version": "2.7.11",
   "pygments_lexer": "ipython2",
   "codemirror_mode": {
    "version": 2,
    "name": "ipython"
   }
  }
 },
 "nbformat": 4
}