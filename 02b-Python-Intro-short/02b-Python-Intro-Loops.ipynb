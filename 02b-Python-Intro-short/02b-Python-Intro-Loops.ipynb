{
 "metadata": {
  "language_info": {
   "name": "python",
   "mimetype": "text/x-python",
   "file_extension": ".py",
   "codemirror_mode": {
    "name": "ipython",
    "version": 3
   },
   "version": "3.5.2",
   "nbconvert_exporter": "python",
   "pygments_lexer": "ipython3"
  },
  "kernelspec": {
   "name": "python3",
   "language": "python",
   "display_name": "Python 3"
  }
 },
 "cells": [
  {
   "cell_type": "markdown",
   "metadata": {},
   "source": [
    "# Repeating Actions with loops\n",
    "\n",
    "<br/>\n",
    "\n",
    "<section class=\"objectives panel panel-warning\">\n",
    "<div class=\"panel-heading\">\n",
    "<h2><span class=\"fa fa-certificate\"></span> Learning Objectives </h2>\n",
    "</div>\n",
    "<ul>\n",
    "<li> Understand Python loop syntax </li>\n",
    "<li> Explain what a list is </li>\n",
    "<li> Create and index lists of simple values  </li>\n",
    "<li> Use a library function to get a list of filenames that match a simple wildcard pattern. </li>\n",
    "<li> Use a for loop to process multiple files. </li>\n",
    "</ul>\n",
    "</section>\n",
    "\n",
    "In the last lesson, we wrote some code that plots some values of interest from our first inflammation dataset, and reveals some suspicious features in it, such as from `inflammation-01.csv`\n",
    "\n",
    "However, we have a dozen data sets right now, though, and more on the way. We want to create plots for all of our data sets with a single statement. To do that, we\u2019ll have to use a loop.\n",
    "\n",
    "An example task that we might want to repeat is printing each character in a word on a line of its own. One way to do this is similar to what you may be familiar with in a language like IDL:"
   ]
  },
  {
   "cell_type": "code",
   "metadata": {
    "collapsed": false
   },
   "execution_count": null,
   "source": [],
   "outputs": []
  },
  {
   "cell_type": "markdown",
   "metadata": {},
   "source": [
    "There are a few things to note here:\n",
    "- the `range()` function produces a sequence of integers, in this case up to (but not including) `6` - more on this in a minute;\n",
    "- strings can easily be indexed in the same way as arrays or other sequences;\n",
    "- The indentation of the loop is not purely stylistic - it's part of the syntax.\n",
    "\n",
    "This last point is the significant difference from other languages. There must be a colon at the end of the line starting the loop, and we must indent anything we want to run inside the loop. Unlike many other languages, there is no command to end a loop (e.g. end for); what is indented after the for statement belongs to the loop.\n",
    "\n",
    "This is fine, but the real power of Python loops is that you don't have to iterate over numbers. You can loop over any sequence of variables in Python, and there are many types of sequence. For instance, strings are treated as a sequence of individual characters, so it can be looped over:"
   ]
  },
  {
   "cell_type": "code",
   "metadata": {
    "collapsed": false
   },
   "execution_count": null,
   "source": [],
   "outputs": []
  },
  {
   "cell_type": "markdown",
   "metadata": {},
   "source": [
    "Loops can also be nested just like in other languages. Again, since there is no `end for`, this is done by changing the indentation:"
   ]
  },
  {
   "cell_type": "code",
   "metadata": {
    "collapsed": false
   },
   "execution_count": null,
   "source": [],
   "outputs": []
  },
  {
   "cell_type": "markdown",
   "metadata": {
    "collapsed": true
   },
   "source": [
    "<section class=\"objectives panel panel-info\">\n",
    "<div class=\"panel-heading\">\n",
    "<h2><span class=\"fa fa-pencil\"></span> 1 to N </h2>\n",
    "</div>\n",
    "<br/>\n",
    "The `range` function creates a sequence of numbers. Range can accept 1-3 parameters. If one parameter is input, range creates an array of that length, starting at zero and incrementing by 1. If 2 parameters are input, range starts at the first and ends at the second, incrementing by one. If range is passed 3 parameters, it stars at the first one, ends at the second one, and increments by the third one. For example, `range(3)` produces the numbers 0, 1, 2, while `range(2, 5)` produces 2, 3, 4, and `range(3, 10, 3)` produces 3, 6, 9.\n",
    "</section>"
   ]
  },
  {
   "cell_type": "markdown",
   "metadata": {},
   "source": [
    "<section class=\"objectives panel panel-success\">\n",
    "<div class=\"panel-heading\">\n",
    "<h2><span class=\"fa fa-pencil\"></span> Loops of Power! </h2>\n",
    "</div>\n",
    "<br/>\n",
    "Exponential is built into python and is signified with `**`. Write a loop which calculates `x**3` without using the `**` functionality, for integer values of `x` from 1 to 5.\n",
    "</section>"
   ]
  },
  {
   "cell_type": "code",
   "metadata": {
    "collapsed": false
   },
   "execution_count": null,
   "source": [],
   "outputs": []
  },
  {
   "cell_type": "markdown",
   "metadata": {},
   "source": [
    "<section class=\"objectives panel panel-success\">\n",
    "<div class=\"panel-heading\">\n",
    "<h2><span class=\"fa fa-pencil\"></span> Reverse a string </h2>\n",
    "</div>\n",
    "<br/>\n",
    "Pick a string and reverse the order in which the characters appear (no palendromes).\n",
    "</section>"
   ]
  },
  {
   "cell_type": "code",
   "metadata": {
    "collapsed": false
   },
   "execution_count": null,
   "source": [],
   "outputs": []
  },
  {
   "cell_type": "markdown",
   "metadata": {},
   "source": [
    "## Lists\n",
    "\n",
    "Lists are a common way to store multiple values in Python. Unlike NumPy arrays, lists are built into the language (so we don\u2019t have to load a library to use them). We create a list by putting values inside square brackets:"
   ]
  },
  {
   "cell_type": "code",
   "metadata": {
    "collapsed": false
   },
   "execution_count": null,
   "source": [],
   "outputs": []
  },
  {
   "cell_type": "markdown",
   "metadata": {},
   "source": [
    "We select individual elements from lists by indexing them:"
   ]
  },
  {
   "cell_type": "code",
   "metadata": {
    "collapsed": false
   },
   "execution_count": null,
   "source": [],
   "outputs": []
  },
  {
   "cell_type": "markdown",
   "metadata": {},
   "source": [
    "and if we loop over a list, the loop variable is assigned elements one at a time:"
   ]
  },
  {
   "cell_type": "code",
   "metadata": {
    "collapsed": false
   },
   "execution_count": null,
   "source": [],
   "outputs": []
  },
  {
   "cell_type": "markdown",
   "metadata": {},
   "source": [
    "There is one important difference between lists and strings: we can change the values in a list, but we cannot change the characters in a string. For example:"
   ]
  },
  {
   "cell_type": "code",
   "metadata": {
    "collapsed": false
   },
   "execution_count": null,
   "source": [],
   "outputs": []
  },
  {
   "cell_type": "markdown",
   "metadata": {},
   "source": [
    "this works, but"
   ]
  },
  {
   "cell_type": "code",
   "metadata": {
    "collapsed": false
   },
   "execution_count": null,
   "source": [],
   "outputs": []
  },
  {
   "cell_type": "markdown",
   "metadata": {},
   "source": [
    "## Ch-Ch-Ch-Changes\n",
    "\n",
    "\n",
    "Data which can be modified in place is called mutable, while data which cannot be modified is called immutable. Strings and numbers are immutable. This does not mean that variables with string or number values are constants, but when we want to change the value of a string or number variable, we can only replace the old value with a completely new value.\n",
    "\n",
    "Lists and arrays, on the other hand, are mutable: we can modify them after they have been created. We can change individual elements, append new elements, or reorder the whole list. For some operations, like sorting, we can choose whether to use a function that modifies the data in place or a function that returns a modified copy and leaves the original unchanged.\n",
    "\n",
    "Be careful when modifying data in place. If two variables refer to the same list, and you modify the list value, it will change for both variables! If you want variables with mutable values to be independent, you must make a copy of the value when you assign it.\n",
    "\n",
    "Because of pitfalls like this, code which modifies data in place can be more difficult to understand. However, it is often far more efficient to modify a large data structure in place than to create a modified copy for every small change. You should consider both of these aspects when writing your code.\n",
    "\n",
    "There are many ways to change the contents of lists besides assigning new values to individual elements:"
   ]
  },
  {
   "cell_type": "code",
   "metadata": {
    "collapsed": false
   },
   "execution_count": null,
   "source": [],
   "outputs": []
  },
  {
   "cell_type": "code",
   "metadata": {
    "collapsed": false
   },
   "execution_count": null,
   "source": [],
   "outputs": []
  },
  {
   "cell_type": "code",
   "metadata": {
    "collapsed": false
   },
   "execution_count": null,
   "source": [],
   "outputs": []
  },
  {
   "cell_type": "markdown",
   "metadata": {},
   "source": [
    "While modifying in place, it is useful to remember that Python treats lists in a slightly counterintuitive way.\n",
    "\n",
    "If we make a list and (attempt to) copy it then modify in place, we can cause all sorts of trouble:"
   ]
  },
  {
   "cell_type": "code",
   "metadata": {
    "collapsed": false
   },
   "execution_count": null,
   "source": [],
   "outputs": []
  },
  {
   "cell_type": "markdown",
   "metadata": {},
   "source": [
    "This is because python stores a list in memory, and then can use multiple names to refer to the same list. If all we want to do is copy a (simple) list, we can use the list() command, so we do not modify a list we did not mean to:"
   ]
  },
  {
   "cell_type": "code",
   "metadata": {
    "collapsed": false
   },
   "execution_count": null,
   "source": [],
   "outputs": []
  },
  {
   "cell_type": "markdown",
   "metadata": {},
   "source": [
    "This is different from how variables worked in lesson 1, and more similar to how a spreadsheet works."
   ]
  },
  {
   "cell_type": "markdown",
   "metadata": {},
   "source": [
    "<section class=\"objectives panel panel-success\">\n",
    "<div class=\"panel-heading\">\n",
    "<h2><span class=\"fa fa-pencil\"></span> Turn a string into a list </h2>\n",
    "</div>\n",
    "<br/>\n",
    "Use a for-loop to convert the string `\u201chello\u201d` into a list of letters.\n",
    "<pre>[\"h\", \"e\", \"l\", \"l\", \"o\"]</pre>\n",
    "\n",
    "NB: you can create an empty list using `my_list = []`\n",
    "    \n",
    "</section>"
   ]
  },
  {
   "cell_type": "code",
   "metadata": {
    "collapsed": false
   },
   "execution_count": null,
   "source": [],
   "outputs": []
  },
  {
   "cell_type": "markdown",
   "metadata": {},
   "source": [
    "# Analyzing Data from Multiple Files\n",
    "\n",
    "We now have almost everything we need to process all our data files. The only thing that\u2019s missing is a library with a rather unpleasant name:"
   ]
  },
  {
   "cell_type": "code",
   "metadata": {
    "collapsed": true
   },
   "execution_count": null,
   "source": [],
   "outputs": []
  },
  {
   "cell_type": "markdown",
   "metadata": {},
   "source": [
    "The `glob` library contains a single function, also called `glob`, that finds files whose names match a pattern. We provide those patterns as strings: the character `*` matches zero or more characters, while `?` matches any one character. We can use this to get the names of all the CSV files in the current directory:"
   ]
  },
  {
   "cell_type": "code",
   "metadata": {
    "collapsed": false
   },
   "execution_count": null,
   "source": [],
   "outputs": []
  },
  {
   "cell_type": "markdown",
   "metadata": {},
   "source": [
    "You may notice here that the filenames `glob` has given us are not necessarily in the order we want them to be. Fortunately we have a sensible numerical naming convention that allows us to sort the filenames using a built-in Python function, `sorted()`:"
   ]
  },
  {
   "cell_type": "code",
   "metadata": {
    "collapsed": false
   },
   "execution_count": null,
   "source": [],
   "outputs": []
  },
  {
   "cell_type": "markdown",
   "metadata": {},
   "source": [
    "As these examples show, glob.glob\u2019s result is a list of strings, which means we can loop over it to do something with each filename in turn. In our case, the \u201csomething\u201d we want to do is generate a set of plots for each file in our inflammation dataset."
   ]
  },
  {
   "cell_type": "code",
   "metadata": {
    "collapsed": false
   },
   "execution_count": null,
   "source": [],
   "outputs": []
  }
 ],
 "nbformat": 4,
 "nbformat_minor": 0
}