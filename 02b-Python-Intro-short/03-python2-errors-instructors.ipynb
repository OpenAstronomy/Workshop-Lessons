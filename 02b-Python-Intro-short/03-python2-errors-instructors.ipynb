{
 "cells": [
  {
   "cell_type": "markdown",
   "metadata": {},
   "source": [
    "# Introduction to Python 2"
   ]
  },
  {
   "cell_type": "markdown",
   "metadata": {},
   "source": [
    "## Errors and Exceptions"
   ]
  },
  {
   "cell_type": "markdown",
   "metadata": {},
   "source": [
    "<section class=\"objectives panel panel-warning\">\n",
    "<div class=\"panel-heading\">\n",
    "<h2><span class=\"fa fa-certificate\"></span>Learning Objectives</h2>\n",
    "</div>\n",
    "<div class=\"panel-body\">\n",
    "\n",
    "<ul>\n",
    "    <li>To be able to read a traceback, and determine the following relevant pieces of information:</li>\n",
    "    <ul>\n",
    "        <li>The file, function, and line number on which the error occurred</li>\n",
    "        <li>The type of the error</li>\n",
    "        <li>The error message</li>\n",
    "    </ul>\n",
    "    <li>To be able to describe the types of situations in which the following errors occur:</li>\n",
    "    <ul>\n",
    "        <li>`SyntaxError` and `IndentationError`</li>\n",
    "        <li>`NameError`</li>\n",
    "        <li>`IndexError`</li>\n",
    "        <li>`FileNotFoundError`</li>\n",
    "    </ul>\n",
    "</ul>\n",
    "\n",
    "</div>\n",
    "</section>"
   ]
  },
  {
   "cell_type": "markdown",
   "metadata": {},
   "source": [
    "Every programmer encounters errors, both those who are just beginning, and those who have been programming for years. Encountering errors and exceptions can be very frustrating at times, and can make coding feel like a hopeless endeavour. However, understanding what the different types of errors are and when you are likely to encounter them can help a lot. Once you know why you get certain types of errors, they become much easier to fix.\n",
    "\n",
    "Errors in Python have a very specific form, called a [traceback](http://swcarpentry.github.io/python-novice-inflammation/reference.html#traceback). Let’s examine one:"
   ]
  },
  {
   "cell_type": "code",
   "execution_count": null,
   "metadata": {
    "collapsed": false
   },
   "outputs": [],
   "source": [
    "import errors_01\n",
    "errors_01.favorite_ice_cream()"
   ]
  },
  {
   "cell_type": "markdown",
   "metadata": {},
   "source": [
    "This particular traceback has two levels. You can determine the number of levels by looking for the number of arrows on the left hand side. In this case:\n",
    "\n",
    "1. The first shows code from the cell above, with an arrow pointing to Line 2 (which is `favorite_ice_cream()`).\n",
    "\n",
    "2. The second shows some code in another function (`favorite_ice_cream`, located in the file `errors_01.py`), with an arrow pointing to Line 7 (which is `print(ice_creams[3])`).\n",
    "\n",
    "The last level is the actual place where the error occurred. The other level(s) show what function the program executed to get to the next level down. So, in this case, the program first performed a [function call](http://swcarpentry.github.io/python-novice-inflammation/reference.html#function-call) to the function `favorite_ice_cream`. Inside this function, the program encountered an error on Line 7, when it tried to run the code `print(ice_creams[3])`."
   ]
  },
  {
   "cell_type": "markdown",
   "metadata": {},
   "source": [
    "<aside class=\"callout panel panel-warning\">\n",
    "<div class=\"panel-heading\">\n",
    "<h2><span class=\"fa fa-certificate\"></span>Long Tracebacks</h2>\n",
    "</div>\n",
    "<div class=\"panel-body\">\n",
    "\n",
    "Sometimes, you might see a traceback that is very long – sometimes they might even be 20 levels deep! This can make it seem like something horrible happened, but really it just means that your program called many functions before it ran into the error. Most of the time, you can just pay attention to the bottom-most level, which is the actual place where the error occurred.\n",
    "\n",
    "</div>\n",
    "</aside>"
   ]
  },
  {
   "cell_type": "markdown",
   "metadata": {},
   "source": [
    "So what error did the program actually encounter? In the last line of the traceback, Python helpfully tells us the category or type of error (in this case, it is an `IndexError`) and a more detailed error message (in this case, it says “list index out of range”).\n",
    "\n",
    "If you encounter an error and don’t know what it means, it is still important to read the traceback closely. That way, if you fix the error, but encounter a new one, you can tell that the error changed. Additionally, sometimes just knowing where the error occurred is enough to fix it, even if you don’t entirely understand the message.\n",
    "\n",
    "If you do encounter an error you don’t recognize, try looking at the [official documentation on errors](https://docs.python.org/3/library/exceptions.html). However, note that you may not always be able to find the error there, as it is possible to create custom errors. In that case, hopefully the custom error message is informative enough to help you figure out what went wrong."
   ]
  },
  {
   "cell_type": "markdown",
   "metadata": {},
   "source": [
    "## Syntax Errors"
   ]
  },
  {
   "cell_type": "markdown",
   "metadata": {},
   "source": [
    "When you forget a colon at the end of a line, accidentally add one space too many when indenting under an `if` statement, or forget a parentheses, you will encounter a [syntax error](http://swcarpentry.github.io/python-novice-inflammation/reference.html#syntax-error). This means that Python couldn’t figure out how to read your program. This is similar to forgetting punctuation in English:\n",
    "\n",
    "> this text is difficult to read there is no punctuation there is also no capitalization why is this hard because you have to figure out where each sentence ends you also have to figure out where each sentence begins to some extent it might be ambiguous if there should be a sentence break or not\n",
    "\n",
    "People can typically figure out what is meant by text with no punctuation, but people are much smarter than computers. If Python doesn’t know how to read the program, it will just give up and inform you with an error. For example:"
   ]
  },
  {
   "cell_type": "code",
   "execution_count": null,
   "metadata": {
    "collapsed": false
   },
   "outputs": [],
   "source": [
    "def some_function()\n",
    "    msg = \"hello, world!\"\n",
    "    print(msg)\n",
    "     return msg"
   ]
  },
  {
   "cell_type": "markdown",
   "metadata": {},
   "source": [
    "Here, Python tells us that there is a `SyntaxError` on line 1, and even puts a little arrow in the place where there is an issue. In this case the problem is that the function definition is missing a colon at the end.\n",
    "\n",
    "Actually, the function above has two issues with syntax. If we fix the problem with the colon, we see that there is also an `IndentationError`, which means that the lines in the function definition do not all have the same indentation:"
   ]
  },
  {
   "cell_type": "code",
   "execution_count": null,
   "metadata": {
    "collapsed": false
   },
   "outputs": [],
   "source": [
    "def some_function():\n",
    "    msg = \"hello, world!\"\n",
    "    print(msg)\n",
    "     return msg"
   ]
  },
  {
   "cell_type": "markdown",
   "metadata": {},
   "source": [
    "Both `SyntaxError` and `IndentationError` indicate a problem with the syntax of your program, but an `IndentationError` is more specific: it always means that there is a problem with how your code is indented."
   ]
  },
  {
   "cell_type": "markdown",
   "metadata": {},
   "source": [
    "<aside class=\"callout panel panel-warning\">\n",
    "<div class=\"panel-heading\">\n",
    "<h2><span class=\"fa fa-certificate\"></span>Tabs and Spaces</h2>\n",
    "</div>\n",
    "<div class=\"panel-body\">\n",
    "<p>A quick note on indentation errors: they can sometimes be insidious, especially if you are mixing spaces and tabs. Because they are both <a href=\"http://swcarpentry.github.io/python-novice-inflammation/reference.html#whitespace\">whitespace</a>, it is difficult to visually tell the difference. The IPython notebook actually gives us a bit of a hint, but not all Python editors will do that. In the following example, the first two lines are using a tab for indentation, while the third line uses four spaces:</p>\n",
    "<pre class=\"sourceCode python\"><code class=\"sourceCode python\"><span class=\"kw\">def</span> some_function():\n",
    "    msg = <span class=\"st\">\"hello, world!\"</span>\n",
    "    <span class=\"dt\">print</span>(msg)\n",
    "    <span class=\"kw\">return</span> msg</code></pre>\n",
    "<pre class=\"error\"><code>  File \"&lt;ipython-input-5-653b36fbcd41&gt;\", line 4\n",
    "    return msg\n",
    "              ^\n",
    "IndentationError: unindent does not match any outer indentation level</code></pre>\n",
    "<p>By default, one tab is equivalent to eight spaces, so the only way to mix tabs and spaces is to make it look like this. In general, is is better to just never use tabs and always use spaces, because it can make things very confusing.</p>\n",
    "</div>\n",
    "</aside>"
   ]
  },
  {
   "cell_type": "markdown",
   "metadata": {},
   "source": [
    "## Variable Name Errors"
   ]
  },
  {
   "cell_type": "markdown",
   "metadata": {},
   "source": [
    "Another very common type of error is called a NameError, and occurs when you try to use a variable that does not exist. For example:"
   ]
  },
  {
   "cell_type": "code",
   "execution_count": null,
   "metadata": {
    "collapsed": false
   },
   "outputs": [],
   "source": [
    "print(a)"
   ]
  },
  {
   "cell_type": "markdown",
   "metadata": {},
   "source": [
    "Variable name errors come with some of the most informative error messages, which are usually of the form “name ‘the_variable_name’ is not defined”.\n",
    "\n",
    "Why does this error message occur? That’s harder question to answer, because it depends on what your code is supposed to do. However, there are a few very common reasons why you might have an undefined variable. The first is that you meant to use a [string](http://swcarpentry.github.io/python-novice-inflammation/reference.html#string), but forgot to put quotes around it:"
   ]
  },
  {
   "cell_type": "code",
   "execution_count": null,
   "metadata": {
    "collapsed": false
   },
   "outputs": [],
   "source": [
    "print(hello)"
   ]
  },
  {
   "cell_type": "markdown",
   "metadata": {},
   "source": [
    "The second is that you just forgot to create the variable before using it. In the following example, `count` should have been defined (e.g., with `count = 0`) before the for loop:"
   ]
  },
  {
   "cell_type": "code",
   "execution_count": null,
   "metadata": {
    "collapsed": false
   },
   "outputs": [],
   "source": [
    "for number in range(10):\n",
    "    count = count + number\n",
    "print(\"The count is: \" + str(count))"
   ]
  },
  {
   "cell_type": "markdown",
   "metadata": {},
   "source": [
    "Finally, the third possibility is that you made a typo when you were writing your code. Let’s say we fixed the error above by adding the line `Count = 0` before the for loop. Frustratingly, this actually does not fix the error. Remember that variables are [case-sensitive](http://swcarpentry.github.io/python-novice-inflammation/reference.html#case-sensitive), so the variable `count` is different from `Count`. We still get the same error, because we still have not defined `count`:"
   ]
  },
  {
   "cell_type": "code",
   "execution_count": null,
   "metadata": {
    "collapsed": false
   },
   "outputs": [],
   "source": [
    "Count = 0\n",
    "for number in range(10):\n",
    "    count = count + number\n",
    "print(\"The count is: \" + str(count))"
   ]
  },
  {
   "cell_type": "markdown",
   "metadata": {},
   "source": [
    "## Item Errors"
   ]
  },
  {
   "cell_type": "markdown",
   "metadata": {},
   "source": [
    "Next up are errors having to do with containers (like lists and dictionaries) and the items within them. If you try to access an item in a list or a dictionary that does not exist, then you will get an error. This makes sense: if you asked someone what day they would like to get coffee, and they answered “caturday”, you might be a bit annoyed. Python gets similarly annoyed if you try to ask it for an item that doesn’t exist:"
   ]
  },
  {
   "cell_type": "code",
   "execution_count": null,
   "metadata": {
    "collapsed": false
   },
   "outputs": [],
   "source": [
    "letters = ['a', 'b', 'c']\n",
    "print(\"Letter #1 is \" + letters[0])\n",
    "print(\"Letter #2 is \" + letters[1])\n",
    "print(\"Letter #3 is \" + letters[2])\n",
    "print(\"Letter #4 is \" + letters[3])"
   ]
  },
  {
   "cell_type": "markdown",
   "metadata": {},
   "source": [
    "Here, Python is telling us that there is an `IndexError` in our code, meaning we tried to access a list index that did not exist."
   ]
  },
  {
   "cell_type": "markdown",
   "metadata": {},
   "source": [
    "## File Errors"
   ]
  },
  {
   "cell_type": "markdown",
   "metadata": {},
   "source": [
    "The last type of error we’ll cover today are those associated with reading and writing files: `FileNotFoundError`. If you try to read a file that does not exist, you will recieve a `FileNotFoundError` telling you so."
   ]
  },
  {
   "cell_type": "code",
   "execution_count": null,
   "metadata": {
    "collapsed": false
   },
   "outputs": [],
   "source": [
    "file_handle = open('myfile.txt', 'r')"
   ]
  },
  {
   "cell_type": "markdown",
   "metadata": {},
   "source": [
    "One reason for receiving this error is that you specified an incorrect path to the file. For example, if I am currently in a folder called `myproject`, and I have a file in `myproject/writing/myfile.txt`, but I try to just open `myfile.txt`, this will fail. The correct path would be `writing/myfile.txt`. It is also possible (like with `NameError`) that you just made a typo.\n",
    "\n",
    "Another issue could be that you used the \"read\" flag instead of the \"write\" flag. Python will not give you an error if you try to open a file for writing when the file does not exist. However, if you meant to open a file for reading, but accidentally opened it for writing, and then try to read from it, you will get an `IOError` error telling you that the file was not opened for reading:"
   ]
  },
  {
   "cell_type": "code",
   "execution_count": null,
   "metadata": {
    "collapsed": false
   },
   "outputs": [],
   "source": [
    "file_handle = open('myfile.txt', 'w')\n",
    "file_handle.read()"
   ]
  },
  {
   "cell_type": "markdown",
   "metadata": {},
   "source": [
    "These are the most common errors with files, though many others exist. If you get an error that you’ve never seen before, searching the Internet for that error type often reveals common reasons why you might get that error."
   ]
  },
  {
   "cell_type": "markdown",
   "metadata": {},
   "source": [
    "<section class=\"challenge panel panel-success\">\n",
    "<div class=\"panel-heading\">\n",
    "<h2><span class=\"fa fa-pencil\"></span>Reading Error Messages</h2>\n",
    "</div>\n",
    "<div class=\"panel-body\">\n",
    "<p>Run the code below and read the traceback. Identify the following pieces of information about it:</p>\n",
    "<ol style=\"list-style-type: decimal\">\n",
    "<li>How many levels does the traceback have?</li>\n",
    "<li>What is the file name where the error occurred?</li>\n",
    "<li>What is the function name where the error occurred?</li>\n",
    "<li>On which line number in this function did the error occurr?</li>\n",
    "<li>What is the type of error?</li>\n",
    "<li>What is the error message?</li>\n",
    "</ol>\n",
    "</div>\n",
    "</section>"
   ]
  },
  {
   "cell_type": "code",
   "execution_count": null,
   "metadata": {
    "collapsed": false,
    "keep": true
   },
   "outputs": [],
   "source": [
    "import errors_02\n",
    "errors_02.print_friday_message()"
   ]
  },
  {
   "cell_type": "code",
   "execution_count": null,
   "metadata": {
    "collapsed": false
   },
   "outputs": [],
   "source": [
    "#1. 3\n",
    "#2. ~/workshop_sunpy_astropy/errors_02.py\n",
    "#3. print_message()\n",
    "#4. 11\n",
    "#5. KeyError\n",
    "#6. 'Friday'"
   ]
  },
  {
   "cell_type": "markdown",
   "metadata": {},
   "source": [
    "<section class=\"challenge panel panel-success\">\n",
    "<div class=\"panel-heading\">\n",
    "<h2><span class=\"fa fa-pencil\"></span>Identifying Syntax Errors</h2>\n",
    "</div>\n",
    "<div class=\"panel-body\">\n",
    "<ol style=\"list-style-type: decimal\">\n",
    "<li>Read the code below, and (without running it) try to identify what the errors are.</li>\n",
    "<li>Run the code, and read the error message. Is it a <code>SyntaxError</code> or an <code>IndentationError</code>?</li>\n",
    "<li>Fix the error.</li>\n",
    "<li>Repeat steps 2 and 3, until you have fixed all the errors.</li>\n",
    "</ol>\n",
    "<pre class=\"sourceCode python\"><code class=\"sourceCode python\"><span class=\"kw\">def</span> another_function\n",
    "  <span class=\"dt\">print</span>(<span class=\"st\">\"Syntax errors are annoying.\"</span>)\n",
    "   <span class=\"dt\">print</span>(<span class=\"st\">\"But at least python tells us about them!\"</span>)\n",
    "  <span class=\"dt\">print</span>(<span class=\"st\">\"So they are usually not too hard to fix.\"</span>)</code></pre>\n",
    "</div>\n",
    "</section>"
   ]
  },
  {
   "cell_type": "code",
   "execution_count": null,
   "metadata": {
    "collapsed": true
   },
   "outputs": [],
   "source": [
    "# def another_function - SyntaxError\n",
    "# print(\"But at least...\") - IndentationError"
   ]
  },
  {
   "cell_type": "markdown",
   "metadata": {},
   "source": [
    "<section class=\"challenge panel panel-success\">\n",
    "<div class=\"panel-heading\">\n",
    "<h2><span class=\"fa fa-pencil\"></span>Identifying Variable Name Errors</h2>\n",
    "</div>\n",
    "<div class=\"panel-body\">\n",
    "<ol style=\"list-style-type: decimal\">\n",
    "<li>Read the code below, and (without running it) try to identify what the errors are.</li>\n",
    "<li>Run the code, and read the error message. What type of <code>NameError</code> do you think this is? In other words, is it a string with no quotes, a misspelled variable, or a variable that should have been defined but was not?</li>\n",
    "<li>Fix the error.</li>\n",
    "<li>Repeat steps 2 and 3, until you have fixed all the errors.</li>\n",
    "</ol>\n",
    "<pre class=\"sourceCode python\"><code class=\"sourceCode python\"><span class=\"kw\">for</span> number in <span class=\"dt\">range</span>(<span class=\"dv\">10</span>):\n",
    "    <span class=\"co\"># use a if the number is a multiple of 3, otherwise use b</span>\n",
    "    <span class=\"kw\">if</span> (Number % <span class=\"dv\">3</span>) == <span class=\"dv\">0</span>:\n",
    "        message = message + a\n",
    "    <span class=\"kw\">else</span>:\n",
    "        message = message + <span class=\"st\">\"b\"</span>\n",
    "<span class=\"dt\">print</span>(message)</code></pre>\n",
    "</div>\n",
    "</section>"
   ]
  },
  {
   "cell_type": "code",
   "execution_count": null,
   "metadata": {
    "collapsed": true
   },
   "outputs": [],
   "source": [
    "#1.\n",
    "# if (Number % 3) == 0: - NameError\n",
    "# message = message + a - NameError (twice)\n",
    "\n",
    "#2.\n",
    "# misspelled variable\n",
    "# variable not defined\n",
    "# string with no quotes"
   ]
  },
  {
   "cell_type": "markdown",
   "metadata": {},
   "source": [
    "<section class=\"challenge panel panel-success\">\n",
    "<div class=\"panel-heading\">\n",
    "<h2><span class=\"fa fa-pencil\"></span>Identifying Item Errors</h2>\n",
    "</div>\n",
    "<div class=\"panel-body\">\n",
    "<ol style=\"list-style-type: decimal\">\n",
    "<li>Read the code below, and (without running it) try to identify what the errors are.</li>\n",
    "<li>Run the code, and read the error message. What type of error is it?</li>\n",
    "<li>Fix the error.</li>\n",
    "</ol>\n",
    "<pre class=\"sourceCode python\"><code class=\"sourceCode python\">seasons = [<span class=\"st\">'Spring'</span>, <span class=\"st\">'Summer'</span>, <span class=\"st\">'Fall'</span>, <span class=\"st\">'Winter'</span>]\n",
    "<span class=\"dt\">print</span>(<span class=\"st\">'My favorite season is '</span>, seasons[<span class=\"dv\">4</span>])</code></pre>\n",
    "</div>\n",
    "</section>"
   ]
  },
  {
   "cell_type": "code",
   "execution_count": null,
   "metadata": {
    "collapsed": true
   },
   "outputs": [],
   "source": [
    "#1.\n",
    "# seasons[4] - IndexError"
   ]
  }
 ],
 "metadata": {
  "kernelspec": {
   "display_name": "Python 2",
   "language": "python",
   "name": "python2"
  },
  "language_info": {
   "codemirror_mode": {
    "name": "ipython",
    "version": 2
   },
   "file_extension": ".py",
   "mimetype": "text/x-python",
   "name": "python",
   "nbconvert_exporter": "python",
   "pygments_lexer": "ipython2",
   "version": "2.7.11"
  }
 },
 "nbformat": 4,
 "nbformat_minor": 0
}
