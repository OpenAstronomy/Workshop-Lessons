{
 "cells": [
  {
   "cell_type": "markdown",
   "metadata": {},
   "source": [
    "# Building programs with Python"
   ]
  },
  {
   "cell_type": "markdown",
   "metadata": {},
   "source": [
    "1. [Analysing data](02-Python-1-Data.ipynb) - [solutions](02-Python-1-Data_Instructor.ipynb)\n",
    "1. [Repeating Actions with Loops](02-Python-1-Loops.ipynb) - [solutions](02-Python-1-Loops_Instructor.ipynb)\n",
    "1. [Storing Multiple Values in Lists](02-Python-1-Lists.ipynb) - [solutions](02-Python-1-Lists_Instructor.ipynb)\n",
    "1. [Analyzing Data from Multiple Files](02-Python-1-MultiLists.ipynb) - [solutions](02-Python-1-MultiLists_Instructor.ipynb)\n",
    "1. [Making Choices](02-Python-1-Logic.ipynb) - [solutions](02-Python-1-Logic_Instructor.ipynb)"
   ]
  }
 ],
 "metadata": {
  "kernelspec": {
   "display_name": "Python 3",
   "language": "python",
   "name": "python3"
  },
  "language_info": {
   "codemirror_mode": {
    "name": "ipython",
    "version": 3
   },
   "file_extension": ".py",
   "mimetype": "text/x-python",
   "name": "python",
   "nbconvert_exporter": "python",
   "pygments_lexer": "ipython3",
   "version": "3.5.2"
  }
 },
 "nbformat": 4,
 "nbformat_minor": 0
}
