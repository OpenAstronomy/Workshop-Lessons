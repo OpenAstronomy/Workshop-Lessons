{
 "cells": [
  {
   "cell_type": "markdown",
   "metadata": {},
   "source": [
    "# Introduction to Python for programmers"
   ]
  },
  {
   "cell_type": "markdown",
   "metadata": {},
   "source": [
    "This session serves as an introduction to Python for people who are already familiar with programming concepts and structures. It is a shorter, more compact version of the two Python 1 and Python 2 sessions which are based on the Software Carpentry Python lessons."
   ]
  },
  {
   "cell_type": "markdown",
   "metadata": {},
   "source": [
    "1. [Analysing data](02b-Python-Intro-Data.ipynb) - [solutions](02b-Python-Intro-Data_Instructor.ipynb)\n",
    "1. [Repeating Actions with Loops](02b-Python-Intro-Loops.ipynb) - [solutions](02b-Python-Intro-Loops_Instructor.ipynb)\n",
    "1. [Creating functions](02b-Python-Intro-Functions.ipynb) - [solutions](02b-Python-Intro-Functions_Instructor.ipynb)\n",
    "1. [Errors and Exceptions](02b-Python-Intro-Errors.ipynb) - [solutions](02b-Python-Intro-Errors_Instructor.ipynb)\n",
    "1. [Defensive Programming](02b-Python-Intro-Defense.ipynb) - [solutions](02b-Python-Intro-Defense_Instructor.ipynb)"
   ]
  }
 ],
 "metadata": {
  "kernelspec": {
   "display_name": "Python 3",
   "language": "python",
   "name": "python3"
  },
  "language_info": {
   "codemirror_mode": {
    "name": "ipython",
    "version": 3
   },
   "file_extension": ".py",
   "mimetype": "text/x-python",
   "name": "python",
   "nbconvert_exporter": "python",
   "pygments_lexer": "ipython3",
   "version": "3.5.2"
  }
 },
 "nbformat": 4,
 "nbformat_minor": 0
}
