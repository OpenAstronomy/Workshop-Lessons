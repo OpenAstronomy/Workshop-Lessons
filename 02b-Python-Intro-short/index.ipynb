{
 "cells": [
  {
   "cell_type": "markdown",
   "metadata": {},
   "source": [
    "# Introduction to Python 2"
   ]
  },
  {
   "cell_type": "markdown",
   "metadata": {},
   "source": [
    "1. [Creating functions](./03-python2-functions.ipynb) - [solutions](./03-python2-functions-instructors.ipynb)\n",
    "2. [Errors and Exceptions](./03-python2-errors.ipynb) - [solutions](./03-python2-errors-instructors.ipynb)\n",
    "3. [Defensive Programming](./03-python2-defense.ipynb) - [solutions](./03-python2-defense-instructors.ipynb)\n",
    "4. [Debugging](./03-python2-debugging.ipynb) - [solutions](./03-python2-debugging-instructors.ipynb)\n",
    "5. [Command-Line Programs](./03-python2-cmdline.ipynb) - [solutions](./03-python2-cmdline-instructors.ipynb)"
   ]
  }
 ],
 "metadata": {
  "kernelspec": {
   "display_name": "Python 2",
   "language": "python",
   "name": "python2"
  },
  "language_info": {
   "codemirror_mode": {
    "name": "ipython",
    "version": 2
   },
   "file_extension": ".py",
   "mimetype": "text/x-python",
   "name": "python",
   "nbconvert_exporter": "python",
   "pygments_lexer": "ipython2",
   "version": "2.7.11"
  }
 },
 "nbformat": 4,
 "nbformat_minor": 0
}
