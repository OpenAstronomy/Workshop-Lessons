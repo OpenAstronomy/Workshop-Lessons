{
 "cells": [
  {
   "cell_type": "code",
   "execution_count": null,
   "metadata": {
    "collapsed": true
   },
   "outputs": [],
   "source": [
    "from __future__ import print_function, division"
   ]
  },
  {
   "cell_type": "markdown",
   "metadata": {},
   "source": [
    "# Handling Data over time\n",
    "\n",
    "There's a widespread trend in solar physics at the moment for correlation over actual science, so being able to handle data over time spans is a skill we all need to have. Python has ample support for this so lets have a look at what we can use.\n",
    "\n",
    "<section class=\"objectives panel panel-warning\">\n",
    "<div class=\"panel-heading\">\n",
    "<h2><span class=\"fa fa-certificate\"></span> Learning Objectives </h2>\n",
    "</div>\n",
    "<br/>\n",
    "<ul>\n",
    "<li> Understand and use SunPy lightcurve. </li>\n",
    "<li> Create a pandas dataframe. </li>\n",
    "<li> Utilise the datetime package </li>\n",
    "<li> Use the pandas dataframe to plot the data within it. </li>\n",
    "</ul>\n",
    "<br/>\n",
    "</section>\n",
    "\n",
    "\n",
    "\n",
    "## SunPy Lightcurve\n",
    "\n",
    "SunPy provides a lightcurve object to handle this type of time series data. The module has a number of instruments associated with it, including:\n",
    "\n",
    "* GOES XRS LightCurve\n",
    "* SDO EVE LightCurve for level 0CS data\n",
    "* Proba-2 LYRA LightCurve\n",
    "* NOAA Solar Cycle monthly indices.\n",
    "* Nobeyama Radioheliograph Correlation LightCurve.\n",
    "* RHESSI X-ray Summary LightCurve.\n",
    "\n",
    "We're going to examine the lightcurves created by a solar flare on June 7th 2011.\n",
    "\n",
    "Lets begin with the import statements:"
   ]
  },
  {
   "cell_type": "code",
   "execution_count": null,
   "metadata": {
    "collapsed": true,
    "keep": true
   },
   "outputs": [],
   "source": [
    "from __future__ import print_function, division\n",
    "import numpy as np\n",
    "import sunpy\n",
    "from sunpy import lightcurve as lc\n",
    "import matplotlib.pyplot as plt\n",
    "%matplotlib inline\n",
    "\n",
    "import warnings\n",
    "warnings.filterwarnings('ignore')"
   ]
  },
  {
   "cell_type": "markdown",
   "metadata": {},
   "source": [
    "Now lets create some lightcurves"
   ]
  },
  {
   "cell_type": "code",
   "execution_count": null,
   "metadata": {
    "collapsed": false
   },
   "outputs": [],
   "source": [
    "goes_lightcurve = lc.GOESLightCurve.create('2011-06-07 06:00','2011-06-07 08:00')\n",
    "\n",
    "hsi_lightcurve = lc.RHESSISummaryLightCurve.create('2011-06-07 06:00','2011-06-07 08:00')\n"
   ]
  },
  {
   "cell_type": "markdown",
   "metadata": {},
   "source": [
    "In terms of LYRA, the server only allows you to download an entire day of data at a time. We can match this to the rest of the data by using the truncate function."
   ]
  },
  {
   "cell_type": "code",
   "execution_count": null,
   "metadata": {
    "collapsed": false
   },
   "outputs": [],
   "source": [
    "lyra_lightcurve_fullday = lc.LYRALightCurve.create('2011-06-07')\n",
    "lyra_lightcurve = lyra_lightcurve_fullday.truncate('2011-06-07 06:00','2011-06-07 08:00')"
   ]
  },
  {
   "cell_type": "markdown",
   "metadata": {},
   "source": [
    "Part of the advantage of using these inbuilt functions we can get a quicklook at our data using short commands:"
   ]
  },
  {
   "cell_type": "code",
   "execution_count": null,
   "metadata": {
    "collapsed": false
   },
   "outputs": [],
   "source": [
    "fig = goes_lightcurve.peek()\n",
    "fig = lyra_lightcurve.peek()"
   ]
  },
  {
   "cell_type": "markdown",
   "metadata": {
    "collapsed": true
   },
   "source": [
    "### Accessing and using the data\n",
    "\n",
    "More custom plots can be made easily by accessing the data in the lightcurve functionality. Both the time information and the data are contained within the lightcurve.data code, which is a pandas dataframe. We can see what data is contained in the dataframe by finding which keys it contains and also asking what's in the meta data: "
   ]
  },
  {
   "cell_type": "code",
   "execution_count": null,
   "metadata": {
    "collapsed": false
   },
   "outputs": [],
   "source": [
    "print(lyra_lightcurve.data.keys())"
   ]
  },
  {
   "cell_type": "code",
   "execution_count": null,
   "metadata": {
    "collapsed": false
   },
   "outputs": [],
   "source": [
    "print(lyra_lightcurve.meta)"
   ]
  },
  {
   "cell_type": "markdown",
   "metadata": {},
   "source": [
    "Notice that the meta data information is stored in something called `OrderedDict`"
   ]
  },
  {
   "cell_type": "markdown",
   "metadata": {},
   "source": [
    "<section class=\"objectives panel panel-info\">\n",
    "<div class=\"panel-heading\">\n",
    "<h2><span class=\"fa fa-thumb-tack\"></span> On Dictionaries </h2>\n",
    "</div>\n",
    "<br/>\n",
    "We can create keyword-data pairs to form a dictionary (shock horror) of values. In this case we have defined some strings and number to represent temperatures across europe\n",
    "\n",
    "<pre>\n",
    "temps = {'Brussles': 9, 'London': 3, 'Barcelona': 13, 'Rome': 16}\n",
    "temps['Rome']\n",
    "16\n",
    "</pre>\n",
    "\n",
    "We can also find out what keywords are associated with a given dictionary, In this case:\n",
    "\n",
    "<pre>\n",
    "temps.keys()\n",
    "dict_keys(['London', 'Barcelona', 'Rome', 'Brussles'])\n",
    "</pre>\n",
    "\n",
    "</code>\n",
    "<br/>\n",
    "</section>"
   ]
  },
  {
   "cell_type": "markdown",
   "metadata": {},
   "source": [
    "We can use these keys to plot specific parameters from the lightcurve, Aluminium is 'CHANNEL_3' and Zirconium is 'CHANNEL_4. These measurements are taken on a instuments which detect events at different energy levels."
   ]
  },
  {
   "cell_type": "code",
   "execution_count": null,
   "metadata": {
    "collapsed": false,
    "scrolled": true
   },
   "outputs": [],
   "source": [
    "plt.figure(1, figsize=(10,5))\n",
    "plt.plot(lyra_lightcurve.data.index, lyra_lightcurve.data['CHANNEL3'], color='blue', label='Al filter')\n",
    "plt.plot(lyra_lightcurve.data.index, lyra_lightcurve.data['CHANNEL4'], color='red', label='Zr filter')\n",
    "plt.ylabel('Flux (Wm^2)')\n",
    "plt.show()\n"
   ]
  },
  {
   "cell_type": "markdown",
   "metadata": {},
   "source": [
    "### Analysing Lightcurve data\n",
    "\n",
    "We can asses the degree to which the lyra curves correlate with each other:"
   ]
  },
  {
   "cell_type": "code",
   "execution_count": null,
   "metadata": {
    "collapsed": false
   },
   "outputs": [],
   "source": [
    "cross_correlation = np.correlate(lyra_lightcurve.data['CHANNEL3'],\n",
    "                                 lyra_lightcurve.data['CHANNEL4'])\n",
    "print(cross_correlation)"
   ]
  },
  {
   "cell_type": "markdown",
   "metadata": {},
   "source": [
    "## Pandas\n",
    "\n",
    "In its own words Pandas is a Python package providing fast, flexible, and expressive data structures designed to make working with “relational” or “labeled” data both easy and intuitive. Pandas has two forms of structures, 1D series and 2D dataframe. It also has its own functions associated with it.\n",
    "\n",
    "It is also amazing.\n",
    "\n",
    "Lightcurve uses these in built Pandas functions, so we can find out things like the maximum of curves:\n"
   ]
  },
  {
   "cell_type": "code",
   "execution_count": null,
   "metadata": {
    "collapsed": false
   },
   "outputs": [],
   "source": [
    "# max time argument taken from long and short GOES channels\n",
    "max_t_goes_long = goes_lightcurve.data['xrsb'].idxmax()\n",
    "max_t_goes_short = goes_lightcurve.data['xrsa'].idxmax()\n",
    "\n",
    "# max_time argument taken from channel 3 & 4 LYRA channe;s\n",
    "max_t_lyra_al = lyra_lightcurve.data['CHANNEL3'].idxmax()\n",
    "max_t_lyra_zr = lyra_lightcurve.data['CHANNEL4'].idxmax()\n",
    "\n",
    "print('GOES long: ', max_t_goes_long)\n",
    "print('GOES short: ', max_t_goes_short)\n",
    "print('LYRA Al: ', max_t_lyra_al)\n",
    "print('LYRA Zr: ', max_t_lyra_zr)"
   ]
  },
  {
   "cell_type": "markdown",
   "metadata": {},
   "source": [
    "So lets plot them on the graph"
   ]
  },
  {
   "cell_type": "code",
   "execution_count": null,
   "metadata": {
    "collapsed": false
   },
   "outputs": [],
   "source": [
    "# create figure with raw curves\n",
    "plt.figure(1, figsize=(10,5))\n",
    "plt.plot(lyra_lightcurve.data.index, lyra_lightcurve.data['CHANNEL3'], color='blue', label='Al filter')\n",
    "plt.plot(lyra_lightcurve.data.index, lyra_lightcurve.data['CHANNEL4'], color='red', label='Zr filter')\n",
    "plt.ylabel('Flux (Wm^2)')\n",
    "\n",
    "# max lines\n",
    "plt.axvline(max_t_lyra_al,color='blue',linestyle='dashed', linewidth=2)\n",
    "plt.axvline(max_t_lyra_zr,color='red',linestyle='dashed')\n",
    "plt.axvline(max_t_goes_long,color='green',linestyle='dashed',linewidth=2)"
   ]
  },
  {
   "cell_type": "markdown",
   "metadata": {},
   "source": [
    "## Reading in Tablulated data\n",
    "\n",
    "Now we have seen a little of what Pandas can do, lets read in some of our own data. In this case we are going to use data from Bennett et al. 2015, ApJ, a truly ground breaking work. Now the data we are reading in here is a structured Array.\n"
   ]
  },
  {
   "cell_type": "code",
   "execution_count": null,
   "metadata": {
    "collapsed": false
   },
   "outputs": [],
   "source": [
    "data = np.genfromtxt('macrospicules.csv', skip_header=1, dtype=None, delimiter=',')"
   ]
  },
  {
   "cell_type": "markdown",
   "metadata": {},
   "source": [
    "Now, the above line imports information on some solar features over a sample time period. Specifically we have, maximum length, lifetime and time at which they occured. Now if we type `data[0]` what will happen?"
   ]
  },
  {
   "cell_type": "code",
   "execution_count": null,
   "metadata": {
    "collapsed": false
   },
   "outputs": [],
   "source": [
    "data[0]"
   ]
  },
  {
   "cell_type": "markdown",
   "metadata": {},
   "source": [
    "This is the first row of the array, containing the first element of our three properties. This particular example is a stuctured array, so the columns and rows can have properties and assign properties to the header. We can ask what the title of these columns is by using a `dtype` command:"
   ]
  },
  {
   "cell_type": "code",
   "execution_count": null,
   "metadata": {
    "collapsed": false
   },
   "outputs": [],
   "source": [
    "data.dtype.names"
   ]
  },
  {
   "cell_type": "markdown",
   "metadata": {},
   "source": [
    "Unhelpful, so lets give them something more recognisable. We can use the docs to look up syntax and change the names of the column lables.\n",
    "<br/>\n",
    "<section class=\"objectives panel panel-success\">\n",
    "<div class=\"panel-heading\">\n",
    "<h2><span class=\"fa fa-pencil\"></span> Google your troubles away </h2>\n",
    "</div>\n",
    "<br/>\n",
    "So the docs are [here](http://docs.scipy.org/doc/numpy-1.10.0/reference/generated/numpy.genfromtxt.html). Find the syntax to change to names to better to represent maximum length, lifetime and point in time which they occured.\n",
    "<br/>\n",
    "</section>"
   ]
  },
  {
   "cell_type": "code",
   "execution_count": null,
   "metadata": {
    "collapsed": false
   },
   "outputs": [],
   "source": [
    "data.dtype.names = ('max_len', 'ltime', 'sample_time')\n",
    "data['max_len']"
   ]
  },
  {
   "cell_type": "markdown",
   "metadata": {},
   "source": [
    "### DataFrame\n",
    "\n",
    "Now a pandas DataFrame takes two arguments as a minimum, index and data. In this case the index will be our time within the sample and the maximum length and lifetime will be our data. So lets import pandas and use the dataframe:\n",
    "\n",
    "Pandas reads a dictionary when we want to input multiple data columns. Therefore we need to make a dictionary of our data and read that into a pandas data frame. First we need to import pandas.\n",
    "\n",
    "<section class=\"objectives panel panel-info\">\n",
    "<div class=\"panel-heading\">\n",
    "<h2><span class=\"fa fa-thumb-tack\"></span> Dictionaries </h2>\n",
    "</div>\n",
    "<br/>\n",
    "So we covered dictionaries earlier. We can create keyword data pairs to form a dictionary (shock horror) of values. In this case \n",
    "\n",
    "<pre>\n",
    "temps = {'Brussles': 9, 'London': 3, 'Barcelona': 13, 'Rome': 16}\n",
    "temps['Rome']\n",
    "16\n",
    "</pre>\n",
    "\n",
    "We can also find out what keywords are associated with a given dictionary, In this case:\n",
    "\n",
    "<pre>\n",
    "temps.keys()\n",
    "dict_keys(['London', 'Barcelona', 'Rome', 'Brussles'])\n",
    "</pre>\n",
    "\n",
    "</code>\n",
    "<br/>\n",
    "</section>\n",
    "\n",
    "First, let's import Pandas:\n"
   ]
  },
  {
   "cell_type": "code",
   "execution_count": null,
   "metadata": {
    "collapsed": false
   },
   "outputs": [],
   "source": [
    "import pandas as pd\n",
    "\n",
    "d = {'max_len': data['max_len'], 'ltime': data['ltime']}\n",
    "\n",
    "df = pd.DataFrame(data=d, index=data['sample_time'])\n",
    "print(df)"
   ]
  },
  {
   "cell_type": "markdown",
   "metadata": {},
   "source": [
    "## Datetime Objects\n",
    "\n",
    "Notice that the time for the sample is in a strange format. It is a string containing the date in YYYY-MM-DD and time in HH-MM-SS-mmmmmm. These datetime objects have their own set of methods associated with them. Python appreciates that theses are built this way and can use them for the indexing easily. \n",
    "\n",
    "We can use this module to create date objects (representing just year, month, day). We can also get information about universal time, such as the time and date today.\n",
    "\n",
    "NOTE: Datetime objects are NOT strings. They are objects which print out as strings.\n",
    "\n"
   ]
  },
  {
   "cell_type": "code",
   "execution_count": null,
   "metadata": {
    "collapsed": false
   },
   "outputs": [],
   "source": [
    "import datetime\n",
    "print(datetime.datetime.now())\n",
    "print(datetime.datetime.utcnow())\n",
    "lunchtime = datetime.time(12,30)\n",
    "the_date = datetime.date(2005, 7, 14)\n",
    "dinner = datetime.datetime.combine(the_date, lunchtime)\n",
    "\n",
    "print(\"When is dinner? {}\".format(dinner))"
   ]
  },
  {
   "cell_type": "markdown",
   "metadata": {},
   "source": [
    "Looking back at when we discussed the first element of data, and the format of the time index was awkward to use so lets do something about that. "
   ]
  },
  {
   "cell_type": "code",
   "execution_count": null,
   "metadata": {
    "collapsed": false
   },
   "outputs": [],
   "source": [
    "print(df.index[0])"
   ]
  },
  {
   "cell_type": "markdown",
   "metadata": {},
   "source": [
    "This is a string and python will just treat it as such. We need to use datetime to pick this string appart and change it into an oject we can use.\n",
    "\n",
    "[To the Docs!](https://docs.python.org/2/library/datetime.html#strftime-strptime-behavior)\n",
    "\n",
    "So we use the formatting commands to match up with the string we have."
   ]
  },
  {
   "cell_type": "code",
   "execution_count": null,
   "metadata": {
    "collapsed": false
   },
   "outputs": [],
   "source": [
    "dt_obj = datetime.datetime.strptime(df.index[0], '%Y-%m-%dT%H:%M:%S.%f')\n",
    "print(dt_obj)"
   ]
  },
  {
   "cell_type": "markdown",
   "metadata": {},
   "source": [
    "Now the next logical step would be to make a for loop and iterate over the index and reassign it. *HOWEVER* there is almost always a better way. And Pandas has a `to_dateime()` method that we can feed the index:"
   ]
  },
  {
   "cell_type": "code",
   "execution_count": null,
   "metadata": {
    "collapsed": false
   },
   "outputs": [],
   "source": [
    "df.index = pd.to_datetime(df.index)\n",
    "df"
   ]
  },
  {
   "cell_type": "markdown",
   "metadata": {},
   "source": [
    "Much easier. Note that the format of table has now changed and are pandas specific datetime objects, and looks like this:"
   ]
  },
  {
   "cell_type": "code",
   "execution_count": null,
   "metadata": {
    "collapsed": false
   },
   "outputs": [],
   "source": [
    "df.index[0]"
   ]
  },
  {
   "cell_type": "markdown",
   "metadata": {},
   "source": [
    "This means we can bin data according to time"
   ]
  },
  {
   "cell_type": "code",
   "execution_count": null,
   "metadata": {
    "collapsed": false
   },
   "outputs": [],
   "source": [
    "l_bins = pd.groupby(df['max_len'], by=[df.index.year, df.index.month])\n",
    "print(len(l_bins))"
   ]
  },
  {
   "cell_type": "markdown",
   "metadata": {},
   "source": [
    "Here we have used the groupby command to take the `'max_len'` column, called as a dictionary key, and create bins for our data to sit in according to year and then month. \n",
    "\n",
    "The object `l_bins` has `mean`, `max`, `std` etc. attributes in the same way as the numpy arrays we handled the other day."
   ]
  },
  {
   "cell_type": "code",
   "execution_count": null,
   "metadata": {
    "collapsed": true
   },
   "outputs": [],
   "source": [
    "l_mean = l_bins.mean()\n",
    "l_std = l_bins.std()\n"
   ]
  },
  {
   "cell_type": "markdown",
   "metadata": {},
   "source": [
    "Lets not forget that `l_bins` is a list of bins so when we print out `l_mean` we get:"
   ]
  },
  {
   "cell_type": "code",
   "execution_count": null,
   "metadata": {
    "collapsed": false
   },
   "outputs": [],
   "source": [
    "print(l_mean)\n"
   ]
  },
  {
   "cell_type": "markdown",
   "metadata": {},
   "source": [
    "Now we have all this data we can build a lovely bargraph with error bars and wonderful things like that.\n",
    "\n",
    "Remember, these pandas objects have functions associated with them, and one of them is a plot command."
   ]
  },
  {
   "cell_type": "code",
   "execution_count": null,
   "metadata": {
    "collapsed": false
   },
   "outputs": [],
   "source": [
    "fig, ax = plt.subplots()\n",
    "fig.autofmt_xdate()\n",
    "l_mean.plot(kind='bar', ax=ax, yerr=l_std, grid=False, legend=False)\n",
    "\n",
    "plt.show()"
   ]
  },
  {
   "cell_type": "markdown",
   "metadata": {},
   "source": [
    "Note that the date on the x-axis is a little messed up we can fix with `fig.autofmt_xdate()`\n",
    "\n"
   ]
  },
  {
   "cell_type": "markdown",
   "metadata": {},
   "source": [
    "<section class=\"objectives panel panel-success\">\n",
    "<div class=\"panel-heading\">\n",
    "<h2><span class=\"fa fa-pencil\"></span> How do the lifetimes change? </h2>\n",
    "</div>\n",
    "<br/>\n",
    "Now that we have the plot for the maximum length, now make a bar graph of the lifetimes of the features.\n",
    "\n",
    "\n",
    "<br/>\n",
    "</section>"
   ]
  },
  {
   "cell_type": "code",
   "execution_count": null,
   "metadata": {
    "collapsed": true
   },
   "outputs": [],
   "source": []
  },
  {
   "cell_type": "markdown",
   "metadata": {},
   "source": [
    "\n",
    "<br/>\n",
    "<section class=\"objectives panel panel-success\">\n",
    "<div class=\"panel-heading\">\n",
    "<h2><span class=\"fa fa-pencil\"></span> Exoplanet Data </h2>\n",
    "</div>\n",
    "<br/>\n",
    "Now, to all the astronomers out there, let us process some real data. We have some txt files containing the lightcurve from a recent paper. Can you process the data and show us the planet?\n",
    "\n",
    "HINT: You'll need to treat this data slightly differently. The date here is in Julian Day so you will need to use [these](http://docs.astropy.org/en/v1.1.1/api/astropy.time.Time.html) docs to convert it to a sensible datetime object, before you make the DataFrame.\n",
    "\n",
    "\n",
    "<br/>\n",
    "</section>\n",
    "\n"
   ]
  },
  {
   "cell_type": "code",
   "execution_count": null,
   "metadata": {
    "collapsed": false
   },
   "outputs": [],
   "source": [
    "import numpy as np\n",
    "ep_data = np.loadtxt('data/XO1_wl_transit_FLUX.txt')\n"
   ]
  },
  {
   "cell_type": "code",
   "execution_count": null,
   "metadata": {
    "collapsed": false
   },
   "outputs": [],
   "source": [
    "ep_dict = {'flux':ep_data[:, 1], \n",
    "           'err_flux':ep_data[:, 2]}"
   ]
  },
  {
   "cell_type": "code",
   "execution_count": null,
   "metadata": {
    "collapsed": false
   },
   "outputs": [],
   "source": [
    "ep_df = pd.DataFrame(data=ep_dict, index=ep_data[:,0])\n",
    "ep_df.index = pd.to_datetime(ep_df.index)"
   ]
  },
  {
   "cell_type": "code",
   "execution_count": null,
   "metadata": {
    "collapsed": false
   },
   "outputs": [],
   "source": [
    "from astropy.time import Time\n",
    "t = Time(ep_data[:, 0], format='jd')\n",
    "UTC = t.datetime"
   ]
  },
  {
   "cell_type": "code",
   "execution_count": null,
   "metadata": {
    "collapsed": false
   },
   "outputs": [],
   "source": [
    "ep_df.index = UTC"
   ]
  },
  {
   "cell_type": "code",
   "execution_count": null,
   "metadata": {
    "collapsed": false,
    "scrolled": true
   },
   "outputs": [],
   "source": [
    "ep_df\n"
   ]
  },
  {
   "cell_type": "code",
   "execution_count": null,
   "metadata": {
    "collapsed": true
   },
   "outputs": [],
   "source": []
  }
 ],
 "metadata": {
  "kernelspec": {
   "display_name": "Python 2",
   "language": "python2",
   "name": "python2"
  },
  "language_info": {
   "codemirror_mode": {
    "name": "ipython",
    "version": 2
   },
   "file_extension": ".py",
   "mimetype": "text/x-python",
   "name": "python",
   "nbconvert_exporter": "python",
   "pygments_lexer": "ipython2",
   "version": "2.7.11"
  }
 },
 "nbformat": 4,
 "nbformat_minor": 0
}
