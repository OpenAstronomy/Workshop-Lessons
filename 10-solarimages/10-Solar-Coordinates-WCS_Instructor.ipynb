{
 "cells": [
  {
   "cell_type": "markdown",
   "metadata": {
    "ein.tags": [
     "worksheet-0"
    ]
   },
   "source": [
    "# Coordinates and World Coordinate Systems"
   ]
  },
  {
   "cell_type": "markdown",
   "metadata": {},
   "source": [
    "This notebook will give you a introduction to solar physics coordinate systems and the tools availble in Python for coverting between pixel coordinates and different physical coordinate systems. "
   ]
  },
  {
   "cell_type": "markdown",
   "metadata": {},
   "source": [
    "<section class=\"objectives panel panel-warning\">\n",
    "<div class=\"panel-heading\">\n",
    "<h3><span class=\"fa fa-certificate\"></span> Learning Objectives </h3>\n",
    "</div>\n",
    "<ul>\n",
    "    <li>Projected Coordinate Systems in Images</li>\n",
    "    <li>World Coordinate Systems</li>\n",
    "    <li>Using WCS to calculate coordinates in images</li>\n",
    "</ul>\n",
    "</section>"
   ]
  },
  {
   "cell_type": "markdown",
   "metadata": {
    "ein.tags": [
     "worksheet-0"
    ]
   },
   "source": [
    "## Projected Coordinate Systems"
   ]
  },
  {
   "cell_type": "markdown",
   "metadata": {
    "ein.tags": [
     "worksheet-0"
    ]
   },
   "source": [
    "<div style=\"float:left; width:39%\">\n",
    "<p>\n",
    "When taking images of the sky, we are projecting the spherical celestial coordinate system onto a 2-dimensional plane, which means that there is no simple linear relation between pixel coordinates and celestial coordinates\n",
    "</p>\n",
    "<p>\n",
    "There are multiple coordinate systems used to describe the locations in 2D and 3D space for both Astronomy and Solar Physics. We shall use a couple of these systems here as examples but if you want to know more about them there are many of resources avalible.\n",
    "</p>\n",
    "<p>\n",
    "Useful coordinate and WCS resources:\n",
    "<ol>\n",
    "<li>\n",
    "<a href=\"http://www.aanda.org/10.1051/0004-6361:20054262\">\n",
    "Thompson, W. T. Coordinate systems for solar image data. Astronomy and Astrophysics 449, 791–803 (2006).\n",
    "</a>\n",
    "</li>\n",
    "<li>\n",
    "<a href=\"http://www.edpsciences.org/10.1051/0004-6361:20021326\">\n",
    "Greisen, E. W. & Calabretta, M. R. Representations of world coordinates in FITS. Astronomy and Astrophysics 395, 1061–1075 (2002).\n",
    "</a>\n",
    "</li>\n",
    "<li>\n",
    "<a href=\"http://www.edpsciences.org/10.1051/0004-6361:20021327\">\n",
    "Calabretta, M. R. & Greisen, E. W. Representations of celestial coordinates in FITS. Astronomy and Astrophysics 395, 1077–1122 (2002).\n",
    "</a>\n",
    "</li>\n",
    "<li>\n",
    "<a href=\"https://fits.gsfc.nasa.gov/fits_wcs.html\">\n",
    "FITS WCS Page\n",
    "</a>\n",
    "</li>\n",
    "</ol>\n",
    "\n",
    "</div>\n",
    "<div style=\"float:left; width:59%\">\n",
    "<img src=\"coord_inset.png\" width=100% />\n",
    "</div>"
   ]
  },
  {
   "cell_type": "markdown",
   "metadata": {},
   "source": [
    "### Physical Coordinate Systems"
   ]
  },
  {
   "cell_type": "markdown",
   "metadata": {},
   "source": [
    "Projected coordinate systems are one type of physical coordinate systems, they are the one we will be focusing on in this lesson due to their applicability to imaging data. Astropy and SunPy support representing point in many different physical coordinate systems, both projected and fully 3D, such as ICRS or Helioprojective."
   ]
  },
  {
   "cell_type": "markdown",
   "metadata": {},
   "source": [
    "SunPy supports the following coordinate systems from Thompson (2006):\n",
    "\n",
    "* Helioprojective (Cartesian)\n",
    "* Heliocentric\n",
    "* Heliographic (Stonyhurst)\n",
    "* Heliographic (Carrington)"
   ]
  },
  {
   "cell_type": "code",
   "execution_count": 3,
   "metadata": {
    "collapsed": false
   },
   "outputs": [
    {
     "name": "stderr",
     "output_type": "stream",
     "text": [
      "WARNING: AstropyDeprecationWarning: astropy.utils.compat.odict.OrderedDict is now deprecated - import OrderedDict from the collections module instead [astropy.utils.compat.odict]\n"
     ]
    }
   ],
   "source": [
    "import sunpy.coordinates\n",
    "from astropy.coordinates import SkyCoord\n",
    "import astropy.units as u"
   ]
  },
  {
   "cell_type": "code",
   "execution_count": null,
   "metadata": {
    "collapsed": false
   },
   "outputs": [],
   "source": [
    "hpc = SkyCoord(100*u.arcsec, 700*u.arcsec, frame='helioprojective')\n",
    "hpc"
   ]
  },
  {
   "cell_type": "code",
   "execution_count": null,
   "metadata": {
    "collapsed": false
   },
   "outputs": [],
   "source": [
    "hpc.transform_to('heliographic_stonyhurst')"
   ]
  },
  {
   "cell_type": "markdown",
   "metadata": {
    "ein.tags": [
     "worksheet-0"
    ]
   },
   "source": [
    "## World Coordinate Systems\n",
    "\n",
    "### From pixels  to physical coordinates"
   ]
  },
  {
   "cell_type": "markdown",
   "metadata": {
    "ein.tags": [
     "worksheet-0"
    ]
   },
   "source": [
    "The FITS files have a standard for describing the physical coordinate system associated with imaging data, this is called the world coordinate system or WCS, sometimes the specific FITS version of this is referred to as FITS-WCS.\n",
    "\n",
    "There are multiple papers describing the FITS-WCS standard for various types of data, there is a list here: http://fits.gsfc.nasa.gov/fits_wcs.html"
   ]
  },
  {
   "cell_type": "markdown",
   "metadata": {
    "ein.tags": [
     "worksheet-0"
    ]
   },
   "source": [
    "As you learned in the previous lesson we can load FITS files with Astropy. To demonstrate a simple example of a FITS file with FITS-WCS information in the header we shall use an image from SunPy:"
   ]
  },
  {
   "cell_type": "code",
   "execution_count": 4,
   "metadata": {
    "autoscroll": "json-false",
    "collapsed": false,
    "ein.tags": [
     "worksheet-0"
    ],
    "scrolled": true
   },
   "outputs": [
    {
     "data": {
      "text/plain": [
       "SIMPLE  =                    T / file does conform to FITS standard             \n",
       "BITPIX  =                   32 / number of bits per data pixel                  \n",
       "NAXIS   =                    2 / number of data axes                            \n",
       "NAXIS1  =                 1024 / length of data axis 1                          \n",
       "NAXIS2  =                 1024 / length of data axis 2                          \n",
       "EXTEND  =                    T / FITS dataset may contain extensions            \n",
       "COMMENT   FITS (Flexible Image Transport System) format is defined in 'Astronomy\n",
       "COMMENT   and Astrophysics', volume 376, page 359; bibcode: 2001A&A...376..359H \n",
       "ORIGIN  = 'SDO/JSOC-SDP'                                                        \n",
       "DATE    = '2011-03-19T11:08:25'                                                 \n",
       "TELESCOP= 'SDO/AIA'                                                             \n",
       "INSTRUME= 'AIA_3'                                                               \n",
       "DATE-OBS= '2011-03-19T10:54:00.34'                                              \n",
       "T_OBS   = '2011-03-19T10:54:01.34Z'                                             \n",
       "TOBSSTEP= 90.000000                                                             \n",
       "TOBSEPOC= '1977.01.01_00:00:00_TAI'                                             \n",
       "CAMERA  =                    3                                                  \n",
       "IMG_TYPE= 'LIGHT'                                                               \n",
       "EXPTIME = 1.999601                                                              \n",
       "EXPSDEV = 0.000160                                                              \n",
       "INT_TIME= 2.273438                                                              \n",
       "WAVELNTH=                  171                                                  \n",
       "WAVEUNIT= 'angstrom'                                                            \n",
       "WAVE_STR= '171_THIN'                                                            \n",
       "FSN     =             22642033                                                  \n",
       "FID     =                    0                                                  \n",
       "LVL_NUM = 1.500000                                                              \n",
       "QUALLEV0=                    0                                                  \n",
       "QUALITY =           1073741824                                                  \n",
       "TOTVALS =             16777216                                                  \n",
       "DATAVALS=             16777216                                                  \n",
       "MISSVALS=                    0                                                  \n",
       "PERCENTD= 100.00                                                                \n",
       "DATAMIN =                   -7                                                  \n",
       "DATAMAX =                16228                                                  \n",
       "DATAMEDN=                  192                                                  \n",
       "DATAMEAN= 236.57                                                                \n",
       "DATARMS = 294.02                                                                \n",
       "DATASKEW= 4.63                                                                  \n",
       "DATAKURT= 49.56                                                                 \n",
       "OSCNMEAN= 'nan     '                                                            \n",
       "OSCNRMS = 'nan     '                                                            \n",
       "FLAT_REC= 'aia.flatfield[:#7]'                                                  \n",
       "CTYPE1  = 'HPLN-TAN'                                                            \n",
       "CUNIT1  = 'arcsec'                                                              \n",
       "CRVAL1  = 0.000000                                                              \n",
       "CDELT1  = 2.400000                                                              \n",
       "CRPIX1  = 512.500000                                                            \n",
       "CTYPE2  = 'HPLT-TAN'                                                            \n",
       "CUNIT2  = 'arcsec'                                                              \n",
       "CRVAL2  = 0.000000                                                              \n",
       "CDELT2  = 2.400000                                                              \n",
       "CRPIX2  = 512.500000                                                            \n",
       "CROTA2  = 0.000000                                                              \n",
       "R_SUN   = 1608.943970                                                           \n",
       "MPO_REC = 'sdo.master_pointing[:#116]'                                          \n",
       "INST_ROT= 0.102488                                                              \n",
       "IMSCL_MP= 0.599076                                                              \n",
       "X0_MP   = 2052.399902                                                           \n",
       "Y0_MP   = 2046.589966                                                           \n",
       "RSUN_LF = 'nan     '                                                            \n",
       "X0_LF   = 'nan     '                                                            \n",
       "Y0_LF   = 'nan     '                                                            \n",
       "ASD_REC = 'sdo.lev0_asd_0004[:#8948067]'                                        \n",
       "SAT_Y0  = -0.365593                                                             \n",
       "SAT_Z0  = 14.820671                                                             \n",
       "SAT_ROT = -0.000088                                                             \n",
       "ACS_MODE= 'SCIENCE'                                                             \n",
       "ACS_ECLP= 'NO'                                                                  \n",
       "ACS_SUNP= 'YES'                                                                 \n",
       "ACS_SAFE= 'NO'                                                                  \n",
       "ACS_CGT = 'GT3'                                                                 \n",
       "ORB_REC = 'sdo.fds_orbit_vectors[2011.03.19_10:54:00_UTC]'                      \n",
       "DSUN_REF= 149597870691.0                                                        \n",
       "DSUN_OBS= 148940609626.98                                                       \n",
       "RSUN_REF= 696000000.0                                                           \n",
       "RSUN_OBS= 963.879683                                                            \n",
       "GCIEC_X = 'nan     '                                                            \n",
       "GCIEC_Y = 'nan     '                                                            \n",
       "GCIEC_Z = 'nan     '                                                            \n",
       "HCIEC_X = 'nan     '                                                            \n",
       "HCIEC_Y = 'nan     '                                                            \n",
       "HCIEC_Z = 'nan     '                                                            \n",
       "OBS_VR  = -2132.568376                                                          \n",
       "OBS_VW  = 30775.731671                                                          \n",
       "OBS_VN  = 2177.671100                                                           \n",
       "CRLN_OBS= 315.285065                                                            \n",
       "CRLT_OBS= -7.064078                                                             \n",
       "CAR_ROT =                 2108                                                  \n",
       "ROI_NWIN=          -2147483648                                                  \n",
       "ROI_SUM =          -2147483648                                                  \n",
       "ROI_NAX1=          -2147483648                                                  \n",
       "ROI_NAY1=          -2147483648                                                  \n",
       "ROI_LLX1=          -2147483648                                                  \n",
       "ROI_LLY1=          -2147483648                                                  \n",
       "ROI_NAX2=          -2147483648                                                  \n",
       "ROI_NAY2=          -2147483648                                                  \n",
       "ROI_LLX2=          -2147483648                                                  \n",
       "ROI_LLY2=          -2147483648                                                  \n",
       "ISPSNAME= 'aia.lev0_isp_0011'                                                   \n",
       "ISPPKTIM= '2011-03-19T10:53:57.50Z'                                             \n",
       "ISPPKTVN= '001.197'                                                             \n",
       "AIVNMST =                  453                                                  \n",
       "AIMGOTS =           1679223275                                                  \n",
       "ASQHDR  =           2170125681                                                  \n",
       "ASQTNUM =                    2                                                  \n",
       "ASQFSN  =             22642033                                                  \n",
       "AIAHFSN =             22642025                                                  \n",
       "AECDELAY=                 1540                                                  \n",
       "AIAECTI =                    0                                                  \n",
       "AIASEN  =                    0                                                  \n",
       "AIFDBID =                  241                                                  \n",
       "AIMGOTSS=                 5339                                                  \n",
       "AIFCPS  =                   10                                                  \n",
       "AIFTSWTH=                    0                                                  \n",
       "AIFRMLID=                 3024                                                  \n",
       "AIFTSID =                40960                                                  \n",
       "AIHISMXB=                    7                                                  \n",
       "AIHIS192=              8381297                                                  \n",
       "AIHIS348=              8388262                                                  \n",
       "AIHIS604=              8388597                                                  \n",
       "AIHIS860=              8388603                                                  \n",
       "AIFWEN  =                  204                                                  \n",
       "AIMGSHCE=                 2000                                                  \n",
       "AECTYPE =                    0                                                  \n",
       "AECMODE = 'ON'                                                                  \n",
       "AISTATE = 'CLOSED'                                                              \n",
       "AIAECENF=                    1                                                  \n",
       "AIFILTYP=                    0                                                  \n",
       "AIMSHOBC= 41.099998                                                             \n",
       "AIMSHOBE= 26.076000                                                             \n",
       "AIMSHOTC= 55.312000                                                             \n",
       "AIMSHOTE= 69.316002                                                             \n",
       "AIMSHCBC= 2040.791992                                                           \n",
       "AIMSHCBE= 2025.864014                                                           \n",
       "AIMSHCTC= 2054.875977                                                           \n",
       "AIMSHCTE= 2068.676025                                                           \n",
       "AICFGDL1=                    0                                                  \n",
       "AICFGDL2=                  137                                                  \n",
       "AICFGDL3=                  201                                                  \n",
       "AICFGDL4=                  236                                                  \n",
       "AIFOENFL=                    1                                                  \n",
       "AIMGFSN =                    5                                                  \n",
       "AIMGTYP =                    0                                                  \n",
       "AIAWVLEN=                    7                                                  \n",
       "AIAGP1  =                    0                                                  \n",
       "AIAGP2  =                    0                                                  \n",
       "AIAGP3  =                    0                                                  \n",
       "AIAGP4  =                    0                                                  \n",
       "AIAGP5  =                    0                                                  \n",
       "AIAGP6  =                    0                                                  \n",
       "AIAGP7  =                    0                                                  \n",
       "AIAGP8  =                  393                                                  \n",
       "AIAGP9  =                  457                                                  \n",
       "AIAGP10 =                  748                                                  \n",
       "AGT1SVY =                   18                                                  \n",
       "AGT1SVZ =                   10                                                  \n",
       "AGT2SVY =                   10                                                  \n",
       "AGT2SVZ =                    8                                                  \n",
       "AGT3SVY =                    2                                                  \n",
       "AGT3SVZ =                    0                                                  \n",
       "AGT4SVY =                   14                                                  \n",
       "AGT4SVZ =                    0                                                  \n",
       "AIMGSHEN=                    4                                                  \n",
       "RECNUM  =                76202                                                  \n",
       "BLANK   =          -2147483648                                                  \n",
       "BZERO   =                   0.                                                  \n",
       "BSCALE  =               0.0625                                                  \n",
       "CHECKSUM= 'J7qAL7o6J7oAJ7o5'   / HDU checksum updated 2011-03-19T11:08:18       \n",
       "DATASUM = '3958014355'         / data unit checksum updated 2011-03-19T11:08:18 "
      ]
     },
     "execution_count": 4,
     "metadata": {},
     "output_type": "execute_result"
    }
   ],
   "source": [
    "from sunpy.data.sample import AIA_171_IMAGE\n",
    "from astropy.io import fits\n",
    "\n",
    "hdulist = fits.open(AIA_171_IMAGE)\n",
    "hdulist.verify('silentfix')\n",
    "hdulist[0].header"
   ]
  },
  {
   "cell_type": "markdown",
   "metadata": {
    "ein.tags": [
     "worksheet-0"
    ]
   },
   "source": [
    "As you can see there are lots of keys in this and most other real world FITS headers. The ones we need to understand for FITS-WCS are:"
   ]
  },
  {
   "cell_type": "markdown",
   "metadata": {
    "ein.tags": [
     "worksheet-0"
    ]
   },
   "source": [
    "Reference Pixel and Coordinate:"
   ]
  },
  {
   "cell_type": "code",
   "execution_count": null,
   "metadata": {
    "autoscroll": "json-false",
    "collapsed": false,
    "ein.tags": [
     "worksheet-0"
    ]
   },
   "outputs": [],
   "source": [
    "header = hdulist[0].header\n",
    "\n",
    "print(header['CRVAL1'], header['CRVAL2'])\n",
    "print(header['CRPIX1'], header['CRPIX2'])"
   ]
  },
  {
   "cell_type": "markdown",
   "metadata": {
    "ein.tags": [
     "worksheet-0"
    ]
   },
   "source": [
    "Pixel resolution (at the reference pixel):"
   ]
  },
  {
   "cell_type": "code",
   "execution_count": null,
   "metadata": {
    "autoscroll": "json-false",
    "collapsed": false,
    "ein.tags": [
     "worksheet-0"
    ]
   },
   "outputs": [],
   "source": [
    "print(header['CDELT1'], header['CDELT2'])"
   ]
  },
  {
   "cell_type": "markdown",
   "metadata": {
    "ein.tags": [
     "worksheet-0"
    ]
   },
   "source": [
    "Rotation angle, in degress (at the reference pixel):"
   ]
  },
  {
   "cell_type": "code",
   "execution_count": null,
   "metadata": {
    "autoscroll": "json-false",
    "collapsed": false,
    "ein.tags": [
     "worksheet-0"
    ]
   },
   "outputs": [],
   "source": [
    "print(header['CROTA2'])"
   ]
  },
  {
   "cell_type": "markdown",
   "metadata": {
    "ein.tags": [
     "worksheet-0"
    ]
   },
   "source": [
    "Coordinate System and Projection:"
   ]
  },
  {
   "cell_type": "code",
   "execution_count": null,
   "metadata": {
    "autoscroll": "json-false",
    "collapsed": false,
    "ein.tags": [
     "worksheet-0"
    ]
   },
   "outputs": [],
   "source": [
    "print(header['CTYPE1'], header['CTYPE2'])"
   ]
  },
  {
   "cell_type": "markdown",
   "metadata": {
    "ein.tags": [
     "worksheet-0"
    ]
   },
   "source": [
    "We could now sit down and work out how to convert from a pixel coordinate to a physical coordinate described by this header (Helioprojective).\n",
    "\n",
    "However, we can cheat and just use Astropy."
   ]
  },
  {
   "cell_type": "code",
   "execution_count": 10,
   "metadata": {
    "autoscroll": "json-false",
    "collapsed": true,
    "ein.tags": [
     "worksheet-0"
    ]
   },
   "outputs": [],
   "source": [
    "from astropy.wcs import WCS\n",
    "\n",
    "wcs = WCS(header)"
   ]
  },
  {
   "cell_type": "markdown",
   "metadata": {
    "ein.tags": [
     "worksheet-0"
    ]
   },
   "source": [
    "We can convert from pixel to world coordinate:"
   ]
  },
  {
   "cell_type": "code",
   "execution_count": null,
   "metadata": {
    "autoscroll": "json-false",
    "collapsed": false,
    "ein.tags": [
     "worksheet-0"
    ]
   },
   "outputs": [],
   "source": [
    "wcs.wcs_pix2world(((100, 100),), 0)"
   ]
  },
  {
   "cell_type": "markdown",
   "metadata": {
    "ein.tags": [
     "worksheet-0"
    ]
   },
   "source": [
    "Or back again:"
   ]
  },
  {
   "cell_type": "code",
   "execution_count": null,
   "metadata": {
    "autoscroll": "json-false",
    "collapsed": false,
    "ein.tags": [
     "worksheet-0"
    ]
   },
   "outputs": [],
   "source": [
    "wcs.wcs_world2pix([[  3.59725669e+02,  -2.74328093e-01]], 0)"
   ]
  },
  {
   "cell_type": "markdown",
   "metadata": {
    "ein.tags": [
     "worksheet-0"
    ]
   },
   "source": [
    "The last parameter to the two above examples is the 'origin' parameter. It is a flag that tells WCS if you indexes should be 0-based (like numpy) or 1-based (like FITS).\n",
    "Here we are using 0 as we want to convert to and from numpy indexes of the array."
   ]
  },
  {
   "cell_type": "markdown",
   "metadata": {},
   "source": [
    "To make these numbers more in a form you are familiar with, we can use Astropy's Longitude and Latitude classes:"
   ]
  },
  {
   "cell_type": "code",
   "execution_count": null,
   "metadata": {
    "collapsed": true
   },
   "outputs": [],
   "source": [
    "from astropy.coordinates import Longitude, Latitude"
   ]
  },
  {
   "cell_type": "code",
   "execution_count": null,
   "metadata": {
    "collapsed": false
   },
   "outputs": [],
   "source": [
    "lon, lat = wcs.wcs_pix2world(((100, 100),), 0)[0]\n",
    "lon, lat"
   ]
  },
  {
   "cell_type": "code",
   "execution_count": null,
   "metadata": {
    "collapsed": false
   },
   "outputs": [],
   "source": [
    "lon = Longitude(lon*u.deg, wrap_angle=180*u.deg).to(u.arcsec)\n",
    "lat = Latitude(lat*u.deg).to(u.arcsec)\n",
    "\n",
    "lon, lat"
   ]
  },
  {
   "cell_type": "markdown",
   "metadata": {
    "ein.tags": [
     "worksheet-0"
    ]
   },
   "source": [
    "<section class=\"objectives panel panel-success\">\n",
    "<div class=\"panel-heading\">\n",
    "<h2><span class=\"fa fa-pencil\"></span> How large is the image? </h2>\n",
    "</div>\n",
    "<br/>\n",
    "To get a little practise using Astropy's WCS calculate the world coordinates of the following pixels:\n",
    "<code>\n",
    "[-500, 0]\n",
    "[500, 500]\n",
    "[0, 0]\n",
    "</code>\n",
    "<br/>\n",
    "</section>"
   ]
  },
  {
   "cell_type": "code",
   "execution_count": null,
   "metadata": {
    "autoscroll": "json-false",
    "collapsed": false,
    "ein.tags": [
     "worksheet-0"
    ]
   },
   "outputs": [],
   "source": [
    "print(wcs.wcs_pix2world(((-500, 0),), 1))\n",
    "print(wcs.wcs_pix2world(((500, 500),), 1))\n",
    "print(wcs.wcs_pix2world(((0, 0),), 1))"
   ]
  }
 ],
 "metadata": {
  "kernelspec": {
   "display_name": "Environment (sunpy-release)",
   "language": "python",
   "name": "sunpy-release"
  },
  "language_info": {
   "codemirror_mode": {
    "name": "ipython",
    "version": 3
   },
   "file_extension": ".py",
   "mimetype": "text/x-python",
   "name": "python",
   "nbconvert_exporter": "python",
   "pygments_lexer": "ipython3",
   "version": "3.5.2"
  },
  "name": "Astro_Images.ipynb"
 },
 "nbformat": 4,
 "nbformat_minor": 0
}
