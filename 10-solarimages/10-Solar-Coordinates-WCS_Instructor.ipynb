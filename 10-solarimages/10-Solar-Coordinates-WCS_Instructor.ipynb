{
 "cells": [
  {
   "cell_type": "markdown",
   "metadata": {
    "ein.tags": [
     "worksheet-0"
    ]
   },
   "source": [
    "# Coordinates and World Coordinate Systems"
   ]
  },
  {
   "cell_type": "markdown",
   "metadata": {},
   "source": [
    "This notebook will give you a introduction to solar physics coordinate systems and the tools availble in Python for coverting between pixel coordinates and different physical coordinate systems. "
   ]
  },
  {
   "cell_type": "markdown",
   "metadata": {},
   "source": [
    "<section class=\"objectives panel panel-warning\">\n",
    "<div class=\"panel-heading\">\n",
    "<h3><span class=\"fa fa-certificate\"></span> Learning Objectives </h3>\n",
    "</div>\n",
    "<ul>\n",
    "    <li>Projected Coordinate Systems in Images</li>\n",
    "    <li>World Coordinate Systems</li>\n",
    "    <li>Using WCS to calculate coordinates in images</li>\n",
    "</ul>\n",
    "</section>"
   ]
  },
  {
   "cell_type": "markdown",
   "metadata": {
    "ein.tags": [
     "worksheet-0"
    ]
   },
   "source": [
    "## Projected Coordinate Systems"
   ]
  },
  {
   "cell_type": "markdown",
   "metadata": {
    "ein.tags": [
     "worksheet-0"
    ]
   },
   "source": [
    "<div style=\"float:left; width:39%\">\n",
    "<p>\n",
    "When taking images of the sky, we are projecting the spherical celestial coordinate system onto a 2-dimensional plane, which means that there is no simple linear relation between pixel coordinates and celestial coordinates\n",
    "</p>\n",
    "<p>\n",
    "There are multiple coordinate systems used to describe the locations in 2D and 3D space for both Astronomy and Solar Physics. We shall use a couple of these systems here as examples but if you want to know more about them there are many of resources avalible.\n",
    "</p>\n",
    "<p>\n",
    "Useful coordinate and WCS resources:\n",
    "<ol>\n",
    "<li>\n",
    "<a href=\"http://www.aanda.org/10.1051/0004-6361:20054262\">\n",
    "Thompson, W. T. Coordinate systems for solar image data. Astronomy and Astrophysics 449, 791–803 (2006).\n",
    "</a>\n",
    "</li>\n",
    "<li>\n",
    "<a href=\"http://www.edpsciences.org/10.1051/0004-6361:20021326\">\n",
    "Greisen, E. W. & Calabretta, M. R. Representations of world coordinates in FITS. Astronomy and Astrophysics 395, 1061–1075 (2002).\n",
    "</a>\n",
    "</li>\n",
    "<li>\n",
    "<a href=\"http://www.edpsciences.org/10.1051/0004-6361:20021327\">\n",
    "Calabretta, M. R. & Greisen, E. W. Representations of celestial coordinates in FITS. Astronomy and Astrophysics 395, 1077–1122 (2002).\n",
    "</a>\n",
    "</li>\n",
    "<li>\n",
    "<a href=\"https://fits.gsfc.nasa.gov/fits_wcs.html\">\n",
    "FITS WCS Page\n",
    "</a>\n",
    "</li>\n",
    "</ol>\n",
    "\n",
    "</div>\n",
    "<div style=\"float:left; width:59%\">\n",
    "<img src=\"coord_inset.png\" width=100% />\n",
    "</div>"
   ]
  },
  {
   "cell_type": "markdown",
   "metadata": {},
   "source": [
    "### Physical Coordinate Systems"
   ]
  },
  {
   "cell_type": "markdown",
   "metadata": {},
   "source": [
    "Projected coordinate systems are one type of physical coordinate systems, they are the one we will be focusing on in this lesson due to their applicability to imaging data. Astropy and SunPy support representing point in many different physical coordinate systems, both projected and fully 3D, such as ICRS or Helioprojective."
   ]
  },
  {
   "cell_type": "markdown",
   "metadata": {},
   "source": [
    "SunPy supports the following coordinate systems from Thompson (2006):\n",
    "\n",
    "* Helioprojective (Cartesian)\n",
    "* Heliocentric\n",
    "* Heliographic (Stonyhurst)\n",
    "* Heliographic (Carrington)"
   ]
  },
  {
   "cell_type": "code",
   "execution_count": null,
   "metadata": {
    "collapsed": false
   },
   "outputs": [],
   "source": [
    "import sunpy.coordinates\n",
    "from astropy.coordinates import SkyCoord\n",
    "import astropy.units as u"
   ]
  },
  {
   "cell_type": "code",
   "execution_count": null,
   "metadata": {
    "collapsed": false
   },
   "outputs": [],
   "source": [
    "hpc = SkyCoord(100*u.arcsec, 700*u.arcsec, frame='helioprojective')\n",
    "hpc"
   ]
  },
  {
   "cell_type": "code",
   "execution_count": null,
   "metadata": {
    "collapsed": false
   },
   "outputs": [],
   "source": [
    "hpc.transform_to('heliographic_stonyhurst')"
   ]
  },
  {
   "cell_type": "code",
   "execution_count": null,
   "metadata": {
    "collapsed": false
   },
   "outputs": [],
   "source": [
    "hpc.transform_to(\"heliographic_carrington\")"
   ]
  },
  {
   "cell_type": "code",
   "execution_count": null,
   "metadata": {
    "collapsed": false
   },
   "outputs": [],
   "source": [
    "hpc = SkyCoord(100*u.arcsec, 700*u.arcsec, dateobs='now', frame='helioprojective')\n",
    "hpc.transform_to(\"heliographic_carrington\")"
   ]
  },
  {
   "cell_type": "markdown",
   "metadata": {
    "ein.tags": [
     "worksheet-0"
    ]
   },
   "source": [
    "## World Coordinate Systems\n",
    "\n",
    "### From pixels  to physical coordinates"
   ]
  },
  {
   "cell_type": "markdown",
   "metadata": {
    "ein.tags": [
     "worksheet-0"
    ]
   },
   "source": [
    "The FITS files have a standard for describing the physical coordinate system associated with imaging data, this is called the world coordinate system or WCS, sometimes the specific FITS version of this is referred to as FITS-WCS.\n",
    "\n",
    "There are multiple papers describing the FITS-WCS standard for various types of data, there is a list here: http://fits.gsfc.nasa.gov/fits_wcs.html"
   ]
  },
  {
   "cell_type": "markdown",
   "metadata": {
    "ein.tags": [
     "worksheet-0"
    ]
   },
   "source": [
    "As you learned in the previous lesson we can load FITS files with Astropy. To demonstrate a simple example of a FITS file with FITS-WCS information in the header we shall use an image from SunPy:"
   ]
  },
  {
   "cell_type": "code",
   "execution_count": null,
   "metadata": {
    "autoscroll": "json-false",
    "collapsed": false,
    "ein.tags": [
     "worksheet-0"
    ],
    "scrolled": true
   },
   "outputs": [],
   "source": [
    "from sunpy.data.sample import AIA_171_IMAGE\n",
    "from astropy.io import fits\n",
    "\n",
    "hdulist = fits.open(AIA_171_IMAGE)\n",
    "hdulist.verify('silentfix')\n",
    "hdulist[0].header"
   ]
  },
  {
   "cell_type": "markdown",
   "metadata": {
    "ein.tags": [
     "worksheet-0"
    ]
   },
   "source": [
    "As you can see there are lots of keys in this and most other real world FITS headers. The ones we need to understand for FITS-WCS are:"
   ]
  },
  {
   "cell_type": "markdown",
   "metadata": {
    "ein.tags": [
     "worksheet-0"
    ]
   },
   "source": [
    "Reference Pixel and Coordinate:"
   ]
  },
  {
   "cell_type": "code",
   "execution_count": null,
   "metadata": {
    "autoscroll": "json-false",
    "collapsed": false,
    "ein.tags": [
     "worksheet-0"
    ]
   },
   "outputs": [],
   "source": [
    "header = hdulist[0].header\n",
    "\n",
    "print(header['CRVAL1'], header['CRVAL2'])\n",
    "print(header['CRPIX1'], header['CRPIX2'])"
   ]
  },
  {
   "cell_type": "markdown",
   "metadata": {
    "ein.tags": [
     "worksheet-0"
    ]
   },
   "source": [
    "Pixel resolution (at the reference pixel):"
   ]
  },
  {
   "cell_type": "code",
   "execution_count": null,
   "metadata": {
    "autoscroll": "json-false",
    "collapsed": false,
    "ein.tags": [
     "worksheet-0"
    ]
   },
   "outputs": [],
   "source": [
    "print(header['CDELT1'], header['CDELT2'])"
   ]
  },
  {
   "cell_type": "markdown",
   "metadata": {
    "ein.tags": [
     "worksheet-0"
    ]
   },
   "source": [
    "Rotation angle, in degress (at the reference pixel):"
   ]
  },
  {
   "cell_type": "code",
   "execution_count": null,
   "metadata": {
    "autoscroll": "json-false",
    "collapsed": false,
    "ein.tags": [
     "worksheet-0"
    ]
   },
   "outputs": [],
   "source": [
    "print(header['CROTA2'])"
   ]
  },
  {
   "cell_type": "markdown",
   "metadata": {
    "ein.tags": [
     "worksheet-0"
    ]
   },
   "source": [
    "Coordinate System and Projection:"
   ]
  },
  {
   "cell_type": "code",
   "execution_count": null,
   "metadata": {
    "autoscroll": "json-false",
    "collapsed": false,
    "ein.tags": [
     "worksheet-0"
    ]
   },
   "outputs": [],
   "source": [
    "print(header['CTYPE1'], header['CTYPE2'])"
   ]
  },
  {
   "cell_type": "markdown",
   "metadata": {
    "ein.tags": [
     "worksheet-0"
    ]
   },
   "source": [
    "We could now sit down and work out how to convert from a pixel coordinate to a physical coordinate described by this header (Helioprojective).\n",
    "\n",
    "However, we can cheat and just use Astropy."
   ]
  },
  {
   "cell_type": "code",
   "execution_count": null,
   "metadata": {
    "autoscroll": "json-false",
    "collapsed": true,
    "ein.tags": [
     "worksheet-0"
    ]
   },
   "outputs": [],
   "source": [
    "from astropy.wcs import WCS\n",
    "\n",
    "wcs = WCS(header)"
   ]
  },
  {
   "cell_type": "markdown",
   "metadata": {
    "ein.tags": [
     "worksheet-0"
    ]
   },
   "source": [
    "We can convert from pixel to world coordinate:"
   ]
  },
  {
   "cell_type": "code",
   "execution_count": null,
   "metadata": {
    "autoscroll": "json-false",
    "collapsed": false,
    "ein.tags": [
     "worksheet-0"
    ]
   },
   "outputs": [],
   "source": [
    "wcs.wcs_pix2world(((100, 100),), 0)"
   ]
  },
  {
   "cell_type": "markdown",
   "metadata": {
    "ein.tags": [
     "worksheet-0"
    ]
   },
   "source": [
    "Or back again:"
   ]
  },
  {
   "cell_type": "code",
   "execution_count": null,
   "metadata": {
    "autoscroll": "json-false",
    "collapsed": false,
    "ein.tags": [
     "worksheet-0"
    ]
   },
   "outputs": [],
   "source": [
    "wcs.wcs_world2pix([[  3.59725669e+02,  -2.74328093e-01]], 0)"
   ]
  },
  {
   "cell_type": "markdown",
   "metadata": {
    "ein.tags": [
     "worksheet-0"
    ]
   },
   "source": [
    "The last parameter to the two above examples is the 'origin' parameter. It is a flag that tells WCS if you indexes should be 0-based (like numpy) or 1-based (like FITS).\n",
    "Here we are using 0 as we want to convert to and from numpy indexes of the array."
   ]
  },
  {
   "cell_type": "markdown",
   "metadata": {},
   "source": [
    "To make these numbers more in a form you are familiar with, we can use Astropy's Longitude and Latitude classes:"
   ]
  },
  {
   "cell_type": "code",
   "execution_count": null,
   "metadata": {
    "collapsed": true
   },
   "outputs": [],
   "source": [
    "from astropy.coordinates import Longitude, Latitude"
   ]
  },
  {
   "cell_type": "code",
   "execution_count": null,
   "metadata": {
    "collapsed": false
   },
   "outputs": [],
   "source": [
    "lon, lat = wcs.wcs_pix2world(((100, 100),), 0)[0]\n",
    "lon, lat"
   ]
  },
  {
   "cell_type": "code",
   "execution_count": null,
   "metadata": {
    "collapsed": false
   },
   "outputs": [],
   "source": [
    "lon = Longitude(lon*u.deg, wrap_angle=180*u.deg).to(u.arcsec)\n",
    "lat = Latitude(lat*u.deg).to(u.arcsec)\n",
    "\n",
    "lon, lat"
   ]
  },
  {
   "cell_type": "markdown",
   "metadata": {
    "ein.tags": [
     "worksheet-0"
    ]
   },
   "source": [
    "<section class=\"objectives panel panel-success\">\n",
    "<div class=\"panel-heading\">\n",
    "<h2><span class=\"fa fa-pencil\"></span> How large is the image? </h2>\n",
    "</div>\n",
    "<br/>\n",
    "To get a little practise using Astropy's WCS calculate the world coordinates of the following pixels:\n",
    "<code>\n",
    "[-500, 0]\n",
    "[500, 500]\n",
    "[0, 0]\n",
    "</code>\n",
    "<br/>\n",
    "</section>"
   ]
  },
  {
   "cell_type": "code",
   "execution_count": null,
   "metadata": {
    "autoscroll": "json-false",
    "collapsed": false,
    "ein.tags": [
     "worksheet-0"
    ]
   },
   "outputs": [],
   "source": [
    "print(wcs.wcs_pix2world(((-500, 0),), 1))\n",
    "print(wcs.wcs_pix2world(((500, 500),), 1))\n",
    "print(wcs.wcs_pix2world(((0, 0),), 1))"
   ]
  }
 ],
 "metadata": {
  "kernelspec": {
   "display_name": "Environment (sunpy-release)",
   "language": "python",
   "name": "sunpy-release"
  },
  "language_info": {
   "codemirror_mode": {
    "name": "ipython",
    "version": 3
   },
   "file_extension": ".py",
   "mimetype": "text/x-python",
   "name": "python",
   "nbconvert_exporter": "python",
   "pygments_lexer": "ipython3",
   "version": "3.5.2"
  },
  "name": "Astro_Images.ipynb"
 },
 "nbformat": 4,
 "nbformat_minor": 0
}
