{
 "cells": [
  {
   "cell_type": "markdown",
   "metadata": {
    "collapsed": true
   },
   "source": [
    "# Three Dimensional Cubes "
   ]
  },
  {
   "cell_type": "markdown",
   "metadata": {},
   "source": [
    "<section class=\"objectives panel panel-warning\">\n",
    "<div class=\"panel-heading\">\n",
    "<h3><span class=\"fa fa-certificate\"></span> Learning Objectives </h3>\n",
    "</div>\n",
    "<ul>\n",
    "    <li>Plotting cubes with WCS objects</li>\n",
    "    <li>Exploring Cubes with SunPy</li>\n",
    "</ul>\n",
    "</section>"
   ]
  },
  {
   "cell_type": "markdown",
   "metadata": {
    "collapsed": true
   },
   "source": [
    "Cube arrays are quite common in ground based and spectral type data, so we are going to use one as an example. SunPy has no wrapper class (like `Map`) for multi-dimensional data so this is an excellent way to use the things we have covered so far."
   ]
  },
  {
   "cell_type": "code",
   "execution_count": null,
   "metadata": {
    "collapsed": false
   },
   "outputs": [],
   "source": [
    "%matplotlib notebook\n",
    "import matplotlib.pyplot as plt\n",
    "\n",
    "import astropy.units as u\n",
    "from astropy.io import fits\n",
    "from astropy.wcs import WCS\n",
    "\n",
    "import sunpy.coordinates"
   ]
  },
  {
   "cell_type": "markdown",
   "metadata": {
    "collapsed": true
   },
   "source": [
    "Download the file:"
   ]
  },
  {
   "cell_type": "code",
   "execution_count": null,
   "metadata": {
    "collapsed": true
   },
   "outputs": [],
   "source": [
    "from astropy.utils.data import download_file\n",
    "\n",
    "cube_file = download_file(\"http://data.sunpy.org/CRISP_LXY_Cube.fits.gz\", cache=True)"
   ]
  },
  {
   "cell_type": "markdown",
   "metadata": {},
   "source": [
    "Read in the cube FITS file"
   ]
  },
  {
   "cell_type": "code",
   "execution_count": null,
   "metadata": {
    "collapsed": false
   },
   "outputs": [],
   "source": [
    "hdulist = fits.open(cube_file)\n",
    "hdulist.info()"
   ]
  },
  {
   "cell_type": "code",
   "execution_count": null,
   "metadata": {
    "collapsed": false
   },
   "outputs": [],
   "source": [
    "header = hdulist[0].header\n",
    "data = hdulist[0].data"
   ]
  },
  {
   "cell_type": "code",
   "execution_count": null,
   "metadata": {
    "collapsed": false
   },
   "outputs": [],
   "source": [
    "data.shape"
   ]
  },
  {
   "cell_type": "markdown",
   "metadata": {},
   "source": [
    "From this cube file we can construct an [`astropy.wcs`](http://docs.astropy.org/en/stable/wcs/index.html) object from the FITS header and then plot images from the array.\n",
    "\n",
    "You can build a `WCS` object from a filepath or a header or a dictionary. Here we use the header object from the cube."
   ]
  },
  {
   "cell_type": "code",
   "execution_count": null,
   "metadata": {
    "collapsed": false
   },
   "outputs": [],
   "source": [
    "wcs = WCS(header)"
   ]
  },
  {
   "cell_type": "markdown",
   "metadata": {},
   "source": [
    "For this `WCS` object to correctly create SunPy coordinates objects, it needs to have correct Sun-Earth distance information. By default it currently uses 1 AU, which is almost always incorrect!\n",
    "\n",
    "We can do this from the date of the observations using `sunpy.sun`. SunPy will attempt to read the observer location information from three attributes. The one we are setting is `dsun`."
   ]
  },
  {
   "cell_type": "code",
   "execution_count": null,
   "metadata": {
    "collapsed": true
   },
   "outputs": [],
   "source": [
    "from sunpy import sun\n",
    "\n",
    "# Set the correct Sun-Earth distance\n",
    "wcs.dsun = sun.sunearth_distance(wcs.wcs.dateobs).to(u.m)"
   ]
  },
  {
   "cell_type": "code",
   "execution_count": null,
   "metadata": {
    "collapsed": false
   },
   "outputs": [],
   "source": [
    "wcs"
   ]
  },
  {
   "cell_type": "markdown",
   "metadata": {},
   "source": [
    "This cube has three axes: Wavelength, Longitude, Latitude. Note that the WCS axis ordering is out of order with the array, this is due to the "
   ]
  },
  {
   "cell_type": "code",
   "execution_count": null,
   "metadata": {
    "collapsed": false
   },
   "outputs": [],
   "source": [
    "data.shape"
   ]
  },
  {
   "cell_type": "markdown",
   "metadata": {},
   "source": [
    "**Note:** The WCS axis ordering and the array order are reversed. The wavelength axis here is 32 long."
   ]
  },
  {
   "cell_type": "markdown",
   "metadata": {},
   "source": [
    "### Plot a Line Wing"
   ]
  },
  {
   "cell_type": "code",
   "execution_count": null,
   "metadata": {
    "collapsed": false,
    "scrolled": false
   },
   "outputs": [],
   "source": [
    "fig = plt.figure()\n",
    "ax = plt.subplot(projection=wcs, slices=('x', 'y', 0))\n",
    "\n",
    "ax.imshow(data[0, :, :], origin='lower', interpolation='none', cmap='gray')"
   ]
  },
  {
   "cell_type": "markdown",
   "metadata": {},
   "source": [
    "### Plot the Line Core"
   ]
  },
  {
   "cell_type": "code",
   "execution_count": null,
   "metadata": {
    "collapsed": false
   },
   "outputs": [],
   "source": [
    "fig = plt.figure()\n",
    "ax = plt.subplot(projection=wcs, slices=('x', 'y', 18))\n",
    "\n",
    "ax.imshow(data[18, :, :], origin='lower', interpolation='none', cmap='gray')\n",
    "\n",
    "lon, lat, wave = ax.coords\n",
    "\n",
    "lat.set_major_formatter('s.s')\n",
    "lon.set_major_formatter('s.s')"
   ]
  },
  {
   "cell_type": "markdown",
   "metadata": {},
   "source": [
    "<section class=\"objectives panel panel-success\">\n",
    "<div class=\"panel-heading\">\n",
    "<h2><span class=\"fa fa-pencil\"></span> Plot a Wavelength Slice </h2>\n",
    "</div>\n",
    "<p>\n",
    "Change the slice to plot a slice through the cube in the longitude axis. Optionally, change the formatting of the wavelength ticks and add better axis labels.\n",
    "</p>\n",
    "</section>"
   ]
  },
  {
   "cell_type": "code",
   "execution_count": null,
   "metadata": {
    "collapsed": false
   },
   "outputs": [],
   "source": [
    "fig = plt.figure()\n",
    "ax = plt.subplot(projection=wcs, slices=('x', 330, 'y'))\n",
    "\n",
    "ax.imshow(data[:, 330, :], origin='lower', interpolation='none', cmap='gray', aspect='auto')"
   ]
  },
  {
   "cell_type": "code",
   "execution_count": null,
   "metadata": {
    "collapsed": false
   },
   "outputs": [],
   "source": [
    "fig = plt.figure()\n",
    "ax = plt.subplot(projection=wcs, slices=('y', 330, 'x'))\n",
    "\n",
    "# Transpose the array so the wavelength dimension is last ('x')\n",
    "ax.imshow(data[:, 330, :].T, origin='lower', interpolation='none', cmap='gray', aspect='auto')\n",
    "\n",
    "lon, lat, wave = ax.coords\n",
    "\n",
    "# Make the wavelength ticks nice\n",
    "wave.set_major_formatter('x.xx')\n",
    "wave.set_format_unit(u.nm)\n",
    "wave.set_ticks(spacing=0.05*u.nm)\n",
    "\n",
    "lat.set_major_formatter('s.s')\n",
    "lon.set_major_formatter('s.s')\n",
    "\n",
    "lat.set_axislabel(\"Helioprojective Latitude [arcsec]\")\n",
    "lon.set_axislabel(\"Helioprojective Longitude [arcsec]\")\n",
    "wave.set_axislabel(\"Wavelength [nm]\")"
   ]
  },
  {
   "cell_type": "markdown",
   "metadata": {},
   "source": [
    "### Overplot the Heliograpic Grid"
   ]
  },
  {
   "cell_type": "markdown",
   "metadata": {},
   "source": [
    "Extract a spatial axis only WCS"
   ]
  },
  {
   "cell_type": "code",
   "execution_count": null,
   "metadata": {
    "collapsed": false
   },
   "outputs": [],
   "source": [
    "sub = wcs.sub(axes=[1,2])\n",
    "sub"
   ]
  },
  {
   "cell_type": "code",
   "execution_count": null,
   "metadata": {
    "autoscroll": "json-false",
    "collapsed": false,
    "ein.tags": [
     "worksheet-0"
    ]
   },
   "outputs": [],
   "source": [
    "fig = plt.figure()\n",
    "ax = plt.subplot(projection=sub)\n",
    "ax.imshow(data[0], cmap='gray', interpolation='none', origin='lower')\n",
    "lon, lat = ax.coords\n",
    "lon.set_major_formatter('s.s')\n",
    "lat.set_major_formatter('s.s')\n",
    "\n",
    "lat.set_axislabel(\"Helioprojective Latitude [arcsec]\")\n",
    "lon.set_axislabel(\"Helioprojective Longitude [arcsec]\")\n",
    "\n",
    "lon.set_ticks_position('bl')\n",
    "lat.set_ticks_position('bl')\n",
    "\n",
    "overlay = ax.get_coords_overlay('heliographic_stonyhurst')\n",
    "overlay.grid()\n",
    "\n",
    "hglon, hglat = overlay\n",
    "\n",
    "hglon.set_ticks_position('tr')\n",
    "hglat.set_ticks_position('tr')\n",
    "\n",
    "\n",
    "hglat.set_axislabel(\"Heliographic Latitude [deg]\")\n",
    "hglon.set_axislabel(\"Heliographic Longitude [deg]\")"
   ]
  },
  {
   "cell_type": "markdown",
   "metadata": {},
   "source": [
    "## Cube Exploration with SunPy"
   ]
  },
  {
   "cell_type": "markdown",
   "metadata": {},
   "source": [
    "SunPy has a little animation utility which is good for a quick look through multi-dimensional cube data. It can handle arrays with any number of dimensions."
   ]
  },
  {
   "cell_type": "code",
   "execution_count": null,
   "metadata": {
    "collapsed": true
   },
   "outputs": [],
   "source": [
    "from sunpy.visualization.imageanimator import ImageAnimator"
   ]
  },
  {
   "cell_type": "code",
   "execution_count": null,
   "metadata": {
    "collapsed": false
   },
   "outputs": [],
   "source": [
    "ImageAnimator(data, cmap='gray')"
   ]
  }
 ],
 "metadata": {
  "kernelspec": {
   "display_name": "Environment (sunpy-release)",
   "language": "python",
   "name": "sunpy-release"
  },
  "language_info": {
   "codemirror_mode": {
    "name": "ipython",
    "version": 3
   },
   "file_extension": ".py",
   "mimetype": "text/x-python",
   "name": "python",
   "nbconvert_exporter": "python",
   "pygments_lexer": "ipython3",
   "version": "3.5.2"
  },
  "name": "Astro_Images.ipynb"
 },
 "nbformat": 4,
 "nbformat_minor": 0
}
